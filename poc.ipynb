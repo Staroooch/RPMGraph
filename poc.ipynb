{
 "cells": [
  {
   "cell_type": "code",
   "execution_count": 1,
   "id": "97193108-e0af-4e2e-b0f7-2460aa97894c",
   "metadata": {},
   "outputs": [],
   "source": [
    "import matplotlib.pyplot as plt\n",
    "from IPython.display import SVG, display\n",
    "import networkx as nx\n",
    "import json\n",
    "\n",
    "from lib import DNF, filter_duplicates"
   ]
  },
  {
   "cell_type": "code",
   "execution_count": 2,
   "id": "997c743f-e3ce-4eb0-9dc8-a5f534a74218",
   "metadata": {},
   "outputs": [],
   "source": [
    "def draw_graph(g):\n",
    "    fig = plt.figure(1, figsize=(30, 30))\n",
    "    edge_colors = nx.get_edge_attributes(g,'color').values()\n",
    "    pos = nx.spring_layout(g)\n",
    "    nx.draw_networkx_nodes(g, pos, alpha=0)\n",
    "    nx.draw_networkx_labels(g, pos, bbox=dict(fc=\"b\", alpha=0.2))\n",
    "    nx.draw_networkx_edges(g, pos, edge_color=edge_colors)\n",
    "    plt.show()"
   ]
  },
  {
   "cell_type": "code",
   "execution_count": 3,
   "id": "71648d7a-394e-487d-8b74-8c3f3a112834",
   "metadata": {},
   "outputs": [],
   "source": [
    "def draw_graphviz(g):\n",
    "    agraph = nx.nx_agraph.to_agraph(g)\n",
    "    svg = agraph.draw(prog='dot',format='svg')\n",
    "    display(SVG(svg))"
   ]
  },
  {
   "cell_type": "code",
   "execution_count": 4,
   "id": "f5568512-e946-45da-8b0e-7ebe25d9dc1a",
   "metadata": {},
   "outputs": [],
   "source": [
    "dnf = DNF()"
   ]
  },
  {
   "cell_type": "code",
   "execution_count": 5,
   "id": "9f89054d-3d8e-4491-8b0b-4b1d364a4213",
   "metadata": {},
   "outputs": [
    {
     "name": "stdout",
     "output_type": "stream",
     "text": [
      "Packages to process: 133973\n"
     ]
    },
    {
     "name": "stderr",
     "output_type": "stream",
     "text": [
      "  0%|                                                   | 22/133973 [00:00<11:15, 198.23it/s]"
     ]
    },
    {
     "name": "stdout",
     "output_type": "stream",
     "text": [
      "71\n",
      "{'cache': 0, 'file': 0, 'file_duplicated': 0, 'provide': 70, 'provide_duplicated': 1, 'name': 0, 'markingerror': 0, 'depsolveerror': 0, 'transaction_provide': 1, 'transaction_provide_duplicate': 0, 'transaction_file': 0, 'transaction_file_duplicate': 0, 'transaction_provide_loop': 0, 'transaction_file_loop': 0}\n"
     ]
    },
    {
     "name": "stderr",
     "output_type": "stream",
     "text": [
      "  1%|▍                                                | 1086/133973 [00:01<02:43, 811.25it/s]"
     ]
    },
    {
     "name": "stdout",
     "output_type": "stream",
     "text": [
      "2487\n",
      "{'cache': 9335, 'file': 0, 'file_duplicated': 0, 'provide': 2265, 'provide_duplicated': 217, 'name': 5, 'markingerror': 2, 'depsolveerror': 0, 'transaction_provide': 49, 'transaction_provide_duplicate': 0, 'transaction_file': 0, 'transaction_file_duplicate': 0, 'transaction_provide_loop': 0, 'transaction_file_loop': 0}\n"
     ]
    },
    {
     "name": "stderr",
     "output_type": "stream",
     "text": [
      "  2%|▋                                                | 2039/133973 [00:05<07:27, 294.52it/s]"
     ]
    },
    {
     "name": "stdout",
     "output_type": "stream",
     "text": [
      "4721\n",
      "{'cache': 17416, 'file': 0, 'file_duplicated': 0, 'provide': 4302, 'provide_duplicated': 412, 'name': 7, 'markingerror': 2, 'depsolveerror': 0, 'transaction_provide': 170, 'transaction_provide_duplicate': 0, 'transaction_file': 0, 'transaction_file_duplicate': 0, 'transaction_provide_loop': 0, 'transaction_file_loop': 0}\n"
     ]
    },
    {
     "name": "stderr",
     "output_type": "stream",
     "text": [
      "  2%|█                                                | 3056/133973 [00:07<04:00, 543.72it/s]"
     ]
    },
    {
     "name": "stdout",
     "output_type": "stream",
     "text": [
      "6024\n",
      "{'cache': 24188, 'file': 0, 'file_duplicated': 0, 'provide': 5501, 'provide_duplicated': 515, 'name': 8, 'markingerror': 4, 'depsolveerror': 0, 'transaction_provide': 241, 'transaction_provide_duplicate': 1, 'transaction_file': 0, 'transaction_file_duplicate': 0, 'transaction_provide_loop': 0, 'transaction_file_loop': 0}\n"
     ]
    },
    {
     "name": "stderr",
     "output_type": "stream",
     "text": [
      "  3%|█▍                                               | 4062/133973 [00:10<04:53, 442.71it/s]"
     ]
    },
    {
     "name": "stdout",
     "output_type": "stream",
     "text": [
      "7645\n",
      "{'cache': 33468, 'file': 0, 'file_duplicated': 0, 'provide': 7009, 'provide_duplicated': 626, 'name': 10, 'markingerror': 12, 'depsolveerror': 6, 'transaction_provide': 338, 'transaction_provide_duplicate': 1, 'transaction_file': 0, 'transaction_file_duplicate': 0, 'transaction_provide_loop': 0, 'transaction_file_loop': 0}\n"
     ]
    },
    {
     "name": "stderr",
     "output_type": "stream",
     "text": [
      "  4%|█▉                                               | 5157/133973 [00:13<03:16, 655.81it/s]"
     ]
    },
    {
     "name": "stdout",
     "output_type": "stream",
     "text": [
      "9068\n",
      "{'cache': 42481, 'file': 0, 'file_duplicated': 0, 'provide': 8297, 'provide_duplicated': 761, 'name': 10, 'markingerror': 12, 'depsolveerror': 6, 'transaction_provide': 419, 'transaction_provide_duplicate': 43, 'transaction_file': 0, 'transaction_file_duplicate': 0, 'transaction_provide_loop': 0, 'transaction_file_loop': 0}\n"
     ]
    },
    {
     "name": "stderr",
     "output_type": "stream",
     "text": [
      "  5%|██▏                                              | 6110/133973 [00:20<04:08, 513.91it/s]"
     ]
    },
    {
     "name": "stdout",
     "output_type": "stream",
     "text": [
      "10584\n",
      "{'cache': 51476, 'file': 0, 'file_duplicated': 0, 'provide': 9703, 'provide_duplicated': 870, 'name': 11, 'markingerror': 12, 'depsolveerror': 6, 'transaction_provide': 517, 'transaction_provide_duplicate': 113, 'transaction_file': 0, 'transaction_file_duplicate': 0, 'transaction_provide_loop': 0, 'transaction_file_loop': 0}\n"
     ]
    },
    {
     "name": "stderr",
     "output_type": "stream",
     "text": [
      "  5%|██▌                                              | 7028/133973 [00:23<05:50, 361.72it/s]"
     ]
    },
    {
     "name": "stdout",
     "output_type": "stream",
     "text": [
      "12757\n",
      "{'cache': 60722, 'file': 0, 'file_duplicated': 0, 'provide': 11727, 'provide_duplicated': 1019, 'name': 11, 'markingerror': 16, 'depsolveerror': 6, 'transaction_provide': 601, 'transaction_provide_duplicate': 114, 'transaction_file': 0, 'transaction_file_duplicate': 0, 'transaction_provide_loop': 0, 'transaction_file_loop': 0}\n"
     ]
    },
    {
     "name": "stderr",
     "output_type": "stream",
     "text": [
      "  6%|██▉                                              | 8102/133973 [00:27<03:33, 590.45it/s]"
     ]
    },
    {
     "name": "stdout",
     "output_type": "stream",
     "text": [
      "13750\n",
      "{'cache': 67931, 'file': 0, 'file_duplicated': 0, 'provide': 12623, 'provide_duplicated': 1115, 'name': 12, 'markingerror': 19, 'depsolveerror': 6, 'transaction_provide': 693, 'transaction_provide_duplicate': 115, 'transaction_file': 0, 'transaction_file_duplicate': 0, 'transaction_provide_loop': 0, 'transaction_file_loop': 0}\n"
     ]
    },
    {
     "name": "stderr",
     "output_type": "stream",
     "text": [
      "  7%|███▎                                              | 9006/133973 [00:51<43:25, 47.96it/s]"
     ]
    },
    {
     "name": "stdout",
     "output_type": "stream",
     "text": [
      "15059\n",
      "{'cache': 75944, 'file': 0, 'file_duplicated': 0, 'provide': 13827, 'provide_duplicated': 1218, 'name': 14, 'markingerror': 19, 'depsolveerror': 6, 'transaction_provide': 803, 'transaction_provide_duplicate': 335, 'transaction_file': 0, 'transaction_file_duplicate': 0, 'transaction_provide_loop': 0, 'transaction_file_loop': 0}\n"
     ]
    },
    {
     "name": "stderr",
     "output_type": "stream",
     "text": [
      "  7%|███▌                                            | 10045/133973 [00:59<04:20, 476.30it/s]"
     ]
    },
    {
     "name": "stdout",
     "output_type": "stream",
     "text": [
      "16668\n",
      "{'cache': 85250, 'file': 0, 'file_duplicated': 0, 'provide': 15333, 'provide_duplicated': 1321, 'name': 14, 'markingerror': 19, 'depsolveerror': 11, 'transaction_provide': 983, 'transaction_provide_duplicate': 365, 'transaction_file': 0, 'transaction_file_duplicate': 0, 'transaction_provide_loop': 0, 'transaction_file_loop': 0}\n"
     ]
    },
    {
     "name": "stderr",
     "output_type": "stream",
     "text": [
      "  8%|███▉                                            | 11051/133973 [01:02<07:07, 287.23it/s]"
     ]
    },
    {
     "name": "stdout",
     "output_type": "stream",
     "text": [
      "17783\n",
      "{'cache': 94921, 'file': 0, 'file_duplicated': 0, 'provide': 16448, 'provide_duplicated': 1321, 'name': 14, 'markingerror': 19, 'depsolveerror': 11, 'transaction_provide': 1240, 'transaction_provide_duplicate': 365, 'transaction_file': 0, 'transaction_file_duplicate': 0, 'transaction_provide_loop': 0, 'transaction_file_loop': 0}\n"
     ]
    },
    {
     "name": "stderr",
     "output_type": "stream",
     "text": [
      "  9%|████▎                                           | 12027/133973 [01:06<07:30, 270.81it/s]"
     ]
    },
    {
     "name": "stdout",
     "output_type": "stream",
     "text": [
      "18943\n",
      "{'cache': 108502, 'file': 0, 'file_duplicated': 0, 'provide': 17606, 'provide_duplicated': 1323, 'name': 14, 'markingerror': 19, 'depsolveerror': 11, 'transaction_provide': 1495, 'transaction_provide_duplicate': 365, 'transaction_file': 0, 'transaction_file_duplicate': 0, 'transaction_provide_loop': 0, 'transaction_file_loop': 0}\n"
     ]
    },
    {
     "name": "stderr",
     "output_type": "stream",
     "text": [
      " 10%|████▋                                           | 12997/133973 [01:10<09:36, 209.73it/s]"
     ]
    },
    {
     "name": "stdout",
     "output_type": "stream",
     "text": [
      "19670\n",
      "{'cache': 121025, 'file': 0, 'file_duplicated': 0, 'provide': 18331, 'provide_duplicated': 1325, 'name': 14, 'markingerror': 19, 'depsolveerror': 11, 'transaction_provide': 1751, 'transaction_provide_duplicate': 365, 'transaction_file': 0, 'transaction_file_duplicate': 0, 'transaction_provide_loop': 0, 'transaction_file_loop': 0}\n"
     ]
    },
    {
     "name": "stderr",
     "output_type": "stream",
     "text": [
      " 11%|█████                                           | 14095/133973 [01:36<04:46, 417.71it/s]"
     ]
    },
    {
     "name": "stdout",
     "output_type": "stream",
     "text": [
      "20852\n",
      "{'cache': 127673, 'file': 0, 'file_duplicated': 0, 'provide': 19213, 'provide_duplicated': 1625, 'name': 14, 'markingerror': 19, 'depsolveerror': 11, 'transaction_provide': 2756, 'transaction_provide_duplicate': 626, 'transaction_file': 0, 'transaction_file_duplicate': 0, 'transaction_provide_loop': 0, 'transaction_file_loop': 0}\n"
     ]
    },
    {
     "name": "stderr",
     "output_type": "stream",
     "text": [
      " 11%|█████▎                                         | 15015/133973 [01:38<01:38, 1210.50it/s]"
     ]
    },
    {
     "name": "stdout",
     "output_type": "stream",
     "text": [
      "21627\n",
      "{'cache': 134306, 'file': 0, 'file_duplicated': 0, 'provide': 19871, 'provide_duplicated': 1742, 'name': 14, 'markingerror': 19, 'depsolveerror': 11, 'transaction_provide': 2835, 'transaction_provide_duplicate': 626, 'transaction_file': 0, 'transaction_file_duplicate': 0, 'transaction_provide_loop': 0, 'transaction_file_loop': 0}\n"
     ]
    },
    {
     "name": "stderr",
     "output_type": "stream",
     "text": [
      " 12%|█████▊                                         | 16542/133973 [01:41<01:31, 1285.32it/s]"
     ]
    },
    {
     "name": "stdout",
     "output_type": "stream",
     "text": [
      "23478\n",
      "{'cache': 142017, 'file': 0, 'file_duplicated': 0, 'provide': 21622, 'provide_duplicated': 1842, 'name': 14, 'markingerror': 19, 'depsolveerror': 11, 'transaction_provide': 2914, 'transaction_provide_duplicate': 627, 'transaction_file': 0, 'transaction_file_duplicate': 0, 'transaction_provide_loop': 0, 'transaction_file_loop': 0}\n",
      "24586\n",
      "{'cache': 145450, 'file': 0, 'file_duplicated': 0, 'provide': 22722, 'provide_duplicated': 1850, 'name': 14, 'markingerror': 50, 'depsolveerror': 11, 'transaction_provide': 2917, 'transaction_provide_duplicate': 627, 'transaction_file': 0, 'transaction_file_duplicate': 0, 'transaction_provide_loop': 0, 'transaction_file_loop': 0}\n"
     ]
    },
    {
     "name": "stderr",
     "output_type": "stream",
     "text": [
      " 13%|██████▎                                        | 18064/133973 [01:41<00:55, 2097.65it/s]"
     ]
    },
    {
     "name": "stdout",
     "output_type": "stream",
     "text": [
      "25637\n",
      "{'cache': 149606, 'file': 0, 'file_duplicated': 0, 'provide': 23765, 'provide_duplicated': 1856, 'name': 16, 'markingerror': 54, 'depsolveerror': 11, 'transaction_provide': 2925, 'transaction_provide_duplicate': 627, 'transaction_file': 0, 'transaction_file_duplicate': 0, 'transaction_provide_loop': 0, 'transaction_file_loop': 0}\n"
     ]
    },
    {
     "name": "stderr",
     "output_type": "stream",
     "text": [
      " 14%|██████▊                                         | 18965/133973 [01:44<03:33, 538.33it/s]"
     ]
    },
    {
     "name": "stdout",
     "output_type": "stream",
     "text": [
      "26907\n",
      "{'cache': 161436, 'file': 0, 'file_duplicated': 0, 'provide': 24852, 'provide_duplicated': 2039, 'name': 16, 'markingerror': 54, 'depsolveerror': 12, 'transaction_provide': 2992, 'transaction_provide_duplicate': 633, 'transaction_file': 0, 'transaction_file_duplicate': 0, 'transaction_provide_loop': 0, 'transaction_file_loop': 0}\n"
     ]
    },
    {
     "name": "stderr",
     "output_type": "stream",
     "text": [
      " 15%|███████▏                                        | 19972/133973 [01:48<07:18, 260.08it/s]"
     ]
    },
    {
     "name": "stdout",
     "output_type": "stream",
     "text": [
      "27671\n",
      "{'cache': 168744, 'file': 0, 'file_duplicated': 0, 'provide': 25560, 'provide_duplicated': 2094, 'name': 17, 'markingerror': 54, 'depsolveerror': 12, 'transaction_provide': 3091, 'transaction_provide_duplicate': 660, 'transaction_file': 0, 'transaction_file_duplicate': 0, 'transaction_provide_loop': 0, 'transaction_file_loop': 0}\n"
     ]
    },
    {
     "name": "stderr",
     "output_type": "stream",
     "text": [
      " 16%|███████▍                                       | 21058/133973 [01:50<01:46, 1055.94it/s]"
     ]
    },
    {
     "name": "stdout",
     "output_type": "stream",
     "text": [
      "28399\n",
      "{'cache': 176081, 'file': 0, 'file_duplicated': 0, 'provide': 26236, 'provide_duplicated': 2145, 'name': 18, 'markingerror': 58, 'depsolveerror': 12, 'transaction_provide': 3157, 'transaction_provide_duplicate': 660, 'transaction_file': 0, 'transaction_file_duplicate': 0, 'transaction_provide_loop': 0, 'transaction_file_loop': 0}\n"
     ]
    },
    {
     "name": "stderr",
     "output_type": "stream",
     "text": [
      " 17%|███████▊                                       | 22180/133973 [01:51<01:22, 1351.10it/s]"
     ]
    },
    {
     "name": "stdout",
     "output_type": "stream",
     "text": [
      "29663\n",
      "{'cache': 189830, 'file': 0, 'file_duplicated': 0, 'provide': 27349, 'provide_duplicated': 2296, 'name': 18, 'markingerror': 58, 'depsolveerror': 12, 'transaction_provide': 3177, 'transaction_provide_duplicate': 660, 'transaction_file': 0, 'transaction_file_duplicate': 0, 'transaction_provide_loop': 0, 'transaction_file_loop': 0}\n"
     ]
    },
    {
     "name": "stderr",
     "output_type": "stream",
     "text": [
      " 17%|████████▏                                      | 23216/133973 [01:52<01:28, 1246.51it/s]"
     ]
    },
    {
     "name": "stdout",
     "output_type": "stream",
     "text": [
      "30550\n",
      "{'cache': 205594, 'file': 0, 'file_duplicated': 0, 'provide': 28160, 'provide_duplicated': 2372, 'name': 18, 'markingerror': 59, 'depsolveerror': 12, 'transaction_provide': 3199, 'transaction_provide_duplicate': 661, 'transaction_file': 0, 'transaction_file_duplicate': 0, 'transaction_provide_loop': 0, 'transaction_file_loop': 0}\n"
     ]
    },
    {
     "name": "stderr",
     "output_type": "stream",
     "text": [
      " 18%|████████▋                                       | 24263/133973 [01:54<03:10, 576.22it/s]"
     ]
    },
    {
     "name": "stdout",
     "output_type": "stream",
     "text": [
      "31599\n",
      "{'cache': 211922, 'file': 0, 'file_duplicated': 0, 'provide': 29106, 'provide_duplicated': 2475, 'name': 18, 'markingerror': 59, 'depsolveerror': 12, 'transaction_provide': 3259, 'transaction_provide_duplicate': 662, 'transaction_file': 0, 'transaction_file_duplicate': 0, 'transaction_provide_loop': 0, 'transaction_file_loop': 0}\n"
     ]
    },
    {
     "name": "stderr",
     "output_type": "stream",
     "text": [
      " 19%|████████▊                                      | 25195/133973 [01:55<01:34, 1155.89it/s]"
     ]
    },
    {
     "name": "stdout",
     "output_type": "stream",
     "text": [
      "32451\n",
      "{'cache': 218776, 'file': 0, 'file_duplicated': 0, 'provide': 29857, 'provide_duplicated': 2575, 'name': 19, 'markingerror': 59, 'depsolveerror': 12, 'transaction_provide': 3283, 'transaction_provide_duplicate': 662, 'transaction_file': 0, 'transaction_file_duplicate': 0, 'transaction_provide_loop': 0, 'transaction_file_loop': 0}\n"
     ]
    },
    {
     "name": "stderr",
     "output_type": "stream",
     "text": [
      " 20%|█████████▏                                     | 26248/133973 [01:56<01:26, 1246.89it/s]"
     ]
    },
    {
     "name": "stdout",
     "output_type": "stream",
     "text": [
      "33403\n",
      "{'cache': 226883, 'file': 0, 'file_duplicated': 0, 'provide': 30692, 'provide_duplicated': 2692, 'name': 19, 'markingerror': 59, 'depsolveerror': 12, 'transaction_provide': 3309, 'transaction_provide_duplicate': 662, 'transaction_file': 0, 'transaction_file_duplicate': 0, 'transaction_provide_loop': 0, 'transaction_file_loop': 0}\n"
     ]
    },
    {
     "name": "stderr",
     "output_type": "stream",
     "text": [
      " 20%|█████████▌                                     | 27124/133973 [01:57<01:45, 1016.94it/s]"
     ]
    },
    {
     "name": "stdout",
     "output_type": "stream",
     "text": [
      "34374\n",
      "{'cache': 233539, 'file': 0, 'file_duplicated': 0, 'provide': 31554, 'provide_duplicated': 2800, 'name': 20, 'markingerror': 59, 'depsolveerror': 12, 'transaction_provide': 3337, 'transaction_provide_duplicate': 662, 'transaction_file': 0, 'transaction_file_duplicate': 0, 'transaction_provide_loop': 0, 'transaction_file_loop': 0}\n"
     ]
    },
    {
     "name": "stderr",
     "output_type": "stream",
     "text": [
      " 21%|█████████▉                                     | 28272/133973 [01:58<01:16, 1388.29it/s]"
     ]
    },
    {
     "name": "stdout",
     "output_type": "stream",
     "text": [
      "35308\n",
      "{'cache': 240909, 'file': 0, 'file_duplicated': 0, 'provide': 32415, 'provide_duplicated': 2873, 'name': 20, 'markingerror': 59, 'depsolveerror': 12, 'transaction_provide': 3374, 'transaction_provide_duplicate': 662, 'transaction_file': 0, 'transaction_file_duplicate': 0, 'transaction_provide_loop': 0, 'transaction_file_loop': 0}\n"
     ]
    },
    {
     "name": "stderr",
     "output_type": "stream",
     "text": [
      " 22%|██████████▍                                     | 29167/133973 [01:59<01:53, 922.87it/s]"
     ]
    },
    {
     "name": "stdout",
     "output_type": "stream",
     "text": [
      "36360\n",
      "{'cache': 250072, 'file': 0, 'file_duplicated': 0, 'provide': 33373, 'provide_duplicated': 2967, 'name': 20, 'markingerror': 59, 'depsolveerror': 12, 'transaction_provide': 3408, 'transaction_provide_duplicate': 662, 'transaction_file': 0, 'transaction_file_duplicate': 0, 'transaction_provide_loop': 0, 'transaction_file_loop': 0}\n"
     ]
    },
    {
     "name": "stderr",
     "output_type": "stream",
     "text": [
      " 22%|██████████▊                                     | 30020/133973 [02:01<03:12, 540.64it/s]"
     ]
    },
    {
     "name": "stdout",
     "output_type": "stream",
     "text": [
      "37012\n",
      "{'cache': 260382, 'file': 0, 'file_duplicated': 0, 'provide': 33939, 'provide_duplicated': 3053, 'name': 20, 'markingerror': 59, 'depsolveerror': 12, 'transaction_provide': 3515, 'transaction_provide_duplicate': 664, 'transaction_file': 0, 'transaction_file_duplicate': 0, 'transaction_provide_loop': 0, 'transaction_file_loop': 0}\n"
     ]
    },
    {
     "name": "stderr",
     "output_type": "stream",
     "text": [
      " 23%|███████████▏                                    | 31086/133973 [02:03<02:46, 618.23it/s]"
     ]
    },
    {
     "name": "stdout",
     "output_type": "stream",
     "text": [
      "37974\n",
      "{'cache': 268604, 'file': 0, 'file_duplicated': 0, 'provide': 34871, 'provide_duplicated': 3083, 'name': 20, 'markingerror': 60, 'depsolveerror': 12, 'transaction_provide': 3577, 'transaction_provide_duplicate': 664, 'transaction_file': 0, 'transaction_file_duplicate': 0, 'transaction_provide_loop': 0, 'transaction_file_loop': 0}\n"
     ]
    },
    {
     "name": "stderr",
     "output_type": "stream",
     "text": [
      " 24%|███████████▍                                    | 32014/133973 [02:07<08:54, 190.82it/s]"
     ]
    },
    {
     "name": "stdout",
     "output_type": "stream",
     "text": [
      "39034\n",
      "{'cache': 277374, 'file': 0, 'file_duplicated': 0, 'provide': 35868, 'provide_duplicated': 3145, 'name': 21, 'markingerror': 61, 'depsolveerror': 12, 'transaction_provide': 3682, 'transaction_provide_duplicate': 689, 'transaction_file': 0, 'transaction_file_duplicate': 0, 'transaction_provide_loop': 0, 'transaction_file_loop': 0}\n"
     ]
    },
    {
     "name": "stderr",
     "output_type": "stream",
     "text": [
      " 25%|███████████▊                                    | 33011/133973 [02:13<06:45, 248.85it/s]"
     ]
    },
    {
     "name": "stdout",
     "output_type": "stream",
     "text": [
      "40036\n",
      "{'cache': 287867, 'file': 0, 'file_duplicated': 0, 'provide': 36775, 'provide_duplicated': 3240, 'name': 21, 'markingerror': 63, 'depsolveerror': 15, 'transaction_provide': 3787, 'transaction_provide_duplicate': 709, 'transaction_file': 0, 'transaction_file_duplicate': 0, 'transaction_provide_loop': 0, 'transaction_file_loop': 0}\n"
     ]
    },
    {
     "name": "stderr",
     "output_type": "stream",
     "text": [
      " 25%|████████████▏                                   | 34137/133973 [09:32<03:47, 438.65it/s]"
     ]
    },
    {
     "name": "stdout",
     "output_type": "stream",
     "text": [
      "41482\n",
      "{'cache': 300847, 'file': 0, 'file_duplicated': 0, 'provide': 38155, 'provide_duplicated': 3306, 'name': 21, 'markingerror': 63, 'depsolveerror': 15, 'transaction_provide': 11483, 'transaction_provide_duplicate': 11552, 'transaction_file': 0, 'transaction_file_duplicate': 0, 'transaction_provide_loop': 0, 'transaction_file_loop': 0}\n"
     ]
    },
    {
     "name": "stderr",
     "output_type": "stream",
     "text": [
      " 26%|████████████▌                                   | 35174/133973 [09:34<02:05, 787.09it/s]"
     ]
    },
    {
     "name": "stdout",
     "output_type": "stream",
     "text": [
      "42468\n",
      "{'cache': 312597, 'file': 0, 'file_duplicated': 0, 'provide': 39076, 'provide_duplicated': 3370, 'name': 22, 'markingerror': 65, 'depsolveerror': 15, 'transaction_provide': 11551, 'transaction_provide_duplicate': 11556, 'transaction_file': 0, 'transaction_file_duplicate': 0, 'transaction_provide_loop': 0, 'transaction_file_loop': 0}\n"
     ]
    },
    {
     "name": "stderr",
     "output_type": "stream",
     "text": [
      " 28%|████████████▉                                  | 36977/133973 [09:35<00:38, 2532.12it/s]"
     ]
    },
    {
     "name": "stdout",
     "output_type": "stream",
     "text": [
      "44755\n",
      "{'cache': 323152, 'file': 0, 'file_duplicated': 0, 'provide': 41322, 'provide_duplicated': 3411, 'name': 22, 'markingerror': 77, 'depsolveerror': 15, 'transaction_provide': 11579, 'transaction_provide_duplicate': 11556, 'transaction_file': 0, 'transaction_file_duplicate': 0, 'transaction_provide_loop': 0, 'transaction_file_loop': 0}\n",
      "46367\n",
      "{'cache': 334024, 'file': 0, 'file_duplicated': 0, 'provide': 42913, 'provide_duplicated': 3432, 'name': 22, 'markingerror': 77, 'depsolveerror': 15, 'transaction_provide': 11585, 'transaction_provide_duplicate': 11557, 'transaction_file': 0, 'transaction_file_duplicate': 0, 'transaction_provide_loop': 0, 'transaction_file_loop': 0}\n"
     ]
    },
    {
     "name": "stderr",
     "output_type": "stream",
     "text": [
      " 29%|█████████████▌                                 | 38808/133973 [09:35<00:21, 4404.81it/s]"
     ]
    },
    {
     "name": "stdout",
     "output_type": "stream",
     "text": [
      "48840\n",
      "{'cache': 345696, 'file': 0, 'file_duplicated': 0, 'provide': 45384, 'provide_duplicated': 3434, 'name': 22, 'markingerror': 77, 'depsolveerror': 15, 'transaction_provide': 11587, 'transaction_provide_duplicate': 11557, 'transaction_file': 0, 'transaction_file_duplicate': 0, 'transaction_provide_loop': 0, 'transaction_file_loop': 0}\n",
      "50750\n",
      "{'cache': 356968, 'file': 0, 'file_duplicated': 0, 'provide': 47287, 'provide_duplicated': 3441, 'name': 22, 'markingerror': 77, 'depsolveerror': 15, 'transaction_provide': 11590, 'transaction_provide_duplicate': 11557, 'transaction_file': 0, 'transaction_file_duplicate': 0, 'transaction_provide_loop': 0, 'transaction_file_loop': 0}\n"
     ]
    },
    {
     "name": "stderr",
     "output_type": "stream",
     "text": [
      " 30%|██████████████▎                                 | 39943/133973 [09:46<11:39, 134.41it/s]"
     ]
    },
    {
     "name": "stdout",
     "output_type": "stream",
     "text": [
      "51330\n",
      "{'cache': 365239, 'file': 0, 'file_duplicated': 0, 'provide': 47841, 'provide_duplicated': 3466, 'name': 23, 'markingerror': 81, 'depsolveerror': 143, 'transaction_provide': 12006, 'transaction_provide_duplicate': 11603, 'transaction_file': 0, 'transaction_file_duplicate': 0, 'transaction_provide_loop': 0, 'transaction_file_loop': 0}\n"
     ]
    },
    {
     "name": "stderr",
     "output_type": "stream",
     "text": [
      " 31%|██████████████▋                                 | 41011/133973 [09:49<04:46, 324.58it/s]"
     ]
    },
    {
     "name": "stdout",
     "output_type": "stream",
     "text": [
      "52182\n",
      "{'cache': 377724, 'file': 0, 'file_duplicated': 0, 'provide': 48596, 'provide_duplicated': 3560, 'name': 26, 'markingerror': 81, 'depsolveerror': 148, 'transaction_provide': 12103, 'transaction_provide_duplicate': 11607, 'transaction_file': 0, 'transaction_file_duplicate': 0, 'transaction_provide_loop': 0, 'transaction_file_loop': 0}\n"
     ]
    },
    {
     "name": "stderr",
     "output_type": "stream",
     "text": [
      " 31%|███████████████▎                                 | 42008/133973 [09:57<18:06, 84.64it/s]"
     ]
    },
    {
     "name": "stdout",
     "output_type": "stream",
     "text": [
      "52568\n",
      "{'cache': 380121, 'file': 0, 'file_duplicated': 0, 'provide': 48967, 'provide_duplicated': 3575, 'name': 26, 'markingerror': 82, 'depsolveerror': 149, 'transaction_provide': 12502, 'transaction_provide_duplicate': 11608, 'transaction_file': 0, 'transaction_file_duplicate': 0, 'transaction_provide_loop': 0, 'transaction_file_loop': 0}\n"
     ]
    },
    {
     "name": "stderr",
     "output_type": "stream",
     "text": [
      " 32%|███████████████▋                                 | 43011/133973 [10:18<29:15, 51.81it/s]"
     ]
    },
    {
     "name": "stdout",
     "output_type": "stream",
     "text": [
      "53083\n",
      "{'cache': 383215, 'file': 0, 'file_duplicated': 0, 'provide': 49470, 'provide_duplicated': 3587, 'name': 26, 'markingerror': 84, 'depsolveerror': 158, 'transaction_provide': 13501, 'transaction_provide_duplicate': 11610, 'transaction_file': 0, 'transaction_file_duplicate': 0, 'transaction_provide_loop': 0, 'transaction_file_loop': 0}\n"
     ]
    },
    {
     "name": "stderr",
     "output_type": "stream",
     "text": [
      " 33%|████████████████                                 | 44011/133973 [10:41<28:12, 53.15it/s]"
     ]
    },
    {
     "name": "stdout",
     "output_type": "stream",
     "text": [
      "53677\n",
      "{'cache': 388101, 'file': 0, 'file_duplicated': 0, 'provide': 50052, 'provide_duplicated': 3599, 'name': 26, 'markingerror': 85, 'depsolveerror': 162, 'transaction_provide': 14480, 'transaction_provide_duplicate': 11615, 'transaction_file': 0, 'transaction_file_duplicate': 0, 'transaction_provide_loop': 0, 'transaction_file_loop': 0}\n"
     ]
    },
    {
     "name": "stderr",
     "output_type": "stream",
     "text": [
      " 34%|████████████████▍                                | 45005/133973 [11:01<34:13, 43.33it/s]"
     ]
    },
    {
     "name": "stdout",
     "output_type": "stream",
     "text": [
      "54160\n",
      "{'cache': 392321, 'file': 0, 'file_duplicated': 0, 'provide': 50514, 'provide_duplicated': 3619, 'name': 27, 'markingerror': 86, 'depsolveerror': 169, 'transaction_provide': 15447, 'transaction_provide_duplicate': 11622, 'transaction_file': 0, 'transaction_file_duplicate': 0, 'transaction_provide_loop': 0, 'transaction_file_loop': 0}\n"
     ]
    },
    {
     "name": "stderr",
     "output_type": "stream",
     "text": [
      " 34%|████████████████▌                               | 46187/133973 [11:21<02:12, 664.42it/s]"
     ]
    },
    {
     "name": "stdout",
     "output_type": "stream",
     "text": [
      "55321\n",
      "{'cache': 398027, 'file': 0, 'file_duplicated': 0, 'provide': 51649, 'provide_duplicated': 3645, 'name': 27, 'markingerror': 104, 'depsolveerror': 232, 'transaction_provide': 16311, 'transaction_provide_duplicate': 11628, 'transaction_file': 0, 'transaction_file_duplicate': 0, 'transaction_provide_loop': 0, 'transaction_file_loop': 0}\n"
     ]
    },
    {
     "name": "stderr",
     "output_type": "stream",
     "text": [
      " 35%|████████████████▍                              | 47024/133973 [11:22<01:09, 1243.49it/s]"
     ]
    },
    {
     "name": "stdout",
     "output_type": "stream",
     "text": [
      "56347\n",
      "{'cache': 416453, 'file': 0, 'file_duplicated': 0, 'provide': 52606, 'provide_duplicated': 3714, 'name': 27, 'markingerror': 104, 'depsolveerror': 233, 'transaction_provide': 16339, 'transaction_provide_duplicate': 11628, 'transaction_file': 0, 'transaction_file_duplicate': 0, 'transaction_provide_loop': 0, 'transaction_file_loop': 0}\n"
     ]
    },
    {
     "name": "stderr",
     "output_type": "stream",
     "text": [
      " 36%|█████████████████▏                              | 48015/133973 [11:32<06:15, 229.17it/s]"
     ]
    },
    {
     "name": "stdout",
     "output_type": "stream",
     "text": [
      "57230\n",
      "{'cache': 429571, 'file': 0, 'file_duplicated': 0, 'provide': 53346, 'provide_duplicated': 3856, 'name': 28, 'markingerror': 104, 'depsolveerror': 233, 'transaction_provide': 16568, 'transaction_provide_duplicate': 11634, 'transaction_file': 0, 'transaction_file_duplicate': 0, 'transaction_provide_loop': 0, 'transaction_file_loop': 0}\n"
     ]
    },
    {
     "name": "stderr",
     "output_type": "stream",
     "text": [
      " 37%|█████████████████▏                             | 49114/133973 [11:33<01:10, 1202.12it/s]"
     ]
    },
    {
     "name": "stdout",
     "output_type": "stream",
     "text": [
      "57959\n",
      "{'cache': 432498, 'file': 0, 'file_duplicated': 0, 'provide': 54057, 'provide_duplicated': 3874, 'name': 28, 'markingerror': 104, 'depsolveerror': 233, 'transaction_provide': 16593, 'transaction_provide_duplicate': 11634, 'transaction_file': 0, 'transaction_file_duplicate': 0, 'transaction_provide_loop': 0, 'transaction_file_loop': 0}\n"
     ]
    },
    {
     "name": "stderr",
     "output_type": "stream",
     "text": [
      " 37%|██████████████████▎                              | 50006/133973 [11:54<58:03, 24.11it/s]"
     ]
    },
    {
     "name": "stdout",
     "output_type": "stream",
     "text": [
      "58781\n",
      "{'cache': 434776, 'file': 0, 'file_duplicated': 0, 'provide': 54879, 'provide_duplicated': 3874, 'name': 28, 'markingerror': 104, 'depsolveerror': 233, 'transaction_provide': 17370, 'transaction_provide_duplicate': 11648, 'transaction_file': 0, 'transaction_file_duplicate': 0, 'transaction_provide_loop': 0, 'transaction_file_loop': 0}\n"
     ]
    },
    {
     "name": "stderr",
     "output_type": "stream",
     "text": [
      " 38%|██████████████████▋                              | 51009/133973 [12:20<15:16, 90.48it/s]"
     ]
    },
    {
     "name": "stdout",
     "output_type": "stream",
     "text": [
      "59333\n",
      "{'cache': 436736, 'file': 0, 'file_duplicated': 0, 'provide': 55428, 'provide_duplicated': 3877, 'name': 28, 'markingerror': 104, 'depsolveerror': 233, 'transaction_provide': 18209, 'transaction_provide_duplicate': 11657, 'transaction_file': 0, 'transaction_file_duplicate': 0, 'transaction_provide_loop': 0, 'transaction_file_loop': 0}\n"
     ]
    },
    {
     "name": "stderr",
     "output_type": "stream",
     "text": [
      " 39%|███████████████████                              | 52015/133973 [12:42<15:29, 88.14it/s]"
     ]
    },
    {
     "name": "stdout",
     "output_type": "stream",
     "text": [
      "59765\n",
      "{'cache': 438481, 'file': 0, 'file_duplicated': 0, 'provide': 55860, 'provide_duplicated': 3877, 'name': 28, 'markingerror': 104, 'depsolveerror': 233, 'transaction_provide': 19250, 'transaction_provide_duplicate': 11662, 'transaction_file': 0, 'transaction_file_duplicate': 0, 'transaction_provide_loop': 0, 'transaction_file_loop': 0}\n"
     ]
    },
    {
     "name": "stderr",
     "output_type": "stream",
     "text": [
      " 40%|███████████████████▍                             | 53013/133973 [13:07<41:06, 32.82it/s]"
     ]
    },
    {
     "name": "stdout",
     "output_type": "stream",
     "text": [
      "60295\n",
      "{'cache': 440558, 'file': 0, 'file_duplicated': 0, 'provide': 56388, 'provide_duplicated': 3879, 'name': 28, 'markingerror': 104, 'depsolveerror': 233, 'transaction_provide': 20041, 'transaction_provide_duplicate': 11668, 'transaction_file': 0, 'transaction_file_duplicate': 0, 'transaction_provide_loop': 0, 'transaction_file_loop': 0}\n"
     ]
    },
    {
     "name": "stderr",
     "output_type": "stream",
     "text": [
      " 40%|███████████████████▎                            | 54006/133973 [13:47<11:27, 116.39it/s]"
     ]
    },
    {
     "name": "stdout",
     "output_type": "stream",
     "text": [
      "60813\n",
      "{'cache': 443225, 'file': 0, 'file_duplicated': 0, 'provide': 56902, 'provide_duplicated': 3883, 'name': 28, 'markingerror': 104, 'depsolveerror': 233, 'transaction_provide': 21342, 'transaction_provide_duplicate': 11668, 'transaction_file': 0, 'transaction_file_duplicate': 0, 'transaction_provide_loop': 0, 'transaction_file_loop': 0}\n"
     ]
    },
    {
     "name": "stderr",
     "output_type": "stream",
     "text": [
      " 41%|████████████████████                             | 55001/133973 [14:29<18:59, 69.33it/s]"
     ]
    },
    {
     "name": "stdout",
     "output_type": "stream",
     "text": [
      "61238\n",
      "{'cache': 445299, 'file': 0, 'file_duplicated': 0, 'provide': 57325, 'provide_duplicated': 3885, 'name': 28, 'markingerror': 104, 'depsolveerror': 233, 'transaction_provide': 22509, 'transaction_provide_duplicate': 11678, 'transaction_file': 0, 'transaction_file_duplicate': 0, 'transaction_provide_loop': 0, 'transaction_file_loop': 0}\n"
     ]
    },
    {
     "name": "stderr",
     "output_type": "stream",
     "text": [
      " 42%|████████████████████                            | 56003/133973 [14:50<07:45, 167.49it/s]"
     ]
    },
    {
     "name": "stdout",
     "output_type": "stream",
     "text": [
      "61786\n",
      "{'cache': 447331, 'file': 0, 'file_duplicated': 0, 'provide': 57865, 'provide_duplicated': 3893, 'name': 28, 'markingerror': 104, 'depsolveerror': 233, 'transaction_provide': 23110, 'transaction_provide_duplicate': 11711, 'transaction_file': 0, 'transaction_file_duplicate': 0, 'transaction_provide_loop': 0, 'transaction_file_loop': 0}\n"
     ]
    },
    {
     "name": "stderr",
     "output_type": "stream",
     "text": [
      " 43%|████████████████████▊                            | 57001/133973 [15:16<42:55, 29.89it/s]"
     ]
    },
    {
     "name": "stdout",
     "output_type": "stream",
     "text": [
      "62226\n",
      "{'cache': 449464, 'file': 0, 'file_duplicated': 0, 'provide': 58304, 'provide_duplicated': 3894, 'name': 28, 'markingerror': 104, 'depsolveerror': 233, 'transaction_provide': 24096, 'transaction_provide_duplicate': 11716, 'transaction_file': 0, 'transaction_file_duplicate': 0, 'transaction_provide_loop': 0, 'transaction_file_loop': 0}\n"
     ]
    },
    {
     "name": "stderr",
     "output_type": "stream",
     "text": [
      " 43%|█████████████████████▏                           | 58002/133973 [15:41<28:36, 44.26it/s]"
     ]
    },
    {
     "name": "stdout",
     "output_type": "stream",
     "text": [
      "62601\n",
      "{'cache': 451414, 'file': 0, 'file_duplicated': 0, 'provide': 58679, 'provide_duplicated': 3894, 'name': 28, 'markingerror': 104, 'depsolveerror': 233, 'transaction_provide': 25094, 'transaction_provide_duplicate': 11717, 'transaction_file': 0, 'transaction_file_duplicate': 0, 'transaction_provide_loop': 0, 'transaction_file_loop': 0}\n"
     ]
    },
    {
     "name": "stderr",
     "output_type": "stream",
     "text": [
      " 44%|█████████████████████▌                           | 59000/133973 [16:15<33:50, 36.92it/s]"
     ]
    },
    {
     "name": "stdout",
     "output_type": "stream",
     "text": [
      "62946\n",
      "{'cache': 453297, 'file': 0, 'file_duplicated': 0, 'provide': 59024, 'provide_duplicated': 3894, 'name': 28, 'markingerror': 104, 'depsolveerror': 233, 'transaction_provide': 26483, 'transaction_provide_duplicate': 11739, 'transaction_file': 0, 'transaction_file_duplicate': 0, 'transaction_provide_loop': 0, 'transaction_file_loop': 0}\n"
     ]
    },
    {
     "name": "stderr",
     "output_type": "stream",
     "text": [
      " 45%|█████████████████████▉                           | 60002/133973 [16:45<28:31, 43.23it/s]"
     ]
    },
    {
     "name": "stdout",
     "output_type": "stream",
     "text": [
      "63340\n",
      "{'cache': 455305, 'file': 0, 'file_duplicated': 0, 'provide': 59418, 'provide_duplicated': 3894, 'name': 28, 'markingerror': 104, 'depsolveerror': 233, 'transaction_provide': 27615, 'transaction_provide_duplicate': 11746, 'transaction_file': 0, 'transaction_file_duplicate': 0, 'transaction_provide_loop': 0, 'transaction_file_loop': 0}\n"
     ]
    },
    {
     "name": "stderr",
     "output_type": "stream",
     "text": [
      " 46%|██████████████████████▎                          | 61010/133973 [17:06<24:05, 50.47it/s]"
     ]
    },
    {
     "name": "stdout",
     "output_type": "stream",
     "text": [
      "63789\n",
      "{'cache': 457333, 'file': 0, 'file_duplicated': 0, 'provide': 59867, 'provide_duplicated': 3894, 'name': 28, 'markingerror': 104, 'depsolveerror': 233, 'transaction_provide': 28512, 'transaction_provide_duplicate': 11751, 'transaction_file': 0, 'transaction_file_duplicate': 0, 'transaction_provide_loop': 0, 'transaction_file_loop': 0}\n"
     ]
    },
    {
     "name": "stderr",
     "output_type": "stream",
     "text": [
      " 46%|██████████████████████▋                          | 62003/133973 [17:27<55:27, 21.63it/s]"
     ]
    },
    {
     "name": "stdout",
     "output_type": "stream",
     "text": [
      "64313\n",
      "{'cache': 459787, 'file': 0, 'file_duplicated': 0, 'provide': 60388, 'provide_duplicated': 3897, 'name': 28, 'markingerror': 104, 'depsolveerror': 233, 'transaction_provide': 29353, 'transaction_provide_duplicate': 11763, 'transaction_file': 0, 'transaction_file_duplicate': 0, 'transaction_provide_loop': 0, 'transaction_file_loop': 0}\n"
     ]
    },
    {
     "name": "stderr",
     "output_type": "stream",
     "text": [
      " 47%|██████████████████████▌                         | 63068/133973 [17:48<05:16, 223.70it/s]"
     ]
    },
    {
     "name": "stdout",
     "output_type": "stream",
     "text": [
      "64795\n",
      "{'cache': 462214, 'file': 0, 'file_duplicated': 0, 'provide': 60865, 'provide_duplicated': 3902, 'name': 28, 'markingerror': 104, 'depsolveerror': 233, 'transaction_provide': 30122, 'transaction_provide_duplicate': 11765, 'transaction_file': 0, 'transaction_file_duplicate': 0, 'transaction_provide_loop': 0, 'transaction_file_loop': 0}\n"
     ]
    },
    {
     "name": "stderr",
     "output_type": "stream",
     "text": [
      " 48%|██████████████████████▉                         | 64023/133973 [17:50<02:06, 553.05it/s]"
     ]
    },
    {
     "name": "stdout",
     "output_type": "stream",
     "text": [
      "65579\n",
      "{'cache': 472719, 'file': 0, 'file_duplicated': 0, 'provide': 61585, 'provide_duplicated': 3966, 'name': 28, 'markingerror': 104, 'depsolveerror': 233, 'transaction_provide': 30223, 'transaction_provide_duplicate': 11765, 'transaction_file': 0, 'transaction_file_duplicate': 0, 'transaction_provide_loop': 0, 'transaction_file_loop': 0}\n"
     ]
    },
    {
     "name": "stderr",
     "output_type": "stream",
     "text": [
      " 49%|███████████████████████▎                        | 65212/133973 [17:54<01:59, 573.31it/s]"
     ]
    },
    {
     "name": "stdout",
     "output_type": "stream",
     "text": [
      "66366\n",
      "{'cache': 483306, 'file': 0, 'file_duplicated': 0, 'provide': 62278, 'provide_duplicated': 4060, 'name': 28, 'markingerror': 106, 'depsolveerror': 233, 'transaction_provide': 30322, 'transaction_provide_duplicate': 11766, 'transaction_file': 0, 'transaction_file_duplicate': 0, 'transaction_provide_loop': 0, 'transaction_file_loop': 0}\n"
     ]
    },
    {
     "name": "stderr",
     "output_type": "stream",
     "text": [
      " 49%|███████████████████████▋                        | 66096/133973 [18:00<06:44, 167.95it/s]"
     ]
    },
    {
     "name": "stdout",
     "output_type": "stream",
     "text": [
      "66797\n",
      "{'cache': 487146, 'file': 0, 'file_duplicated': 0, 'provide': 62701, 'provide_duplicated': 4068, 'name': 28, 'markingerror': 106, 'depsolveerror': 233, 'transaction_provide': 30445, 'transaction_provide_duplicate': 11766, 'transaction_file': 0, 'transaction_file_duplicate': 0, 'transaction_provide_loop': 0, 'transaction_file_loop': 0}\n"
     ]
    },
    {
     "name": "stderr",
     "output_type": "stream",
     "text": [
      " 50%|████████████████████████                        | 67077/133973 [18:10<04:00, 278.01it/s]"
     ]
    },
    {
     "name": "stdout",
     "output_type": "stream",
     "text": [
      "71183\n",
      "{'cache': 489686, 'file': 0, 'file_duplicated': 0, 'provide': 67086, 'provide_duplicated': 4068, 'name': 29, 'markingerror': 106, 'depsolveerror': 233, 'transaction_provide': 30632, 'transaction_provide_duplicate': 11767, 'transaction_file': 0, 'transaction_file_duplicate': 0, 'transaction_provide_loop': 0, 'transaction_file_loop': 0}\n"
     ]
    },
    {
     "name": "stderr",
     "output_type": "stream",
     "text": [
      " 51%|████████████████████████▎                       | 68032/133973 [18:20<06:03, 181.17it/s]"
     ]
    },
    {
     "name": "stdout",
     "output_type": "stream",
     "text": [
      "71315\n",
      "{'cache': 492268, 'file': 0, 'file_duplicated': 0, 'provide': 67218, 'provide_duplicated': 4068, 'name': 29, 'markingerror': 106, 'depsolveerror': 233, 'transaction_provide': 30820, 'transaction_provide_duplicate': 11767, 'transaction_file': 0, 'transaction_file_duplicate': 0, 'transaction_provide_loop': 0, 'transaction_file_loop': 0}\n"
     ]
    },
    {
     "name": "stderr",
     "output_type": "stream",
     "text": [
      " 51%|████████████████████████▋                       | 68986/133973 [18:29<09:04, 119.31it/s]"
     ]
    },
    {
     "name": "stdout",
     "output_type": "stream",
     "text": [
      "71442\n",
      "{'cache': 495251, 'file': 0, 'file_duplicated': 0, 'provide': 67344, 'provide_duplicated': 4069, 'name': 29, 'markingerror': 106, 'depsolveerror': 233, 'transaction_provide': 31003, 'transaction_provide_duplicate': 11767, 'transaction_file': 0, 'transaction_file_duplicate': 0, 'transaction_provide_loop': 0, 'transaction_file_loop': 0}\n"
     ]
    },
    {
     "name": "stderr",
     "output_type": "stream",
     "text": [
      " 52%|█████████████████████████▌                       | 70008/133973 [18:41<13:39, 78.02it/s]"
     ]
    },
    {
     "name": "stdout",
     "output_type": "stream",
     "text": [
      "71570\n",
      "{'cache': 498058, 'file': 0, 'file_duplicated': 0, 'provide': 67472, 'provide_duplicated': 4069, 'name': 29, 'markingerror': 106, 'depsolveerror': 233, 'transaction_provide': 31221, 'transaction_provide_duplicate': 11767, 'transaction_file': 0, 'transaction_file_duplicate': 0, 'transaction_provide_loop': 0, 'transaction_file_loop': 0}\n"
     ]
    },
    {
     "name": "stderr",
     "output_type": "stream",
     "text": [
      " 53%|█████████████████████████▉                       | 71020/133973 [18:52<11:56, 87.83it/s]"
     ]
    },
    {
     "name": "stdout",
     "output_type": "stream",
     "text": [
      "71731\n",
      "{'cache': 501178, 'file': 0, 'file_duplicated': 0, 'provide': 67633, 'provide_duplicated': 4069, 'name': 29, 'markingerror': 106, 'depsolveerror': 233, 'transaction_provide': 31415, 'transaction_provide_duplicate': 11767, 'transaction_file': 0, 'transaction_file_duplicate': 0, 'transaction_provide_loop': 0, 'transaction_file_loop': 0}\n"
     ]
    },
    {
     "name": "stderr",
     "output_type": "stream",
     "text": [
      " 54%|█████████████████████████▊                      | 72042/133973 [19:02<07:04, 145.80it/s]"
     ]
    },
    {
     "name": "stdout",
     "output_type": "stream",
     "text": [
      "71834\n",
      "{'cache': 503943, 'file': 0, 'file_duplicated': 0, 'provide': 67733, 'provide_duplicated': 4072, 'name': 29, 'markingerror': 106, 'depsolveerror': 233, 'transaction_provide': 31604, 'transaction_provide_duplicate': 11767, 'transaction_file': 0, 'transaction_file_duplicate': 0, 'transaction_provide_loop': 0, 'transaction_file_loop': 0}\n"
     ]
    },
    {
     "name": "stderr",
     "output_type": "stream",
     "text": [
      " 55%|██████████████████████████▏                     | 73065/133973 [19:06<01:57, 516.55it/s]"
     ]
    },
    {
     "name": "stdout",
     "output_type": "stream",
     "text": [
      "72369\n",
      "{'cache': 512117, 'file': 0, 'file_duplicated': 0, 'provide': 68214, 'provide_duplicated': 4126, 'name': 29, 'markingerror': 108, 'depsolveerror': 234, 'transaction_provide': 31721, 'transaction_provide_duplicate': 11770, 'transaction_file': 0, 'transaction_file_duplicate': 0, 'transaction_provide_loop': 0, 'transaction_file_loop': 0}\n"
     ]
    },
    {
     "name": "stderr",
     "output_type": "stream",
     "text": [
      " 55%|██████████████████████████▌                     | 74037/133973 [19:10<03:08, 317.97it/s]"
     ]
    },
    {
     "name": "stdout",
     "output_type": "stream",
     "text": [
      "73410\n",
      "{'cache': 522571, 'file': 0, 'file_duplicated': 0, 'provide': 69189, 'provide_duplicated': 4192, 'name': 29, 'markingerror': 108, 'depsolveerror': 234, 'transaction_provide': 31851, 'transaction_provide_duplicate': 11808, 'transaction_file': 0, 'transaction_file_duplicate': 0, 'transaction_provide_loop': 0, 'transaction_file_loop': 0}\n"
     ]
    },
    {
     "name": "stderr",
     "output_type": "stream",
     "text": [
      " 56%|██████████████████████████▉                     | 75074/133973 [19:14<03:16, 299.11it/s]"
     ]
    },
    {
     "name": "stdout",
     "output_type": "stream",
     "text": [
      "74051\n",
      "{'cache': 534094, 'file': 0, 'file_duplicated': 0, 'provide': 69761, 'provide_duplicated': 4261, 'name': 29, 'markingerror': 110, 'depsolveerror': 237, 'transaction_provide': 31927, 'transaction_provide_duplicate': 11838, 'transaction_file': 0, 'transaction_file_duplicate': 0, 'transaction_provide_loop': 0, 'transaction_file_loop': 0}\n"
     ]
    },
    {
     "name": "stderr",
     "output_type": "stream",
     "text": [
      " 57%|███████████████████████████▏                    | 76038/133973 [19:16<02:59, 323.19it/s]"
     ]
    },
    {
     "name": "stdout",
     "output_type": "stream",
     "text": [
      "74372\n",
      "{'cache': 539061, 'file': 0, 'file_duplicated': 0, 'provide': 70061, 'provide_duplicated': 4282, 'name': 29, 'markingerror': 110, 'depsolveerror': 237, 'transaction_provide': 32054, 'transaction_provide_duplicate': 11841, 'transaction_file': 0, 'transaction_file_duplicate': 0, 'transaction_provide_loop': 0, 'transaction_file_loop': 0}\n"
     ]
    },
    {
     "name": "stderr",
     "output_type": "stream",
     "text": [
      " 57%|███████████████████████████▌                    | 77020/133973 [19:17<01:11, 796.78it/s]"
     ]
    },
    {
     "name": "stdout",
     "output_type": "stream",
     "text": [
      "74372\n",
      "{'cache': 539061, 'file': 0, 'file_duplicated': 0, 'provide': 70061, 'provide_duplicated': 4282, 'name': 29, 'markingerror': 110, 'depsolveerror': 237, 'transaction_provide': 32148, 'transaction_provide_duplicate': 11841, 'transaction_file': 0, 'transaction_file_duplicate': 0, 'transaction_provide_loop': 0, 'transaction_file_loop': 0}\n"
     ]
    },
    {
     "name": "stderr",
     "output_type": "stream",
     "text": [
      " 58%|███████████████████████████▉                    | 78055/133973 [19:20<02:22, 392.27it/s]"
     ]
    },
    {
     "name": "stdout",
     "output_type": "stream",
     "text": [
      "74372\n",
      "{'cache': 539061, 'file': 0, 'file_duplicated': 0, 'provide': 70061, 'provide_duplicated': 4282, 'name': 29, 'markingerror': 110, 'depsolveerror': 237, 'transaction_provide': 32421, 'transaction_provide_duplicate': 11841, 'transaction_file': 0, 'transaction_file_duplicate': 0, 'transaction_provide_loop': 0, 'transaction_file_loop': 0}\n"
     ]
    },
    {
     "name": "stderr",
     "output_type": "stream",
     "text": [
      " 59%|████████████████████████████▎                   | 79128/133973 [19:24<01:46, 517.31it/s]"
     ]
    },
    {
     "name": "stdout",
     "output_type": "stream",
     "text": [
      "74372\n",
      "{'cache': 539061, 'file': 0, 'file_duplicated': 0, 'provide': 70061, 'provide_duplicated': 4282, 'name': 29, 'markingerror': 110, 'depsolveerror': 237, 'transaction_provide': 32716, 'transaction_provide_duplicate': 11841, 'transaction_file': 0, 'transaction_file_duplicate': 0, 'transaction_provide_loop': 0, 'transaction_file_loop': 0}\n"
     ]
    },
    {
     "name": "stderr",
     "output_type": "stream",
     "text": [
      " 60%|████████████████████████████▋                   | 80010/133973 [19:26<02:17, 392.40it/s]"
     ]
    },
    {
     "name": "stdout",
     "output_type": "stream",
     "text": [
      "74372\n",
      "{'cache': 539061, 'file': 0, 'file_duplicated': 0, 'provide': 70061, 'provide_duplicated': 4282, 'name': 29, 'markingerror': 110, 'depsolveerror': 237, 'transaction_provide': 32926, 'transaction_provide_duplicate': 11841, 'transaction_file': 0, 'transaction_file_duplicate': 0, 'transaction_provide_loop': 0, 'transaction_file_loop': 0}\n"
     ]
    },
    {
     "name": "stderr",
     "output_type": "stream",
     "text": [
      " 61%|█████████████████████████████                   | 81099/133973 [19:28<01:20, 654.37it/s]"
     ]
    },
    {
     "name": "stdout",
     "output_type": "stream",
     "text": [
      "74372\n",
      "{'cache': 539061, 'file': 0, 'file_duplicated': 0, 'provide': 70061, 'provide_duplicated': 4282, 'name': 29, 'markingerror': 110, 'depsolveerror': 237, 'transaction_provide': 33128, 'transaction_provide_duplicate': 11841, 'transaction_file': 0, 'transaction_file_duplicate': 0, 'transaction_provide_loop': 0, 'transaction_file_loop': 0}\n"
     ]
    },
    {
     "name": "stderr",
     "output_type": "stream",
     "text": [
      " 61%|█████████████████████████████▍                  | 82047/133973 [19:31<02:03, 421.30it/s]"
     ]
    },
    {
     "name": "stdout",
     "output_type": "stream",
     "text": [
      "74372\n",
      "{'cache': 539061, 'file': 0, 'file_duplicated': 0, 'provide': 70061, 'provide_duplicated': 4282, 'name': 29, 'markingerror': 110, 'depsolveerror': 237, 'transaction_provide': 33329, 'transaction_provide_duplicate': 11841, 'transaction_file': 0, 'transaction_file_duplicate': 0, 'transaction_provide_loop': 0, 'transaction_file_loop': 0}\n"
     ]
    },
    {
     "name": "stderr",
     "output_type": "stream",
     "text": [
      " 62%|█████████████████████████████▋                  | 82991/133973 [19:34<03:28, 245.03it/s]"
     ]
    },
    {
     "name": "stdout",
     "output_type": "stream",
     "text": [
      "74372\n",
      "{'cache': 539061, 'file': 0, 'file_duplicated': 0, 'provide': 70061, 'provide_duplicated': 4282, 'name': 29, 'markingerror': 110, 'depsolveerror': 237, 'transaction_provide': 33644, 'transaction_provide_duplicate': 11841, 'transaction_file': 0, 'transaction_file_duplicate': 0, 'transaction_provide_loop': 0, 'transaction_file_loop': 0}\n"
     ]
    },
    {
     "name": "stderr",
     "output_type": "stream",
     "text": [
      " 63%|██████████████████████████████                  | 84005/133973 [19:38<01:29, 559.61it/s]"
     ]
    },
    {
     "name": "stdout",
     "output_type": "stream",
     "text": [
      "74372\n",
      "{'cache': 539061, 'file': 0, 'file_duplicated': 0, 'provide': 70061, 'provide_duplicated': 4282, 'name': 29, 'markingerror': 110, 'depsolveerror': 237, 'transaction_provide': 34014, 'transaction_provide_duplicate': 11841, 'transaction_file': 0, 'transaction_file_duplicate': 0, 'transaction_provide_loop': 0, 'transaction_file_loop': 0}\n"
     ]
    },
    {
     "name": "stderr",
     "output_type": "stream",
     "text": [
      " 63%|█████████████████████████████▊                 | 85019/133973 [19:39<00:26, 1822.37it/s]"
     ]
    },
    {
     "name": "stdout",
     "output_type": "stream",
     "text": [
      "74372\n",
      "{'cache': 539061, 'file': 0, 'file_duplicated': 0, 'provide': 70061, 'provide_duplicated': 4282, 'name': 29, 'markingerror': 110, 'depsolveerror': 237, 'transaction_provide': 34084, 'transaction_provide_duplicate': 11841, 'transaction_file': 0, 'transaction_file_duplicate': 0, 'transaction_provide_loop': 0, 'transaction_file_loop': 0}\n"
     ]
    },
    {
     "name": "stderr",
     "output_type": "stream",
     "text": [
      " 64%|██████████████████████████████▊                 | 86074/133973 [19:41<01:37, 493.14it/s]"
     ]
    },
    {
     "name": "stdout",
     "output_type": "stream",
     "text": [
      "74372\n",
      "{'cache': 539061, 'file': 0, 'file_duplicated': 0, 'provide': 70061, 'provide_duplicated': 4282, 'name': 29, 'markingerror': 110, 'depsolveerror': 237, 'transaction_provide': 34314, 'transaction_provide_duplicate': 11841, 'transaction_file': 0, 'transaction_file_duplicate': 0, 'transaction_provide_loop': 0, 'transaction_file_loop': 0}\n"
     ]
    },
    {
     "name": "stderr",
     "output_type": "stream",
     "text": [
      " 65%|███████████████████████████████▏                | 87098/133973 [19:44<01:38, 476.88it/s]"
     ]
    },
    {
     "name": "stdout",
     "output_type": "stream",
     "text": [
      "74372\n",
      "{'cache': 539061, 'file': 0, 'file_duplicated': 0, 'provide': 70061, 'provide_duplicated': 4282, 'name': 29, 'markingerror': 110, 'depsolveerror': 237, 'transaction_provide': 34539, 'transaction_provide_duplicate': 11841, 'transaction_file': 0, 'transaction_file_duplicate': 0, 'transaction_provide_loop': 0, 'transaction_file_loop': 0}\n"
     ]
    },
    {
     "name": "stderr",
     "output_type": "stream",
     "text": [
      " 66%|███████████████████████████████▌                | 88071/133973 [19:46<01:17, 592.00it/s]"
     ]
    },
    {
     "name": "stdout",
     "output_type": "stream",
     "text": [
      "74372\n",
      "{'cache': 539061, 'file': 0, 'file_duplicated': 0, 'provide': 70061, 'provide_duplicated': 4282, 'name': 29, 'markingerror': 110, 'depsolveerror': 237, 'transaction_provide': 34706, 'transaction_provide_duplicate': 11841, 'transaction_file': 0, 'transaction_file_duplicate': 0, 'transaction_provide_loop': 0, 'transaction_file_loop': 0}\n"
     ]
    },
    {
     "name": "stderr",
     "output_type": "stream",
     "text": [
      " 67%|███████████████████████████████▉                | 89106/133973 [19:48<01:28, 506.67it/s]"
     ]
    },
    {
     "name": "stdout",
     "output_type": "stream",
     "text": [
      "74372\n",
      "{'cache': 539061, 'file': 0, 'file_duplicated': 0, 'provide': 70061, 'provide_duplicated': 4282, 'name': 29, 'markingerror': 110, 'depsolveerror': 237, 'transaction_provide': 34871, 'transaction_provide_duplicate': 11841, 'transaction_file': 0, 'transaction_file_duplicate': 0, 'transaction_provide_loop': 0, 'transaction_file_loop': 0}\n"
     ]
    },
    {
     "name": "stderr",
     "output_type": "stream",
     "text": [
      " 67%|████████████████████████████████▎               | 90025/133973 [19:50<01:45, 417.52it/s]"
     ]
    },
    {
     "name": "stdout",
     "output_type": "stream",
     "text": [
      "74372\n",
      "{'cache': 539061, 'file': 0, 'file_duplicated': 0, 'provide': 70061, 'provide_duplicated': 4282, 'name': 29, 'markingerror': 110, 'depsolveerror': 237, 'transaction_provide': 35089, 'transaction_provide_duplicate': 11841, 'transaction_file': 0, 'transaction_file_duplicate': 0, 'transaction_provide_loop': 0, 'transaction_file_loop': 0}\n"
     ]
    },
    {
     "name": "stderr",
     "output_type": "stream",
     "text": [
      " 68%|████████████████████████████████▋               | 91071/133973 [19:53<02:18, 309.21it/s]"
     ]
    },
    {
     "name": "stdout",
     "output_type": "stream",
     "text": [
      "74372\n",
      "{'cache': 539061, 'file': 0, 'file_duplicated': 0, 'provide': 70061, 'provide_duplicated': 4282, 'name': 29, 'markingerror': 110, 'depsolveerror': 237, 'transaction_provide': 35350, 'transaction_provide_duplicate': 11841, 'transaction_file': 0, 'transaction_file_duplicate': 0, 'transaction_provide_loop': 0, 'transaction_file_loop': 0}\n"
     ]
    },
    {
     "name": "stderr",
     "output_type": "stream",
     "text": [
      " 69%|████████████████████████████████▉               | 92063/133973 [19:55<01:31, 457.09it/s]"
     ]
    },
    {
     "name": "stdout",
     "output_type": "stream",
     "text": [
      "74372\n",
      "{'cache': 539061, 'file': 0, 'file_duplicated': 0, 'provide': 70061, 'provide_duplicated': 4282, 'name': 29, 'markingerror': 110, 'depsolveerror': 237, 'transaction_provide': 35535, 'transaction_provide_duplicate': 11841, 'transaction_file': 0, 'transaction_file_duplicate': 0, 'transaction_provide_loop': 0, 'transaction_file_loop': 0}\n"
     ]
    },
    {
     "name": "stderr",
     "output_type": "stream",
     "text": [
      " 69%|█████████████████████████████████▎              | 93094/133973 [19:59<01:27, 466.90it/s]"
     ]
    },
    {
     "name": "stdout",
     "output_type": "stream",
     "text": [
      "74372\n",
      "{'cache': 539061, 'file': 0, 'file_duplicated': 0, 'provide': 70061, 'provide_duplicated': 4282, 'name': 29, 'markingerror': 110, 'depsolveerror': 237, 'transaction_provide': 35784, 'transaction_provide_duplicate': 11841, 'transaction_file': 0, 'transaction_file_duplicate': 0, 'transaction_provide_loop': 0, 'transaction_file_loop': 0}\n"
     ]
    },
    {
     "name": "stderr",
     "output_type": "stream",
     "text": [
      " 70%|█████████████████████████████████▋              | 94121/133973 [20:01<00:59, 667.69it/s]"
     ]
    },
    {
     "name": "stdout",
     "output_type": "stream",
     "text": [
      "74372\n",
      "{'cache': 539061, 'file': 0, 'file_duplicated': 0, 'provide': 70061, 'provide_duplicated': 4282, 'name': 29, 'markingerror': 110, 'depsolveerror': 237, 'transaction_provide': 36007, 'transaction_provide_duplicate': 11841, 'transaction_file': 0, 'transaction_file_duplicate': 0, 'transaction_provide_loop': 0, 'transaction_file_loop': 0}\n"
     ]
    },
    {
     "name": "stderr",
     "output_type": "stream",
     "text": [
      " 71%|██████████████████████████████████              | 95166/133973 [20:03<01:09, 555.84it/s]"
     ]
    },
    {
     "name": "stdout",
     "output_type": "stream",
     "text": [
      "74372\n",
      "{'cache': 539061, 'file': 0, 'file_duplicated': 0, 'provide': 70061, 'provide_duplicated': 4282, 'name': 29, 'markingerror': 110, 'depsolveerror': 237, 'transaction_provide': 36204, 'transaction_provide_duplicate': 11841, 'transaction_file': 0, 'transaction_file_duplicate': 0, 'transaction_provide_loop': 0, 'transaction_file_loop': 0}\n"
     ]
    },
    {
     "name": "stderr",
     "output_type": "stream",
     "text": [
      " 72%|██████████████████████████████████▍             | 96087/133973 [20:04<00:49, 768.20it/s]"
     ]
    },
    {
     "name": "stdout",
     "output_type": "stream",
     "text": [
      "74372\n",
      "{'cache': 539061, 'file': 0, 'file_duplicated': 0, 'provide': 70061, 'provide_duplicated': 4282, 'name': 29, 'markingerror': 110, 'depsolveerror': 237, 'transaction_provide': 36287, 'transaction_provide_duplicate': 11841, 'transaction_file': 0, 'transaction_file_duplicate': 0, 'transaction_provide_loop': 0, 'transaction_file_loop': 0}\n"
     ]
    },
    {
     "name": "stderr",
     "output_type": "stream",
     "text": [
      " 72%|██████████████████████████████████▊             | 97100/133973 [20:07<01:25, 428.98it/s]"
     ]
    },
    {
     "name": "stdout",
     "output_type": "stream",
     "text": [
      "74372\n",
      "{'cache': 539061, 'file': 0, 'file_duplicated': 0, 'provide': 70061, 'provide_duplicated': 4282, 'name': 29, 'markingerror': 110, 'depsolveerror': 237, 'transaction_provide': 36566, 'transaction_provide_duplicate': 11841, 'transaction_file': 0, 'transaction_file_duplicate': 0, 'transaction_provide_loop': 0, 'transaction_file_loop': 0}\n"
     ]
    },
    {
     "name": "stderr",
     "output_type": "stream",
     "text": [
      " 73%|███████████████████████████████████▏            | 98094/133973 [20:11<01:56, 306.74it/s]"
     ]
    },
    {
     "name": "stdout",
     "output_type": "stream",
     "text": [
      "74372\n",
      "{'cache': 539061, 'file': 0, 'file_duplicated': 0, 'provide': 70061, 'provide_duplicated': 4282, 'name': 29, 'markingerror': 110, 'depsolveerror': 237, 'transaction_provide': 36867, 'transaction_provide_duplicate': 11841, 'transaction_file': 0, 'transaction_file_duplicate': 0, 'transaction_provide_loop': 0, 'transaction_file_loop': 0}\n"
     ]
    },
    {
     "name": "stderr",
     "output_type": "stream",
     "text": [
      " 74%|██████████████████████████████████▉            | 99489/133973 [20:14<00:29, 1164.02it/s]"
     ]
    },
    {
     "name": "stdout",
     "output_type": "stream",
     "text": [
      "74372\n",
      "{'cache': 539061, 'file': 0, 'file_duplicated': 0, 'provide': 70061, 'provide_duplicated': 4282, 'name': 29, 'markingerror': 110, 'depsolveerror': 237, 'transaction_provide': 37168, 'transaction_provide_duplicate': 11841, 'transaction_file': 0, 'transaction_file_duplicate': 0, 'transaction_provide_loop': 0, 'transaction_file_loop': 0}\n"
     ]
    },
    {
     "name": "stderr",
     "output_type": "stream",
     "text": [
      " 75%|███████████████████████████████████            | 100016/133973 [20:15<00:46, 730.95it/s]"
     ]
    },
    {
     "name": "stdout",
     "output_type": "stream",
     "text": [
      "74372\n",
      "{'cache': 539061, 'file': 0, 'file_duplicated': 0, 'provide': 70061, 'provide_duplicated': 4282, 'name': 29, 'markingerror': 110, 'depsolveerror': 237, 'transaction_provide': 37253, 'transaction_provide_duplicate': 11841, 'transaction_file': 0, 'transaction_file_duplicate': 0, 'transaction_provide_loop': 0, 'transaction_file_loop': 0}\n"
     ]
    },
    {
     "name": "stderr",
     "output_type": "stream",
     "text": [
      " 75%|███████████████████████████████████▍           | 101097/133973 [20:18<01:22, 397.34it/s]"
     ]
    },
    {
     "name": "stdout",
     "output_type": "stream",
     "text": [
      "74372\n",
      "{'cache': 539061, 'file': 0, 'file_duplicated': 0, 'provide': 70061, 'provide_duplicated': 4282, 'name': 29, 'markingerror': 110, 'depsolveerror': 237, 'transaction_provide': 37559, 'transaction_provide_duplicate': 11841, 'transaction_file': 0, 'transaction_file_duplicate': 0, 'transaction_provide_loop': 0, 'transaction_file_loop': 0}\n"
     ]
    },
    {
     "name": "stderr",
     "output_type": "stream",
     "text": [
      " 76%|███████████████████████████████████▊           | 102089/133973 [20:21<01:31, 347.70it/s]"
     ]
    },
    {
     "name": "stdout",
     "output_type": "stream",
     "text": [
      "74372\n",
      "{'cache': 539061, 'file': 0, 'file_duplicated': 0, 'provide': 70061, 'provide_duplicated': 4282, 'name': 29, 'markingerror': 110, 'depsolveerror': 237, 'transaction_provide': 37790, 'transaction_provide_duplicate': 11841, 'transaction_file': 0, 'transaction_file_duplicate': 0, 'transaction_provide_loop': 0, 'transaction_file_loop': 0}\n"
     ]
    },
    {
     "name": "stderr",
     "output_type": "stream",
     "text": [
      " 77%|████████████████████████████████████▏          | 103027/133973 [20:25<02:03, 250.99it/s]"
     ]
    },
    {
     "name": "stdout",
     "output_type": "stream",
     "text": [
      "74372\n",
      "{'cache': 539061, 'file': 0, 'file_duplicated': 0, 'provide': 70061, 'provide_duplicated': 4282, 'name': 29, 'markingerror': 110, 'depsolveerror': 237, 'transaction_provide': 38210, 'transaction_provide_duplicate': 11841, 'transaction_file': 0, 'transaction_file_duplicate': 0, 'transaction_provide_loop': 0, 'transaction_file_loop': 0}\n"
     ]
    },
    {
     "name": "stderr",
     "output_type": "stream",
     "text": [
      " 78%|████████████████████████████████████▍          | 103965/133973 [20:28<01:11, 418.71it/s]"
     ]
    },
    {
     "name": "stdout",
     "output_type": "stream",
     "text": [
      "74372\n",
      "{'cache': 539061, 'file': 0, 'file_duplicated': 0, 'provide': 70061, 'provide_duplicated': 4282, 'name': 29, 'markingerror': 110, 'depsolveerror': 237, 'transaction_provide': 38484, 'transaction_provide_duplicate': 11841, 'transaction_file': 0, 'transaction_file_duplicate': 0, 'transaction_provide_loop': 0, 'transaction_file_loop': 0}\n"
     ]
    },
    {
     "name": "stderr",
     "output_type": "stream",
     "text": [
      " 78%|████████████████████████████████████▊          | 105097/133973 [20:31<00:46, 622.27it/s]"
     ]
    },
    {
     "name": "stdout",
     "output_type": "stream",
     "text": [
      "74372\n",
      "{'cache': 539061, 'file': 0, 'file_duplicated': 0, 'provide': 70061, 'provide_duplicated': 4282, 'name': 29, 'markingerror': 110, 'depsolveerror': 237, 'transaction_provide': 38729, 'transaction_provide_duplicate': 11841, 'transaction_file': 0, 'transaction_file_duplicate': 0, 'transaction_provide_loop': 0, 'transaction_file_loop': 0}\n"
     ]
    },
    {
     "name": "stderr",
     "output_type": "stream",
     "text": [
      " 79%|█████████████████████████████████████▏         | 106057/133973 [20:33<00:53, 526.36it/s]"
     ]
    },
    {
     "name": "stdout",
     "output_type": "stream",
     "text": [
      "74372\n",
      "{'cache': 539061, 'file': 0, 'file_duplicated': 0, 'provide': 70061, 'provide_duplicated': 4282, 'name': 29, 'markingerror': 110, 'depsolveerror': 237, 'transaction_provide': 38885, 'transaction_provide_duplicate': 11841, 'transaction_file': 0, 'transaction_file_duplicate': 0, 'transaction_provide_loop': 0, 'transaction_file_loop': 0}\n"
     ]
    },
    {
     "name": "stderr",
     "output_type": "stream",
     "text": [
      " 80%|█████████████████████████████████████▌         | 107099/133973 [20:35<00:59, 448.42it/s]"
     ]
    },
    {
     "name": "stdout",
     "output_type": "stream",
     "text": [
      "74372\n",
      "{'cache': 539061, 'file': 0, 'file_duplicated': 0, 'provide': 70061, 'provide_duplicated': 4282, 'name': 29, 'markingerror': 110, 'depsolveerror': 237, 'transaction_provide': 39131, 'transaction_provide_duplicate': 11841, 'transaction_file': 0, 'transaction_file_duplicate': 0, 'transaction_provide_loop': 0, 'transaction_file_loop': 0}\n"
     ]
    },
    {
     "name": "stderr",
     "output_type": "stream",
     "text": [
      " 81%|█████████████████████████████████████▉         | 108102/133973 [20:38<01:03, 405.44it/s]"
     ]
    },
    {
     "name": "stdout",
     "output_type": "stream",
     "text": [
      "74372\n",
      "{'cache': 539061, 'file': 0, 'file_duplicated': 0, 'provide': 70061, 'provide_duplicated': 4282, 'name': 29, 'markingerror': 110, 'depsolveerror': 237, 'transaction_provide': 39339, 'transaction_provide_duplicate': 11841, 'transaction_file': 0, 'transaction_file_duplicate': 0, 'transaction_provide_loop': 0, 'transaction_file_loop': 0}\n"
     ]
    },
    {
     "name": "stderr",
     "output_type": "stream",
     "text": [
      " 81%|█████████████████████████████████████▍        | 109151/133973 [20:39<00:21, 1148.49it/s]"
     ]
    },
    {
     "name": "stdout",
     "output_type": "stream",
     "text": [
      "74372\n",
      "{'cache': 539061, 'file': 0, 'file_duplicated': 0, 'provide': 70061, 'provide_duplicated': 4282, 'name': 29, 'markingerror': 110, 'depsolveerror': 237, 'transaction_provide': 39498, 'transaction_provide_duplicate': 11841, 'transaction_file': 0, 'transaction_file_duplicate': 0, 'transaction_provide_loop': 0, 'transaction_file_loop': 0}\n"
     ]
    },
    {
     "name": "stderr",
     "output_type": "stream",
     "text": [
      " 82%|██████████████████████████████████████▌        | 109961/133973 [20:41<00:38, 627.43it/s]"
     ]
    },
    {
     "name": "stdout",
     "output_type": "stream",
     "text": [
      "74526\n",
      "{'cache': 539373, 'file': 0, 'file_duplicated': 0, 'provide': 70182, 'provide_duplicated': 4315, 'name': 29, 'markingerror': 112, 'depsolveerror': 237, 'transaction_provide': 39692, 'transaction_provide_duplicate': 11841, 'transaction_file': 0, 'transaction_file_duplicate': 0, 'transaction_provide_loop': 0, 'transaction_file_loop': 0}\n"
     ]
    },
    {
     "name": "stderr",
     "output_type": "stream",
     "text": [
      " 83%|██████████████████████████████████████▉        | 111024/133973 [20:54<02:18, 165.73it/s]"
     ]
    },
    {
     "name": "stdout",
     "output_type": "stream",
     "text": [
      "76677\n",
      "{'cache': 548100, 'file': 0, 'file_duplicated': 0, 'provide': 71499, 'provide_duplicated': 5148, 'name': 30, 'markingerror': 130, 'depsolveerror': 237, 'transaction_provide': 40849, 'transaction_provide_duplicate': 11841, 'transaction_file': 0, 'transaction_file_duplicate': 0, 'transaction_provide_loop': 0, 'transaction_file_loop': 0}\n"
     ]
    },
    {
     "name": "stderr",
     "output_type": "stream",
     "text": [
      " 84%|████████████████████████████████████████▏       | 112011/133973 [21:10<05:49, 62.86it/s]"
     ]
    },
    {
     "name": "stdout",
     "output_type": "stream",
     "text": [
      "79526\n",
      "{'cache': 557825, 'file': 0, 'file_duplicated': 0, 'provide': 73426, 'provide_duplicated': 6065, 'name': 35, 'markingerror': 164, 'depsolveerror': 237, 'transaction_provide': 42227, 'transaction_provide_duplicate': 11841, 'transaction_file': 0, 'transaction_file_duplicate': 0, 'transaction_provide_loop': 0, 'transaction_file_loop': 0}\n"
     ]
    },
    {
     "name": "stderr",
     "output_type": "stream",
     "text": [
      " 84%|████████████████████████████████████████▍       | 113012/133973 [21:25<06:45, 51.68it/s]"
     ]
    },
    {
     "name": "stdout",
     "output_type": "stream",
     "text": [
      "81553\n",
      "{'cache': 566805, 'file': 0, 'file_duplicated': 0, 'provide': 74830, 'provide_duplicated': 6683, 'name': 40, 'markingerror': 191, 'depsolveerror': 237, 'transaction_provide': 43460, 'transaction_provide_duplicate': 11841, 'transaction_file': 0, 'transaction_file_duplicate': 0, 'transaction_provide_loop': 0, 'transaction_file_loop': 0}\n"
     ]
    },
    {
     "name": "stderr",
     "output_type": "stream",
     "text": [
      " 85%|████████████████████████████████████████▊       | 114007/133973 [21:46<09:29, 35.05it/s]"
     ]
    },
    {
     "name": "stdout",
     "output_type": "stream",
     "text": [
      "84020\n",
      "{'cache': 579797, 'file': 0, 'file_duplicated': 0, 'provide': 77010, 'provide_duplicated': 6969, 'name': 41, 'markingerror': 1218, 'depsolveerror': 237, 'transaction_provide': 44041, 'transaction_provide_duplicate': 11841, 'transaction_file': 0, 'transaction_file_duplicate': 0, 'transaction_provide_loop': 0, 'transaction_file_loop': 0}\n"
     ]
    },
    {
     "name": "stderr",
     "output_type": "stream",
     "text": [
      " 86%|████████████████████████████████████████▍      | 115289/133973 [21:56<00:20, 899.81it/s]"
     ]
    },
    {
     "name": "stdout",
     "output_type": "stream",
     "text": [
      "85930\n",
      "{'cache': 589428, 'file': 0, 'file_duplicated': 0, 'provide': 78636, 'provide_duplicated': 7251, 'name': 43, 'markingerror': 1385, 'depsolveerror': 237, 'transaction_provide': 44663, 'transaction_provide_duplicate': 11841, 'transaction_file': 0, 'transaction_file_duplicate': 0, 'transaction_provide_loop': 0, 'transaction_file_loop': 0}\n"
     ]
    },
    {
     "name": "stderr",
     "output_type": "stream",
     "text": [
      " 87%|████████████████████████████████████████▋      | 116095/133973 [21:57<00:25, 696.08it/s]"
     ]
    },
    {
     "name": "stdout",
     "output_type": "stream",
     "text": [
      "87259\n",
      "{'cache': 594236, 'file': 0, 'file_duplicated': 0, 'provide': 79964, 'provide_duplicated': 7252, 'name': 43, 'markingerror': 1395, 'depsolveerror': 237, 'transaction_provide': 44759, 'transaction_provide_duplicate': 11841, 'transaction_file': 0, 'transaction_file_duplicate': 0, 'transaction_provide_loop': 0, 'transaction_file_loop': 0}\n"
     ]
    },
    {
     "name": "stderr",
     "output_type": "stream",
     "text": [
      " 87%|█████████████████████████████████████████      | 117032/133973 [22:10<02:33, 110.32it/s]"
     ]
    },
    {
     "name": "stdout",
     "output_type": "stream",
     "text": [
      "89045\n",
      "{'cache': 604578, 'file': 0, 'file_duplicated': 0, 'provide': 81297, 'provide_duplicated': 7700, 'name': 48, 'markingerror': 1431, 'depsolveerror': 237, 'transaction_provide': 45851, 'transaction_provide_duplicate': 11841, 'transaction_file': 0, 'transaction_file_duplicate': 0, 'transaction_provide_loop': 0, 'transaction_file_loop': 0}\n"
     ]
    },
    {
     "name": "stderr",
     "output_type": "stream",
     "text": [
      " 88%|██████████████████████████████████████████▎     | 118007/133973 [22:28<06:56, 38.31it/s]"
     ]
    },
    {
     "name": "stdout",
     "output_type": "stream",
     "text": [
      "91328\n",
      "{'cache': 617558, 'file': 0, 'file_duplicated': 0, 'provide': 82610, 'provide_duplicated': 8658, 'name': 60, 'markingerror': 1455, 'depsolveerror': 237, 'transaction_provide': 47483, 'transaction_provide_duplicate': 11841, 'transaction_file': 0, 'transaction_file_duplicate': 0, 'transaction_provide_loop': 0, 'transaction_file_loop': 0}\n"
     ]
    },
    {
     "name": "stderr",
     "output_type": "stream",
     "text": [
      " 89%|██████████████████████████████████████████▋     | 119007/133973 [22:50<03:50, 65.03it/s]"
     ]
    },
    {
     "name": "stdout",
     "output_type": "stream",
     "text": [
      "93410\n",
      "{'cache': 626746, 'file': 0, 'file_duplicated': 0, 'provide': 83608, 'provide_duplicated': 9742, 'name': 60, 'markingerror': 1516, 'depsolveerror': 237, 'transaction_provide': 49318, 'transaction_provide_duplicate': 11841, 'transaction_file': 0, 'transaction_file_duplicate': 0, 'transaction_provide_loop': 0, 'transaction_file_loop': 0}\n"
     ]
    },
    {
     "name": "stderr",
     "output_type": "stream",
     "text": [
      " 90%|██████████████████████████████████████████     | 120008/133973 [23:01<02:05, 111.59it/s]"
     ]
    },
    {
     "name": "stdout",
     "output_type": "stream",
     "text": [
      "95167\n",
      "{'cache': 637848, 'file': 0, 'file_duplicated': 0, 'provide': 85016, 'provide_duplicated': 10087, 'name': 64, 'markingerror': 1538, 'depsolveerror': 237, 'transaction_provide': 50271, 'transaction_provide_duplicate': 11841, 'transaction_file': 0, 'transaction_file_duplicate': 0, 'transaction_provide_loop': 0, 'transaction_file_loop': 0}\n"
     ]
    },
    {
     "name": "stderr",
     "output_type": "stream",
     "text": [
      " 90%|██████████████████████████████████████████▍    | 121063/133973 [23:18<00:39, 328.02it/s]"
     ]
    },
    {
     "name": "stdout",
     "output_type": "stream",
     "text": [
      "97204\n",
      "{'cache': 648408, 'file': 0, 'file_duplicated': 0, 'provide': 86642, 'provide_duplicated': 10494, 'name': 68, 'markingerror': 1580, 'depsolveerror': 237, 'transaction_provide': 51744, 'transaction_provide_duplicate': 11841, 'transaction_file': 0, 'transaction_file_duplicate': 0, 'transaction_provide_loop': 0, 'transaction_file_loop': 0}\n"
     ]
    },
    {
     "name": "stderr",
     "output_type": "stream",
     "text": [
      " 91%|██████████████████████████████████████████▊    | 122038/133973 [23:22<00:41, 290.74it/s]"
     ]
    },
    {
     "name": "stdout",
     "output_type": "stream",
     "text": [
      "98382\n",
      "{'cache': 667574, 'file': 0, 'file_duplicated': 0, 'provide': 87815, 'provide_duplicated': 10499, 'name': 68, 'markingerror': 1582, 'depsolveerror': 237, 'transaction_provide': 52078, 'transaction_provide_duplicate': 11841, 'transaction_file': 0, 'transaction_file_duplicate': 0, 'transaction_provide_loop': 0, 'transaction_file_loop': 0}\n"
     ]
    },
    {
     "name": "stderr",
     "output_type": "stream",
     "text": [
      " 92%|███████████████████████████████████████████▏   | 123043/133973 [23:25<00:29, 374.85it/s]"
     ]
    },
    {
     "name": "stdout",
     "output_type": "stream",
     "text": [
      "99521\n",
      "{'cache': 687213, 'file': 0, 'file_duplicated': 0, 'provide': 88949, 'provide_duplicated': 10504, 'name': 68, 'markingerror': 1582, 'depsolveerror': 237, 'transaction_provide': 52325, 'transaction_provide_duplicate': 11841, 'transaction_file': 0, 'transaction_file_duplicate': 0, 'transaction_provide_loop': 0, 'transaction_file_loop': 0}\n"
     ]
    },
    {
     "name": "stderr",
     "output_type": "stream",
     "text": [
      " 93%|███████████████████████████████████████████▌   | 124021/133973 [23:28<00:52, 191.10it/s]"
     ]
    },
    {
     "name": "stdout",
     "output_type": "stream",
     "text": [
      "100613\n",
      "{'cache': 705818, 'file': 0, 'file_duplicated': 0, 'provide': 90037, 'provide_duplicated': 10508, 'name': 68, 'markingerror': 1583, 'depsolveerror': 237, 'transaction_provide': 52632, 'transaction_provide_duplicate': 11841, 'transaction_file': 0, 'transaction_file_duplicate': 0, 'transaction_provide_loop': 0, 'transaction_file_loop': 0}\n"
     ]
    },
    {
     "name": "stderr",
     "output_type": "stream",
     "text": [
      " 93%|███████████████████████████████████████████▉   | 125081/133973 [23:41<00:25, 343.47it/s]"
     ]
    },
    {
     "name": "stdout",
     "output_type": "stream",
     "text": [
      "102209\n",
      "{'cache': 715002, 'file': 0, 'file_duplicated': 0, 'provide': 91380, 'provide_duplicated': 10752, 'name': 77, 'markingerror': 1650, 'depsolveerror': 237, 'transaction_provide': 53594, 'transaction_provide_duplicate': 11841, 'transaction_file': 0, 'transaction_file_duplicate': 0, 'transaction_provide_loop': 0, 'transaction_file_loop': 0}\n"
     ]
    },
    {
     "name": "stderr",
     "output_type": "stream",
     "text": [
      " 94%|████████████████████████████████████████████▏  | 126035/133973 [23:45<00:27, 291.46it/s]"
     ]
    },
    {
     "name": "stdout",
     "output_type": "stream",
     "text": [
      "103667\n",
      "{'cache': 723776, 'file': 0, 'file_duplicated': 0, 'provide': 92826, 'provide_duplicated': 10764, 'name': 77, 'markingerror': 1655, 'depsolveerror': 237, 'transaction_provide': 53840, 'transaction_provide_duplicate': 11841, 'transaction_file': 0, 'transaction_file_duplicate': 0, 'transaction_provide_loop': 0, 'transaction_file_loop': 0}\n"
     ]
    },
    {
     "name": "stderr",
     "output_type": "stream",
     "text": [
      " 95%|████████████████████████████████████████████▌  | 127074/133973 [23:50<00:25, 270.84it/s]"
     ]
    },
    {
     "name": "stdout",
     "output_type": "stream",
     "text": [
      "105070\n",
      "{'cache': 734019, 'file': 0, 'file_duplicated': 0, 'provide': 94201, 'provide_duplicated': 10792, 'name': 77, 'markingerror': 1659, 'depsolveerror': 237, 'transaction_provide': 54157, 'transaction_provide_duplicate': 11841, 'transaction_file': 0, 'transaction_file_duplicate': 0, 'transaction_provide_loop': 0, 'transaction_file_loop': 0}\n"
     ]
    },
    {
     "name": "stderr",
     "output_type": "stream",
     "text": [
      " 96%|█████████████████████████████████████████████▊  | 128006/133973 [23:55<01:59, 50.01it/s]"
     ]
    },
    {
     "name": "stdout",
     "output_type": "stream",
     "text": [
      "106368\n",
      "{'cache': 744028, 'file': 0, 'file_duplicated': 0, 'provide': 95311, 'provide_duplicated': 10977, 'name': 80, 'markingerror': 1671, 'depsolveerror': 237, 'transaction_provide': 54618, 'transaction_provide_duplicate': 11841, 'transaction_file': 0, 'transaction_file_duplicate': 0, 'transaction_provide_loop': 0, 'transaction_file_loop': 0}\n"
     ]
    },
    {
     "name": "stderr",
     "output_type": "stream",
     "text": [
      " 96%|██████████████████████████████████████████████▏ | 129005/133973 [24:12<02:53, 28.67it/s]"
     ]
    },
    {
     "name": "stdout",
     "output_type": "stream",
     "text": [
      "108383\n",
      "{'cache': 752599, 'file': 0, 'file_duplicated': 0, 'provide': 97043, 'provide_duplicated': 11260, 'name': 80, 'markingerror': 1690, 'depsolveerror': 237, 'transaction_provide': 55816, 'transaction_provide_duplicate': 11841, 'transaction_file': 0, 'transaction_file_duplicate': 0, 'transaction_provide_loop': 0, 'transaction_file_loop': 0}\n"
     ]
    },
    {
     "name": "stderr",
     "output_type": "stream",
     "text": [
      " 97%|██████████████████████████████████████████████▌ | 130002/133973 [25:09<04:00, 16.50it/s]"
     ]
    },
    {
     "name": "stdout",
     "output_type": "stream",
     "text": [
      "113448\n",
      "{'cache': 757588, 'file': 0, 'file_duplicated': 0, 'provide': 102105, 'provide_duplicated': 11263, 'name': 80, 'markingerror': 1740, 'depsolveerror': 237, 'transaction_provide': 58570, 'transaction_provide_duplicate': 11841, 'transaction_file': 0, 'transaction_file_duplicate': 0, 'transaction_provide_loop': 0, 'transaction_file_loop': 0}\n"
     ]
    },
    {
     "name": "stderr",
     "output_type": "stream",
     "text": [
      " 98%|██████████████████████████████████████████████▉ | 130999/133973 [25:59<02:00, 24.75it/s]"
     ]
    },
    {
     "name": "stdout",
     "output_type": "stream",
     "text": [
      "118538\n",
      "{'cache': 762230, 'file': 0, 'file_duplicated': 0, 'provide': 107189, 'provide_duplicated': 11269, 'name': 80, 'markingerror': 1787, 'depsolveerror': 237, 'transaction_provide': 61074, 'transaction_provide_duplicate': 11841, 'transaction_file': 0, 'transaction_file_duplicate': 0, 'transaction_provide_loop': 0, 'transaction_file_loop': 0}\n"
     ]
    },
    {
     "name": "stderr",
     "output_type": "stream",
     "text": [
      " 99%|███████████████████████████████████████████████▎| 132019/133973 [26:45<00:24, 78.79it/s]"
     ]
    },
    {
     "name": "stdout",
     "output_type": "stream",
     "text": [
      "122515\n",
      "{'cache': 767997, 'file': 0, 'file_duplicated': 0, 'provide': 111085, 'provide_duplicated': 11350, 'name': 80, 'markingerror': 1907, 'depsolveerror': 237, 'transaction_provide': 63503, 'transaction_provide_duplicate': 11841, 'transaction_file': 0, 'transaction_file_duplicate': 0, 'transaction_provide_loop': 0, 'transaction_file_loop': 0}\n"
     ]
    },
    {
     "name": "stderr",
     "output_type": "stream",
     "text": [
      " 99%|███████████████████████████████████████████████▋| 133011/133973 [27:02<00:17, 55.09it/s]"
     ]
    },
    {
     "name": "stdout",
     "output_type": "stream",
     "text": [
      "126610\n",
      "{'cache': 781246, 'file': 0, 'file_duplicated': 0, 'provide': 114773, 'provide_duplicated': 11754, 'name': 83, 'markingerror': 1928, 'depsolveerror': 237, 'transaction_provide': 64949, 'transaction_provide_duplicate': 11841, 'transaction_file': 0, 'transaction_file_duplicate': 0, 'transaction_provide_loop': 0, 'transaction_file_loop': 0}\n"
     ]
    },
    {
     "name": "stderr",
     "output_type": "stream",
     "text": [
      "100%|████████████████████████████████████████████████| 133973/133973 [27:18<00:00, 81.74it/s]\n"
     ]
    },
    {
     "name": "stdout",
     "output_type": "stream",
     "text": [
      "Graph with 98567 nodes and 694343 edges\n",
      "Total seconds: 1639.2695112228394\n",
      "Cache size: 128064\n",
      "Stats\n",
      "{'cache': 790724, 'file': 0, 'file_duplicated': 0, 'provide': 115880, 'provide_duplicated': 12099, 'name': 85, 'markingerror': 1948, 'depsolveerror': 237, 'transaction_provide': 66432, 'transaction_provide_duplicate': 11841, 'transaction_file': 0, 'transaction_file_duplicate': 0, 'transaction_provide_loop': 0, 'transaction_file_loop': 0}\n"
     ]
    }
   ],
   "source": [
    "g = dnf.create_graph()"
   ]
  },
  {
   "cell_type": "code",
   "execution_count": 6,
   "id": "59079a96-6776-4edc-8523-a1cb5ddbc095",
   "metadata": {},
   "outputs": [],
   "source": [
    "dnf.save_graph()"
   ]
  },
  {
   "cell_type": "code",
   "execution_count": 7,
   "id": "045fab69-4601-4832-ad2f-32dad14b6d9e",
   "metadata": {},
   "outputs": [
    {
     "data": {
      "text/plain": [
       "<networkx.classes.multidigraph.MultiDiGraph at 0x7f40c9da1a00>"
      ]
     },
     "execution_count": 7,
     "metadata": {},
     "output_type": "execute_result"
    }
   ],
   "source": [
    "dnf.load_graph()"
   ]
  },
  {
   "cell_type": "code",
   "execution_count": 10,
   "id": "8102168a-9379-4d5c-87f6-9abdaa089272",
   "metadata": {},
   "outputs": [],
   "source": [
    "sub = nx.ego_graph(dnf.G, \"python3-colorama\", 1, undirected=True)"
   ]
  },
  {
   "cell_type": "code",
   "execution_count": 11,
   "id": "ff522f87-dbf6-498f-9924-151a4ebdac9a",
   "metadata": {},
   "outputs": [
    {
     "data": {
      "image/svg+xml": [
       "<svg xmlns=\"http://www.w3.org/2000/svg\" xmlns:xlink=\"http://www.w3.org/1999/xlink\" width=\"6535pt\" height=\"404pt\" viewBox=\"0.00 0.00 6535.49 404.00\">\n",
       "<g id=\"graph0\" class=\"graph\" transform=\"scale(1 1) rotate(0) translate(4 400)\">\n",
       "<polygon fill=\"white\" stroke=\"none\" points=\"-4,4 -4,-400 6531.49,-400 6531.49,4 -4,4\"/>\n",
       "<!-- borgmatic -->\n",
       "<g id=\"node1\" class=\"node\">\n",
       "<title>borgmatic</title>\n",
       "<ellipse fill=\"none\" stroke=\"black\" cx=\"3746.54\" cy=\"-234\" rx=\"62.26\" ry=\"18\"/>\n",
       "<text text-anchor=\"middle\" x=\"3746.54\" y=\"-229.32\" font-family=\"Times,serif\" font-size=\"14.00\">borgmatic</text>\n",
       "</g>\n",
       "<!-- borgmatic&#45;&gt;borgmatic -->\n",
       "<g id=\"edge1\" class=\"edge\">\n",
       "<title>borgmatic-&gt;borgmatic</title>\n",
       "<path fill=\"none\" stroke=\"blue\" d=\"M3789.89,-247.26C3809.63,-248.62 3826.8,-244.2 3826.8,-234 3826.8,-225.8 3815.68,-221.33 3801.05,-220.61\"/>\n",
       "<polygon fill=\"blue\" stroke=\"blue\" points=\"3801.36,-217.1 3791.4,-220.72 3801.44,-224.1 3801.36,-217.1\"/>\n",
       "</g>\n",
       "<!-- python&#45;shodan -->\n",
       "<g id=\"node2\" class=\"node\">\n",
       "<title>python-shodan</title>\n",
       "<ellipse fill=\"none\" stroke=\"black\" cx=\"1509.54\" cy=\"-234\" rx=\"84.88\" ry=\"18\"/>\n",
       "<text text-anchor=\"middle\" x=\"1509.54\" y=\"-229.32\" font-family=\"Times,serif\" font-size=\"14.00\">python-shodan</text>\n",
       "</g>\n",
       "<!-- python3&#45;shodan -->\n",
       "<g id=\"node3\" class=\"node\">\n",
       "<title>python3-shodan</title>\n",
       "<ellipse fill=\"none\" stroke=\"black\" cx=\"1396.54\" cy=\"-162\" rx=\"91.19\" ry=\"18\"/>\n",
       "<text text-anchor=\"middle\" x=\"1396.54\" y=\"-157.32\" font-family=\"Times,serif\" font-size=\"14.00\">python3-shodan</text>\n",
       "</g>\n",
       "<!-- python&#45;shodan&#45;&gt;python3&#45;shodan -->\n",
       "<g id=\"edge2\" class=\"edge\">\n",
       "<title>python-shodan-&gt;python3-shodan</title>\n",
       "<path fill=\"none\" stroke=\"blue\" d=\"M1483.05,-216.59C1468.14,-207.35 1449.3,-195.68 1433.01,-185.59\"/>\n",
       "<polygon fill=\"blue\" stroke=\"blue\" points=\"1434.89,-182.64 1424.55,-180.35 1431.21,-188.59 1434.89,-182.64\"/>\n",
       "</g>\n",
       "<!-- python3&#45;pepc -->\n",
       "<g id=\"node4\" class=\"node\">\n",
       "<title>python3-pepc</title>\n",
       "<ellipse fill=\"none\" stroke=\"black\" cx=\"6267.54\" cy=\"-234\" rx=\"79.09\" ry=\"18\"/>\n",
       "<text text-anchor=\"middle\" x=\"6267.54\" y=\"-229.32\" font-family=\"Times,serif\" font-size=\"14.00\">python3-pepc</text>\n",
       "</g>\n",
       "<!-- python3&#45;wult -->\n",
       "<g id=\"node5\" class=\"node\">\n",
       "<title>python3-wult</title>\n",
       "<ellipse fill=\"none\" stroke=\"black\" cx=\"6149.54\" cy=\"-90\" rx=\"77.51\" ry=\"18\"/>\n",
       "<text text-anchor=\"middle\" x=\"6149.54\" y=\"-85.33\" font-family=\"Times,serif\" font-size=\"14.00\">python3-wult</text>\n",
       "</g>\n",
       "<!-- python3&#45;pepc&#45;&gt;python3&#45;wult -->\n",
       "<g id=\"edge3\" class=\"edge\">\n",
       "<title>python3-pepc-&gt;python3-wult</title>\n",
       "<path fill=\"none\" stroke=\"red\" d=\"M6258.81,-215.9C6248.81,-197.18 6231.24,-166.79 6211.54,-144 6202.52,-133.56 6191.38,-123.39 6181.05,-114.79\"/>\n",
       "<polygon fill=\"red\" stroke=\"red\" points=\"6183.4,-112.19 6173.42,-108.63 6179,-117.64 6183.4,-112.19\"/>\n",
       "</g>\n",
       "<!-- stats&#45;collect -->\n",
       "<g id=\"node6\" class=\"node\">\n",
       "<title>stats-collect</title>\n",
       "<ellipse fill=\"none\" stroke=\"black\" cx=\"6112.54\" cy=\"-162\" rx=\"71.73\" ry=\"18\"/>\n",
       "<text text-anchor=\"middle\" x=\"6112.54\" y=\"-157.32\" font-family=\"Times,serif\" font-size=\"14.00\">stats-collect</text>\n",
       "</g>\n",
       "<!-- python3&#45;pepc&#45;&gt;stats&#45;collect -->\n",
       "<g id=\"edge4\" class=\"edge\">\n",
       "<title>python3-pepc-&gt;stats-collect</title>\n",
       "<path fill=\"none\" stroke=\"red\" d=\"M6228.63,-217.98C6205.26,-207.99 6175.69,-194.71 6152.19,-183.72\"/>\n",
       "<polygon fill=\"red\" stroke=\"red\" points=\"6153.77,-180.59 6143.24,-179.49 6150.78,-186.92 6153.77,-180.59\"/>\n",
       "</g>\n",
       "<!-- python3&#45;pepc&#45;&gt;stats&#45;collect -->\n",
       "<g id=\"edge5\" class=\"edge\">\n",
       "<title>python3-pepc-&gt;stats-collect</title>\n",
       "<path fill=\"none\" stroke=\"green\" d=\"M6237.76,-216.94C6216.03,-206.59 6186.22,-193.08 6161.09,-182.17\"/>\n",
       "<polygon fill=\"green\" stroke=\"green\" points=\"6162.6,-179.01 6152.04,-178.27 6159.83,-185.44 6162.6,-179.01\"/>\n",
       "</g>\n",
       "<!-- wult -->\n",
       "<g id=\"node7\" class=\"node\">\n",
       "<title>wult</title>\n",
       "<ellipse fill=\"none\" stroke=\"black\" cx=\"6149.54\" cy=\"-18\" rx=\"33.32\" ry=\"18\"/>\n",
       "<text text-anchor=\"middle\" x=\"6149.54\" y=\"-13.32\" font-family=\"Times,serif\" font-size=\"14.00\">wult</text>\n",
       "</g>\n",
       "<!-- python3&#45;pepc&#45;&gt;wult -->\n",
       "<g id=\"edge6\" class=\"edge\">\n",
       "<title>python3-pepc-&gt;wult</title>\n",
       "<path fill=\"none\" stroke=\"green\" d=\"M6268.56,-215.77C6269.55,-184.3 6267.55,-116.66 6236.54,-72 6224.48,-54.63 6204.72,-41.93 6187.07,-33.32\"/>\n",
       "<polygon fill=\"green\" stroke=\"green\" points=\"6188.93,-30.32 6178.38,-29.35 6186.02,-36.69 6188.93,-30.32\"/>\n",
       "</g>\n",
       "<!-- pepc -->\n",
       "<g id=\"node8\" class=\"node\">\n",
       "<title>pepc</title>\n",
       "<ellipse fill=\"none\" stroke=\"black\" cx=\"6331.54\" cy=\"-162\" rx=\"34.9\" ry=\"18\"/>\n",
       "<text text-anchor=\"middle\" x=\"6331.54\" y=\"-157.32\" font-family=\"Times,serif\" font-size=\"14.00\">pepc</text>\n",
       "</g>\n",
       "<!-- python3&#45;pepc&#45;&gt;pepc -->\n",
       "<g id=\"edge7\" class=\"edge\">\n",
       "<title>python3-pepc-&gt;pepc</title>\n",
       "<path fill=\"none\" stroke=\"red\" d=\"M6277.45,-215.7C6284.94,-206.46 6295.29,-194.99 6304.99,-185.12\"/>\n",
       "<polygon fill=\"red\" stroke=\"red\" points=\"6307.2,-187.86 6311.85,-178.34 6302.28,-182.88 6307.2,-187.86\"/>\n",
       "</g>\n",
       "<!-- python3&#45;wult&#45;&gt;wult -->\n",
       "<g id=\"edge10\" class=\"edge\">\n",
       "<title>python3-wult-&gt;wult</title>\n",
       "<path fill=\"none\" stroke=\"red\" d=\"M6143.63,-71.7C6142.87,-64.41 6142.63,-55.73 6142.9,-47.54\"/>\n",
       "<polygon fill=\"red\" stroke=\"red\" points=\"6146.38,-47.82 6143.55,-37.61 6139.4,-47.36 6146.38,-47.82\"/>\n",
       "</g>\n",
       "<!-- stats&#45;collect&#45;&gt;python3&#45;wult -->\n",
       "<g id=\"edge76\" class=\"edge\">\n",
       "<title>stats-collect-&gt;python3-wult</title>\n",
       "<path fill=\"none\" stroke=\"red\" d=\"M6121.69,-143.7C6125.77,-135.98 6130.67,-126.71 6135.21,-118.11\"/>\n",
       "<polygon fill=\"red\" stroke=\"red\" points=\"6138.22,-119.92 6139.79,-109.44 6132.03,-116.65 6138.22,-119.92\"/>\n",
       "</g>\n",
       "<!-- stats&#45;collect&#45;&gt;stats&#45;collect -->\n",
       "<g id=\"edge77\" class=\"edge\">\n",
       "<title>stats-collect-&gt;stats-collect</title>\n",
       "<path fill=\"none\" stroke=\"blue\" d=\"M6162.37,-175.34C6183.86,-176.43 6202.27,-171.98 6202.27,-162 6202.27,-153.81 6189.88,-149.35 6173.57,-148.61\"/>\n",
       "<polygon fill=\"blue\" stroke=\"blue\" points=\"6173.87,-145.11 6163.88,-148.65 6173.9,-152.11 6173.87,-145.11\"/>\n",
       "</g>\n",
       "<!-- stats&#45;collect&#45;&gt;wult -->\n",
       "<g id=\"edge78\" class=\"edge\">\n",
       "<title>stats-collect-&gt;wult</title>\n",
       "<path fill=\"none\" stroke=\"green\" d=\"M6090.47,-144.43C6079.86,-135.05 6068.24,-122.34 6062.54,-108 6056.64,-93.13 6054.71,-85.95 6062.54,-72 6072.97,-53.44 6092.83,-40.61 6110.94,-32.24\"/>\n",
       "<polygon fill=\"green\" stroke=\"green\" points=\"6112.1,-35.55 6119.93,-28.4 6109.36,-29.11 6112.1,-35.55\"/>\n",
       "</g>\n",
       "<!-- wult&#45;&gt;python3&#45;wult -->\n",
       "<g id=\"edge125\" class=\"edge\">\n",
       "<title>wult-&gt;python3-wult</title>\n",
       "<path fill=\"none\" stroke=\"blue\" d=\"M6155.44,-36.1C6156.2,-43.37 6156.45,-52.04 6156.2,-60.24\"/>\n",
       "<polygon fill=\"blue\" stroke=\"blue\" points=\"6152.71,-59.98 6155.56,-70.19 6159.69,-60.43 6152.71,-59.98\"/>\n",
       "</g>\n",
       "<!-- wult&#45;&gt;wult -->\n",
       "<g id=\"edge126\" class=\"edge\">\n",
       "<title>wult-&gt;wult</title>\n",
       "<path fill=\"none\" stroke=\"blue\" d=\"M6173.83,-30.76C6187.83,-33.36 6200.86,-29.11 6200.86,-18 6200.86,-10.02 6194.13,-5.57 6185.14,-4.67\"/>\n",
       "<polygon fill=\"blue\" stroke=\"blue\" points=\"6185.15,-1.17 6175.34,-5.17 6185.51,-8.16 6185.15,-1.17\"/>\n",
       "</g>\n",
       "<!-- pepc&#45;&gt;python3&#45;pepc -->\n",
       "<g id=\"edge132\" class=\"edge\">\n",
       "<title>pepc-&gt;python3-pepc</title>\n",
       "<path fill=\"none\" stroke=\"blue\" d=\"M6322.31,-179.47C6315.39,-188.08 6305.81,-198.8 6296.54,-208.37\"/>\n",
       "<polygon fill=\"blue\" stroke=\"blue\" points=\"6294.18,-205.78 6289.62,-215.34 6299.15,-210.71 6294.18,-205.78\"/>\n",
       "</g>\n",
       "<!-- pepc&#45;&gt;wult -->\n",
       "<g id=\"edge133\" class=\"edge\">\n",
       "<title>pepc-&gt;wult</title>\n",
       "<path fill=\"none\" stroke=\"red\" d=\"M6331.52,-143.62C6330.55,-123.79 6325.97,-91.57 6307.54,-72 6278.01,-40.64 6229.39,-27.83 6193.87,-22.6\"/>\n",
       "<polygon fill=\"red\" stroke=\"red\" points=\"6194.71,-19.18 6184.34,-21.35 6193.8,-26.12 6194.71,-19.18\"/>\n",
       "</g>\n",
       "<!-- pepc&#45;&gt;pepc -->\n",
       "<g id=\"edge134\" class=\"edge\">\n",
       "<title>pepc-&gt;pepc</title>\n",
       "<path fill=\"none\" stroke=\"blue\" d=\"M6356.85,-174.81C6371.18,-177.31 6384.44,-173.04 6384.44,-162 6384.44,-153.98 6377.44,-149.53 6368.12,-148.66\"/>\n",
       "<polygon fill=\"blue\" stroke=\"blue\" points=\"6368.19,-145.15 6358.36,-149.12 6368.52,-152.14 6368.19,-145.15\"/>\n",
       "</g>\n",
       "<!-- python&#45;crayons -->\n",
       "<g id=\"node9\" class=\"node\">\n",
       "<title>python-crayons</title>\n",
       "<ellipse fill=\"none\" stroke=\"black\" cx=\"1738.54\" cy=\"-234\" rx=\"88.04\" ry=\"18\"/>\n",
       "<text text-anchor=\"middle\" x=\"1738.54\" y=\"-229.32\" font-family=\"Times,serif\" font-size=\"14.00\">python-crayons</text>\n",
       "</g>\n",
       "<!-- python3&#45;crayons -->\n",
       "<g id=\"node10\" class=\"node\">\n",
       "<title>python3-crayons</title>\n",
       "<ellipse fill=\"none\" stroke=\"black\" cx=\"1732.54\" cy=\"-162\" rx=\"94.35\" ry=\"18\"/>\n",
       "<text text-anchor=\"middle\" x=\"1732.54\" y=\"-157.32\" font-family=\"Times,serif\" font-size=\"14.00\">python3-crayons</text>\n",
       "</g>\n",
       "<!-- python&#45;crayons&#45;&gt;python3&#45;crayons -->\n",
       "<g id=\"edge8\" class=\"edge\">\n",
       "<title>python-crayons-&gt;python3-crayons</title>\n",
       "<path fill=\"none\" stroke=\"blue\" d=\"M1737.06,-215.7C1736.43,-208.41 1735.69,-199.73 1734.99,-191.54\"/>\n",
       "<polygon fill=\"blue\" stroke=\"blue\" points=\"1738.48,-191.28 1734.14,-181.61 1731.5,-191.87 1738.48,-191.28\"/>\n",
       "</g>\n",
       "<!-- python&#45;tmuxp -->\n",
       "<g id=\"node11\" class=\"node\">\n",
       "<title>python-tmuxp</title>\n",
       "<ellipse fill=\"none\" stroke=\"black\" cx=\"2001.54\" cy=\"-234\" rx=\"81.2\" ry=\"18\"/>\n",
       "<text text-anchor=\"middle\" x=\"2001.54\" y=\"-229.32\" font-family=\"Times,serif\" font-size=\"14.00\">python-tmuxp</text>\n",
       "</g>\n",
       "<!-- python3&#45;tmuxp -->\n",
       "<g id=\"node12\" class=\"node\">\n",
       "<title>python3-tmuxp</title>\n",
       "<ellipse fill=\"none\" stroke=\"black\" cx=\"1994.54\" cy=\"-162\" rx=\"87.51\" ry=\"18\"/>\n",
       "<text text-anchor=\"middle\" x=\"1994.54\" y=\"-157.32\" font-family=\"Times,serif\" font-size=\"14.00\">python3-tmuxp</text>\n",
       "</g>\n",
       "<!-- python&#45;tmuxp&#45;&gt;python3&#45;tmuxp -->\n",
       "<g id=\"edge9\" class=\"edge\">\n",
       "<title>python-tmuxp-&gt;python3-tmuxp</title>\n",
       "<path fill=\"none\" stroke=\"blue\" d=\"M1999.81,-215.7C1999.08,-208.41 1998.21,-199.73 1997.4,-191.54\"/>\n",
       "<polygon fill=\"blue\" stroke=\"blue\" points=\"2000.88,-191.21 1996.4,-181.61 1993.92,-191.91 2000.88,-191.21\"/>\n",
       "</g>\n",
       "<!-- python&#45;platformio -->\n",
       "<g id=\"node13\" class=\"node\">\n",
       "<title>python-platformio</title>\n",
       "<ellipse fill=\"none\" stroke=\"black\" cx=\"1157.54\" cy=\"-90\" rx=\"101.19\" ry=\"18\"/>\n",
       "<text text-anchor=\"middle\" x=\"1157.54\" y=\"-85.33\" font-family=\"Times,serif\" font-size=\"14.00\">python-platformio</text>\n",
       "</g>\n",
       "<!-- python3&#45;platformio -->\n",
       "<g id=\"node14\" class=\"node\">\n",
       "<title>python3-platformio</title>\n",
       "<ellipse fill=\"none\" stroke=\"black\" cx=\"1157.54\" cy=\"-18\" rx=\"107.5\" ry=\"18\"/>\n",
       "<text text-anchor=\"middle\" x=\"1157.54\" y=\"-13.32\" font-family=\"Times,serif\" font-size=\"14.00\">python3-platformio</text>\n",
       "</g>\n",
       "<!-- python&#45;platformio&#45;&gt;python3&#45;platformio -->\n",
       "<g id=\"edge11\" class=\"edge\">\n",
       "<title>python-platformio-&gt;python3-platformio</title>\n",
       "<path fill=\"none\" stroke=\"blue\" d=\"M1157.54,-71.7C1157.54,-64.41 1157.54,-55.73 1157.54,-47.54\"/>\n",
       "<polygon fill=\"blue\" stroke=\"blue\" points=\"1161.04,-47.62 1157.54,-37.62 1154.04,-47.62 1161.04,-47.62\"/>\n",
       "</g>\n",
       "<!-- jrnl -->\n",
       "<g id=\"node15\" class=\"node\">\n",
       "<title>jrnl</title>\n",
       "<ellipse fill=\"none\" stroke=\"black\" cx=\"2674.54\" cy=\"-90\" rx=\"28.59\" ry=\"18\"/>\n",
       "<text text-anchor=\"middle\" x=\"2674.54\" y=\"-85.33\" font-family=\"Times,serif\" font-size=\"14.00\">jrnl</text>\n",
       "</g>\n",
       "<!-- jrnl&#45;&gt;jrnl -->\n",
       "<g id=\"edge12\" class=\"edge\">\n",
       "<title>jrnl-&gt;jrnl</title>\n",
       "<path fill=\"none\" stroke=\"blue\" d=\"M2695.62,-102.55C2708.69,-105.57 2721.13,-101.39 2721.13,-90 2721.13,-82.08 2715.11,-77.64 2707.06,-76.69\"/>\n",
       "<polygon fill=\"blue\" stroke=\"blue\" points=\"2706.88,-73.2 2697.13,-77.35 2707.34,-80.18 2706.88,-73.2\"/>\n",
       "</g>\n",
       "<!-- python3&#45;colorama -->\n",
       "<g id=\"node16\" class=\"node\">\n",
       "<title>python3-colorama</title>\n",
       "<ellipse fill=\"none\" stroke=\"black\" cx=\"3373.54\" cy=\"-306\" rx=\"101.19\" ry=\"18\"/>\n",
       "<text text-anchor=\"middle\" x=\"3373.54\" y=\"-301.32\" font-family=\"Times,serif\" font-size=\"14.00\">python3-colorama</text>\n",
       "</g>\n",
       "<!-- python3&#45;colorama&#45;&gt;borgmatic -->\n",
       "<g id=\"edge14\" class=\"edge\">\n",
       "<title>python3-colorama-&gt;borgmatic</title>\n",
       "<path fill=\"none\" stroke=\"red\" d=\"M3442.07,-292.4C3500.51,-282.19 3586.57,-267.07 3661.54,-252 3669.02,-250.5 3676.89,-248.83 3684.72,-247.15\"/>\n",
       "<polygon fill=\"red\" stroke=\"red\" points=\"3685.2,-250.62 3694.23,-245.09 3683.72,-243.78 3685.2,-250.62\"/>\n",
       "</g>\n",
       "<!-- python3&#45;colorama&#45;&gt;borgmatic -->\n",
       "<g id=\"edge15\" class=\"edge\">\n",
       "<title>python3-colorama-&gt;borgmatic</title>\n",
       "<path fill=\"none\" stroke=\"green\" d=\"M3448.93,-293.68C3511.12,-283.48 3601.36,-267.71 3679.54,-252 3683.56,-251.19 3687.68,-250.34 3691.83,-249.46\"/>\n",
       "<polygon fill=\"green\" stroke=\"green\" points=\"3692.25,-252.95 3701.29,-247.41 3690.77,-246.11 3692.25,-252.95\"/>\n",
       "</g>\n",
       "<!-- python3&#45;colorama&#45;&gt;python&#45;shodan -->\n",
       "<g id=\"edge17\" class=\"edge\">\n",
       "<title>python3-colorama-&gt;python-shodan</title>\n",
       "<path fill=\"none\" stroke=\"green\" d=\"M3272.68,-303.83C2948.41,-299.78 1934.83,-284.75 1608.54,-252 1599.88,-251.13 1590.83,-249.95 1581.88,-248.62\"/>\n",
       "<polygon fill=\"green\" stroke=\"green\" points=\"1582.54,-245.18 1572.12,-247.1 1581.46,-252.1 1582.54,-245.18\"/>\n",
       "</g>\n",
       "<!-- python3&#45;colorama&#45;&gt;python3&#45;shodan -->\n",
       "<g id=\"edge48\" class=\"edge\">\n",
       "<title>python3-colorama-&gt;python3-shodan</title>\n",
       "<path fill=\"none\" stroke=\"red\" d=\"M3272.77,-303.95C2877.34,-299.62 1451.56,-281.96 1415.54,-252 1398.26,-237.63 1394.32,-211.74 1394.23,-191.58\"/>\n",
       "<polygon fill=\"red\" stroke=\"red\" points=\"1397.72,-191.82 1394.52,-181.72 1390.72,-191.61 1397.72,-191.82\"/>\n",
       "</g>\n",
       "<!-- python3&#45;colorama&#45;&gt;python3&#45;pepc -->\n",
       "<g id=\"edge20\" class=\"edge\">\n",
       "<title>python3-colorama-&gt;python3-pepc</title>\n",
       "<path fill=\"none\" stroke=\"red\" d=\"M3474.08,-303.32C3806.03,-297.68 4897.33,-278.24 5799.54,-252 5931.58,-248.16 6084.53,-242.35 6178.66,-238.61\"/>\n",
       "<polygon fill=\"red\" stroke=\"red\" points=\"6178.76,-242.11 6188.61,-238.22 6178.48,-235.12 6178.76,-242.11\"/>\n",
       "</g>\n",
       "<!-- python3&#45;colorama&#45;&gt;python3&#45;wult -->\n",
       "<g id=\"edge30\" class=\"edge\">\n",
       "<title>python3-colorama-&gt;python3-wult</title>\n",
       "<path fill=\"none\" stroke=\"red\" d=\"M3437.07,-291.7C3468.96,-283.3 3507.35,-270.47 3538.54,-252 3558.56,-240.15 3555.15,-225.13 3576.54,-216 3808.81,-116.85 5634.33,-95.35 6060.71,-91.67\"/>\n",
       "<polygon fill=\"red\" stroke=\"red\" points=\"6060.53,-95.17 6070.5,-91.58 6060.47,-88.17 6060.53,-95.17\"/>\n",
       "</g>\n",
       "<!-- python3&#45;colorama&#45;&gt;stats&#45;collect -->\n",
       "<g id=\"edge40\" class=\"edge\">\n",
       "<title>python3-colorama-&gt;stats-collect</title>\n",
       "<path fill=\"none\" stroke=\"red\" d=\"M3435.12,-291.28C3473.85,-282.33 3524.37,-269.11 3567.54,-252 3598.6,-239.69 3601.26,-224.6 3633.54,-216 3751.43,-184.59 5611.36,-167.14 6029.53,-163.65\"/>\n",
       "<polygon fill=\"red\" stroke=\"red\" points=\"6029.41,-167.16 6039.38,-163.57 6029.35,-160.16 6029.41,-167.16\"/>\n",
       "</g>\n",
       "<!-- python3&#45;colorama&#45;&gt;stats&#45;collect -->\n",
       "<g id=\"edge41\" class=\"edge\">\n",
       "<title>python3-colorama-&gt;stats-collect</title>\n",
       "<path fill=\"none\" stroke=\"green\" d=\"M3444.24,-292.72C3486.28,-283.76 3540,-270.05 3585.54,-252 3616.6,-239.69 3619.26,-224.6 3651.54,-216 3768.92,-184.72 5613.2,-167.3 6029.51,-163.7\"/>\n",
       "<polygon fill=\"green\" stroke=\"green\" points=\"6029.34,-167.2 6039.31,-163.62 6029.28,-160.2 6029.34,-167.2\"/>\n",
       "</g>\n",
       "<!-- python3&#45;colorama&#45;&gt;wult -->\n",
       "<g id=\"edge60\" class=\"edge\">\n",
       "<title>python3-colorama-&gt;wult</title>\n",
       "<path fill=\"none\" stroke=\"green\" d=\"M3403.51,-288.44C3447.26,-264.32 3524.9,-221.77 3538.54,-216 3636.41,-174.59 3661.98,-162.94 3766.54,-144 4240.5,-58.17 5819.49,-25.13 6105.07,-19.8\"/>\n",
       "<polygon fill=\"green\" stroke=\"green\" points=\"6104.74,-23.3 6114.68,-19.62 6104.61,-16.3 6104.74,-23.3\"/>\n",
       "</g>\n",
       "<!-- python3&#45;colorama&#45;&gt;pepc -->\n",
       "<g id=\"edge69\" class=\"edge\">\n",
       "<title>python3-colorama-&gt;pepc</title>\n",
       "<path fill=\"none\" stroke=\"green\" d=\"M3463.96,-297.56C3515.38,-290.67 3579.83,-277.42 3632.54,-252 3654.99,-241.17 3652.18,-224.68 3675.54,-216 3807.63,-166.94 6071.06,-190.9 6211.54,-180 6236.82,-178.04 6264.89,-174.16 6287.52,-170.6\"/>\n",
       "<polygon fill=\"green\" stroke=\"green\" points=\"6288,-174.06 6297.32,-169.02 6286.89,-167.15 6288,-174.06\"/>\n",
       "</g>\n",
       "<!-- python3&#45;colorama&#45;&gt;python&#45;crayons -->\n",
       "<g id=\"edge23\" class=\"edge\">\n",
       "<title>python3-colorama-&gt;python-crayons</title>\n",
       "<path fill=\"none\" stroke=\"green\" d=\"M3273.22,-303.24C2978.72,-297.82 2119.85,-279.98 1840.54,-252 1831.59,-251.1 1822.23,-249.91 1812.97,-248.56\"/>\n",
       "<polygon fill=\"green\" stroke=\"green\" points=\"1813.67,-245.13 1803.26,-247.08 1812.62,-252.05 1813.67,-245.13\"/>\n",
       "</g>\n",
       "<!-- python3&#45;colorama&#45;&gt;python3&#45;crayons -->\n",
       "<g id=\"edge25\" class=\"edge\">\n",
       "<title>python3-colorama-&gt;python3-crayons</title>\n",
       "<path fill=\"none\" stroke=\"red\" d=\"M3272.59,-303.79C2906.7,-299.18 1670.09,-281.43 1641.54,-252 1630.4,-240.51 1633.57,-229.87 1641.54,-216 1649.69,-201.83 1663.23,-191.1 1677.42,-183.13\"/>\n",
       "<polygon fill=\"red\" stroke=\"red\" points=\"1678.66,-186.43 1685.94,-178.73 1675.45,-180.2 1678.66,-186.43\"/>\n",
       "</g>\n",
       "<!-- python3&#45;colorama&#45;&gt;python&#45;tmuxp -->\n",
       "<g id=\"edge29\" class=\"edge\">\n",
       "<title>python3-colorama-&gt;python-tmuxp</title>\n",
       "<path fill=\"none\" stroke=\"green\" d=\"M3272.21,-305.45C3055.69,-305.39 2532.17,-299.79 2096.54,-252 2088.47,-251.11 2080.05,-249.95 2071.7,-248.66\"/>\n",
       "<polygon fill=\"green\" stroke=\"green\" points=\"2072.33,-245.21 2061.89,-247.06 2071.2,-252.12 2072.33,-245.21\"/>\n",
       "</g>\n",
       "<!-- python3&#45;colorama&#45;&gt;python3&#45;tmuxp -->\n",
       "<g id=\"edge31\" class=\"edge\">\n",
       "<title>python3-colorama-&gt;python3-tmuxp</title>\n",
       "<path fill=\"none\" stroke=\"red\" d=\"M3272.21,-305.14C2948.65,-305.08 1958.71,-300.9 1911.54,-252 1900.44,-240.48 1903.85,-230.03 1911.54,-216 1918.94,-202.5 1931.4,-191.94 1944.45,-183.92\"/>\n",
       "<polygon fill=\"red\" stroke=\"red\" points=\"1946.16,-186.98 1953.15,-179.02 1942.72,-180.88 1946.16,-186.98\"/>\n",
       "</g>\n",
       "<!-- python3&#45;colorama&#45;&gt;python&#45;platformio -->\n",
       "<g id=\"edge32\" class=\"edge\">\n",
       "<title>python3-colorama-&gt;python-platformio</title>\n",
       "<path fill=\"none\" stroke=\"green\" d=\"M3272.19,-304.57C2785.66,-302.32 710.93,-290.48 656.54,-252 616.15,-223.42 596.35,-180.69 629.54,-144 656.99,-113.66 900.53,-99.91 1047.09,-94.33\"/>\n",
       "<polygon fill=\"green\" stroke=\"green\" points=\"1046.96,-97.84 1056.83,-93.97 1046.7,-90.84 1046.96,-97.84\"/>\n",
       "</g>\n",
       "<!-- python3&#45;colorama&#45;&gt;python3&#45;platformio -->\n",
       "<g id=\"edge21\" class=\"edge\">\n",
       "<title>python3-colorama-&gt;python3-platformio</title>\n",
       "<path fill=\"none\" stroke=\"red\" d=\"M3272.25,-304.84C2781.23,-303.83 670.1,-296.88 619.54,-252 583.49,-220 579.48,-181.69 609.54,-144 663.71,-76.08 907.62,-42.17 1051.13,-27.82\"/>\n",
       "<polygon fill=\"red\" stroke=\"red\" points=\"1051.45,-31.3 1061.06,-26.84 1050.77,-24.34 1051.45,-31.3\"/>\n",
       "</g>\n",
       "<!-- python3&#45;colorama&#45;&gt;jrnl -->\n",
       "<g id=\"edge33\" class=\"edge\">\n",
       "<title>python3-colorama-&gt;jrnl</title>\n",
       "<path fill=\"none\" stroke=\"red\" d=\"M3273.15,-303.24C3030.47,-298.41 2430.07,-283.19 2400.54,-252 2389.54,-240.38 2391.98,-229.51 2400.54,-216 2403.98,-210.57 2567.19,-135.79 2640.16,-104.56\"/>\n",
       "<polygon fill=\"red\" stroke=\"red\" points=\"2641.42,-107.83 2649.26,-100.7 2638.68,-101.38 2641.42,-107.83\"/>\n",
       "</g>\n",
       "<!-- python3&#45;colorama&#45;&gt;jrnl -->\n",
       "<g id=\"edge34\" class=\"edge\">\n",
       "<title>python3-colorama-&gt;jrnl</title>\n",
       "<path fill=\"none\" stroke=\"green\" d=\"M3273.2,-303.06C3033.91,-298.04 2447.71,-282.81 2418.54,-252 2407.54,-240.38 2409.98,-229.51 2418.54,-216 2421.88,-210.74 2575.47,-140.25 2643.22,-107.51\"/>\n",
       "<polygon fill=\"green\" stroke=\"green\" points=\"2644.5,-110.78 2651.96,-103.25 2641.44,-104.48 2644.5,-110.78\"/>\n",
       "</g>\n",
       "<!-- black+colorama -->\n",
       "<g id=\"node17\" class=\"node\">\n",
       "<title>black+colorama</title>\n",
       "<ellipse fill=\"none\" stroke=\"black\" cx=\"2685.54\" cy=\"-162\" rx=\"91.72\" ry=\"18\"/>\n",
       "<text text-anchor=\"middle\" x=\"2685.54\" y=\"-157.32\" font-family=\"Times,serif\" font-size=\"14.00\">black+colorama</text>\n",
       "</g>\n",
       "<!-- python3&#45;colorama&#45;&gt;black+colorama -->\n",
       "<g id=\"edge13\" class=\"edge\">\n",
       "<title>python3-colorama-&gt;black+colorama</title>\n",
       "<path fill=\"none\" stroke=\"red\" d=\"M3272.08,-305.56C3072.95,-305.59 2646.35,-299.99 2601.54,-252 2590.62,-240.31 2593.82,-230.01 2601.54,-216 2609.05,-202.39 2621.68,-191.8 2634.9,-183.78\"/>\n",
       "<polygon fill=\"red\" stroke=\"red\" points=\"2636.21,-187.05 2643.24,-179.13 2632.8,-180.94 2636.21,-187.05\"/>\n",
       "</g>\n",
       "<!-- python3&#45;interrogate -->\n",
       "<g id=\"node18\" class=\"node\">\n",
       "<title>python3-interrogate</title>\n",
       "<ellipse fill=\"none\" stroke=\"black\" cx=\"2922.54\" cy=\"-162\" rx=\"112.24\" ry=\"18\"/>\n",
       "<text text-anchor=\"middle\" x=\"2922.54\" y=\"-157.32\" font-family=\"Times,serif\" font-size=\"14.00\">python3-interrogate</text>\n",
       "</g>\n",
       "<!-- python3&#45;colorama&#45;&gt;python3&#45;interrogate -->\n",
       "<g id=\"edge16\" class=\"edge\">\n",
       "<title>python3-colorama-&gt;python3-interrogate</title>\n",
       "<path fill=\"none\" stroke=\"red\" d=\"M3273.55,-302.8C3119.41,-298.36 2838.24,-285.7 2807.54,-252 2796.77,-240.17 2798.92,-229.47 2807.54,-216 2817.41,-200.59 2833.01,-189.6 2849.58,-181.78\"/>\n",
       "<polygon fill=\"red\" stroke=\"red\" points=\"2850.79,-185.07 2858.59,-177.91 2848.02,-178.64 2850.79,-185.07\"/>\n",
       "</g>\n",
       "<!-- python3&#45;migen -->\n",
       "<g id=\"node19\" class=\"node\">\n",
       "<title>python3-migen</title>\n",
       "<ellipse fill=\"none\" stroke=\"black\" cx=\"3392.54\" cy=\"-18\" rx=\"86.46\" ry=\"18\"/>\n",
       "<text text-anchor=\"middle\" x=\"3392.54\" y=\"-13.32\" font-family=\"Times,serif\" font-size=\"14.00\">python3-migen</text>\n",
       "</g>\n",
       "<!-- python3&#45;colorama&#45;&gt;python3&#45;migen -->\n",
       "<g id=\"edge18\" class=\"edge\">\n",
       "<title>python3-colorama-&gt;python3-migen</title>\n",
       "<path fill=\"none\" stroke=\"red\" d=\"M3375.31,-287.83C3376.34,-277.46 3377.62,-263.98 3378.54,-252 3384.22,-178.48 3388.9,-91.75 3391.13,-47.74\"/>\n",
       "<polygon fill=\"red\" stroke=\"red\" points=\"3394.63,-47.93 3391.63,-37.77 3387.63,-47.58 3394.63,-47.93\"/>\n",
       "</g>\n",
       "<!-- python3&#45;shamir&#45;mnemonic -->\n",
       "<g id=\"node20\" class=\"node\">\n",
       "<title>python3-shamir-mnemonic</title>\n",
       "<ellipse fill=\"none\" stroke=\"black\" cx=\"4734.54\" cy=\"-234\" rx=\"144.86\" ry=\"18\"/>\n",
       "<text text-anchor=\"middle\" x=\"4734.54\" y=\"-229.32\" font-family=\"Times,serif\" font-size=\"14.00\">python3-shamir-mnemonic</text>\n",
       "</g>\n",
       "<!-- python3&#45;colorama&#45;&gt;python3&#45;shamir&#45;mnemonic -->\n",
       "<g id=\"edge19\" class=\"edge\">\n",
       "<title>python3-colorama-&gt;python3-shamir-mnemonic</title>\n",
       "<path fill=\"none\" stroke=\"red\" d=\"M3473.51,-302.87C3680.52,-297.97 4171.06,-283.77 4581.54,-252 4594.66,-250.98 4608.38,-249.73 4622,-248.37\"/>\n",
       "<polygon fill=\"red\" stroke=\"red\" points=\"4622.31,-251.86 4631.9,-247.36 4621.59,-244.89 4622.31,-251.86\"/>\n",
       "</g>\n",
       "<!-- python&#45;terminaltables -->\n",
       "<g id=\"node21\" class=\"node\">\n",
       "<title>python-terminaltables</title>\n",
       "<ellipse fill=\"none\" stroke=\"black\" cx=\"1868.54\" cy=\"-90\" rx=\"122.23\" ry=\"18\"/>\n",
       "<text text-anchor=\"middle\" x=\"1868.54\" y=\"-85.33\" font-family=\"Times,serif\" font-size=\"14.00\">python-terminaltables</text>\n",
       "</g>\n",
       "<!-- python3&#45;colorama&#45;&gt;python&#45;terminaltables -->\n",
       "<g id=\"edge22\" class=\"edge\">\n",
       "<title>python3-colorama-&gt;python-terminaltables</title>\n",
       "<path fill=\"none\" stroke=\"green\" d=\"M3272.1,-304.77C2947.55,-303.6 1952.68,-296.39 1900.54,-252 1862.72,-219.8 1861.57,-156.81 1864.68,-119.89\"/>\n",
       "<polygon fill=\"green\" stroke=\"green\" points=\"1868.16,-120.26 1865.7,-109.96 1861.2,-119.55 1868.16,-120.26\"/>\n",
       "</g>\n",
       "<!-- python3&#45;spyking&#45;circus -->\n",
       "<g id=\"node22\" class=\"node\">\n",
       "<title>python3-spyking-circus</title>\n",
       "<ellipse fill=\"none\" stroke=\"black\" cx=\"3199.54\" cy=\"-162\" rx=\"127.49\" ry=\"18\"/>\n",
       "<text text-anchor=\"middle\" x=\"3199.54\" y=\"-157.32\" font-family=\"Times,serif\" font-size=\"14.00\">python3-spyking-circus</text>\n",
       "</g>\n",
       "<!-- python3&#45;colorama&#45;&gt;python3&#45;spyking&#45;circus -->\n",
       "<g id=\"edge24\" class=\"edge\">\n",
       "<title>python3-colorama-&gt;python3-spyking-circus</title>\n",
       "<path fill=\"none\" stroke=\"red\" d=\"M3361.94,-287.94C3348.23,-268.71 3323.93,-237.33 3297.54,-216 3282.59,-203.92 3264.48,-193.23 3247.92,-184.67\"/>\n",
       "<polygon fill=\"red\" stroke=\"red\" points=\"3249.71,-181.65 3239.2,-180.3 3246.57,-187.91 3249.71,-181.65\"/>\n",
       "</g>\n",
       "<!-- python&#45;jedi -->\n",
       "<g id=\"node23\" class=\"node\">\n",
       "<title>python-jedi</title>\n",
       "<ellipse fill=\"none\" stroke=\"black\" cx=\"2486.54\" cy=\"-234\" rx=\"67.52\" ry=\"18\"/>\n",
       "<text text-anchor=\"middle\" x=\"2486.54\" y=\"-229.32\" font-family=\"Times,serif\" font-size=\"14.00\">python-jedi</text>\n",
       "</g>\n",
       "<!-- python3&#45;colorama&#45;&gt;python&#45;jedi -->\n",
       "<g id=\"edge26\" class=\"edge\">\n",
       "<title>python3-colorama-&gt;python-jedi</title>\n",
       "<path fill=\"none\" stroke=\"green\" d=\"M3273.64,-302.87C3121.03,-298.62 2820.95,-286.31 2568.54,-252 2561.64,-251.06 2554.45,-249.88 2547.32,-248.58\"/>\n",
       "<polygon fill=\"green\" stroke=\"green\" points=\"2548.19,-245.18 2537.71,-246.74 2546.87,-252.05 2548.19,-245.18\"/>\n",
       "</g>\n",
       "<!-- python3&#45;cvdupdate -->\n",
       "<g id=\"node24\" class=\"node\">\n",
       "<title>python3-cvdupdate</title>\n",
       "<ellipse fill=\"none\" stroke=\"black\" cx=\"3640.54\" cy=\"-18\" rx=\"107.5\" ry=\"18\"/>\n",
       "<text text-anchor=\"middle\" x=\"3640.54\" y=\"-13.32\" font-family=\"Times,serif\" font-size=\"14.00\">python3-cvdupdate</text>\n",
       "</g>\n",
       "<!-- python3&#45;colorama&#45;&gt;python3&#45;cvdupdate -->\n",
       "<g id=\"edge27\" class=\"edge\">\n",
       "<title>python3-colorama-&gt;python3-cvdupdate</title>\n",
       "<path fill=\"none\" stroke=\"red\" d=\"M3395.63,-288.17C3408.32,-278.14 3424.32,-264.89 3437.54,-252 3509.47,-181.85 3584.79,-89.66 3620.05,-45.2\"/>\n",
       "<polygon fill=\"red\" stroke=\"red\" points=\"3622.76,-47.42 3626.21,-37.4 3617.27,-43.08 3622.76,-47.42\"/>\n",
       "</g>\n",
       "<!-- python3&#45;sphinx&#45;autobuild -->\n",
       "<g id=\"node25\" class=\"node\">\n",
       "<title>python3-sphinx-autobuild</title>\n",
       "<ellipse fill=\"none\" stroke=\"black\" cx=\"138.54\" cy=\"-162\" rx=\"138.54\" ry=\"18\"/>\n",
       "<text text-anchor=\"middle\" x=\"138.54\" y=\"-157.32\" font-family=\"Times,serif\" font-size=\"14.00\">python3-sphinx-autobuild</text>\n",
       "</g>\n",
       "<!-- python3&#45;colorama&#45;&gt;python3&#45;sphinx&#45;autobuild -->\n",
       "<g id=\"edge28\" class=\"edge\">\n",
       "<title>python3-colorama-&gt;python3-sphinx-autobuild</title>\n",
       "<path fill=\"none\" stroke=\"red\" d=\"M3272.2,-304.88C2753.86,-304.05 417.72,-297.76 271.54,-252 230.45,-239.14 190.37,-209.23 165.14,-187.63\"/>\n",
       "<polygon fill=\"red\" stroke=\"red\" points=\"167.5,-185.05 157.68,-181.1 162.89,-190.32 167.5,-185.05\"/>\n",
       "</g>\n",
       "<!-- python&#45;aiosmtpd -->\n",
       "<g id=\"node26\" class=\"node\">\n",
       "<title>python-aiosmtpd</title>\n",
       "<ellipse fill=\"none\" stroke=\"black\" cx=\"2118.54\" cy=\"-90\" rx=\"95.4\" ry=\"18\"/>\n",
       "<text text-anchor=\"middle\" x=\"2118.54\" y=\"-85.33\" font-family=\"Times,serif\" font-size=\"14.00\">python-aiosmtpd</text>\n",
       "</g>\n",
       "<!-- python3&#45;colorama&#45;&gt;python&#45;aiosmtpd -->\n",
       "<g id=\"edge35\" class=\"edge\">\n",
       "<title>python3-colorama-&gt;python-aiosmtpd</title>\n",
       "<path fill=\"none\" stroke=\"green\" d=\"M3272.66,-303.89C2988.49,-300.34 2199.25,-287.34 2156.54,-252 2117.88,-220.01 2114.29,-156.67 2115.91,-119.69\"/>\n",
       "<polygon fill=\"green\" stroke=\"green\" points=\"2119.4,-119.95 2116.52,-109.76 2112.41,-119.52 2119.4,-119.95\"/>\n",
       "</g>\n",
       "<!-- awscli2 -->\n",
       "<g id=\"node27\" class=\"node\">\n",
       "<title>awscli2</title>\n",
       "<ellipse fill=\"none\" stroke=\"black\" cx=\"3893.54\" cy=\"-234\" rx=\"48.58\" ry=\"18\"/>\n",
       "<text text-anchor=\"middle\" x=\"3893.54\" y=\"-229.32\" font-family=\"Times,serif\" font-size=\"14.00\">awscli2</text>\n",
       "</g>\n",
       "<!-- python3&#45;colorama&#45;&gt;awscli2 -->\n",
       "<g id=\"edge36\" class=\"edge\">\n",
       "<title>python3-colorama-&gt;awscli2</title>\n",
       "<path fill=\"none\" stroke=\"red\" d=\"M3466.04,-298.53C3558.08,-291.24 3702.9,-277.02 3826.54,-252 3832.06,-250.88 3837.81,-249.49 3843.53,-247.98\"/>\n",
       "<polygon fill=\"red\" stroke=\"red\" points=\"3844.27,-251.41 3852.99,-245.39 3842.42,-244.66 3844.27,-251.41\"/>\n",
       "</g>\n",
       "<!-- python3&#45;colorama&#45;&gt;awscli2 -->\n",
       "<g id=\"edge37\" class=\"edge\">\n",
       "<title>python3-colorama-&gt;awscli2</title>\n",
       "<path fill=\"none\" stroke=\"green\" d=\"M3468.21,-299.4C3563.99,-292.41 3715.76,-278.06 3844.54,-252 3846.45,-251.61 3848.39,-251.19 3850.34,-250.75\"/>\n",
       "<polygon fill=\"green\" stroke=\"green\" points=\"3851.17,-254.15 3860.02,-248.32 3849.47,-247.36 3851.17,-254.15\"/>\n",
       "</g>\n",
       "<!-- git&#45;up -->\n",
       "<g id=\"node28\" class=\"node\">\n",
       "<title>git-up</title>\n",
       "<ellipse fill=\"none\" stroke=\"black\" cx=\"4018.54\" cy=\"-234\" rx=\"40.69\" ry=\"18\"/>\n",
       "<text text-anchor=\"middle\" x=\"4018.54\" y=\"-229.32\" font-family=\"Times,serif\" font-size=\"14.00\">git-up</text>\n",
       "</g>\n",
       "<!-- python3&#45;colorama&#45;&gt;git&#45;up -->\n",
       "<g id=\"edge38\" class=\"edge\">\n",
       "<title>python3-colorama-&gt;git-up</title>\n",
       "<path fill=\"none\" stroke=\"red\" d=\"M3473.94,-303.36C3591.69,-299.7 3792.06,-288.14 3960.54,-252 3965.1,-251.02 3969.81,-249.75 3974.51,-248.33\"/>\n",
       "<polygon fill=\"red\" stroke=\"red\" points=\"3975.47,-251.7 3983.93,-245.31 3973.34,-245.03 3975.47,-251.7\"/>\n",
       "</g>\n",
       "<!-- python3&#45;colorama&#45;&gt;git&#45;up -->\n",
       "<g id=\"edge39\" class=\"edge\">\n",
       "<title>python3-colorama-&gt;git-up</title>\n",
       "<path fill=\"none\" stroke=\"green\" d=\"M3474.31,-303.72C3595.46,-300.49 3804.1,-289.42 3978.54,-252 3979.56,-251.78 3980.59,-251.55 3981.62,-251.3\"/>\n",
       "<polygon fill=\"green\" stroke=\"green\" points=\"3982.54,-254.68 3991.24,-248.63 3980.67,-247.93 3982.54,-254.68\"/>\n",
       "</g>\n",
       "<!-- thefuck -->\n",
       "<g id=\"node29\" class=\"node\">\n",
       "<title>thefuck</title>\n",
       "<ellipse fill=\"none\" stroke=\"black\" cx=\"3469.54\" cy=\"-90\" rx=\"48.58\" ry=\"18\"/>\n",
       "<text text-anchor=\"middle\" x=\"3469.54\" y=\"-85.33\" font-family=\"Times,serif\" font-size=\"14.00\">thefuck</text>\n",
       "</g>\n",
       "<!-- python3&#45;colorama&#45;&gt;thefuck -->\n",
       "<g id=\"edge42\" class=\"edge\">\n",
       "<title>python3-colorama-&gt;thefuck</title>\n",
       "<path fill=\"none\" stroke=\"red\" d=\"M3377.5,-287.8C3383.07,-277.65 3391.32,-264.4 3397.54,-252 3420.3,-206.64 3440.47,-150.97 3454.15,-118.4\"/>\n",
       "<polygon fill=\"red\" stroke=\"red\" points=\"3457.33,-119.85 3458.1,-109.28 3450.91,-117.06 3457.33,-119.85\"/>\n",
       "</g>\n",
       "<!-- python3&#45;colorama&#45;&gt;thefuck -->\n",
       "<g id=\"edge43\" class=\"edge\">\n",
       "<title>python3-colorama-&gt;thefuck</title>\n",
       "<path fill=\"none\" stroke=\"green\" d=\"M3392.89,-288.27C3400.81,-278.07 3409.22,-264.6 3415.54,-252 3438.08,-207.08 3458.08,-152.05 3466.71,-119.34\"/>\n",
       "<polygon fill=\"green\" stroke=\"green\" points=\"3470.06,-120.38 3469,-109.84 3463.26,-118.74 3470.06,-120.38\"/>\n",
       "</g>\n",
       "<!-- RBTools -->\n",
       "<g id=\"node30\" class=\"node\">\n",
       "<title>RBTools</title>\n",
       "<ellipse fill=\"none\" stroke=\"black\" cx=\"4146.54\" cy=\"-234\" rx=\"51.73\" ry=\"18\"/>\n",
       "<text text-anchor=\"middle\" x=\"4146.54\" y=\"-229.32\" font-family=\"Times,serif\" font-size=\"14.00\">RBTools</text>\n",
       "</g>\n",
       "<!-- python3&#45;colorama&#45;&gt;RBTools -->\n",
       "<g id=\"edge44\" class=\"edge\">\n",
       "<title>python3-colorama-&gt;RBTools</title>\n",
       "<path fill=\"none\" stroke=\"red\" d=\"M3474.21,-303.76C3611.55,-300.61 3864.71,-289.66 4077.54,-252 4083.13,-251.01 4088.94,-249.71 4094.73,-248.28\"/>\n",
       "<polygon fill=\"red\" stroke=\"red\" points=\"4095.53,-251.69 4104.31,-245.77 4093.75,-244.92 4095.53,-251.69\"/>\n",
       "</g>\n",
       "<!-- python3&#45;colorama&#45;&gt;RBTools -->\n",
       "<g id=\"edge45\" class=\"edge\">\n",
       "<title>python3-colorama-&gt;RBTools</title>\n",
       "<path fill=\"none\" stroke=\"green\" d=\"M3474.5,-304.01C3614.97,-301.22 3876.6,-290.74 4095.54,-252 4097.7,-251.62 4099.89,-251.19 4102.1,-250.73\"/>\n",
       "<polygon fill=\"green\" stroke=\"green\" points=\"4102.68,-254.18 4111.62,-248.49 4101.09,-247.37 4102.68,-254.18\"/>\n",
       "</g>\n",
       "<!-- conan -->\n",
       "<g id=\"node31\" class=\"node\">\n",
       "<title>conan</title>\n",
       "<ellipse fill=\"none\" stroke=\"black\" cx=\"4274.54\" cy=\"-234\" rx=\"40.69\" ry=\"18\"/>\n",
       "<text text-anchor=\"middle\" x=\"4274.54\" y=\"-229.32\" font-family=\"Times,serif\" font-size=\"14.00\">conan</text>\n",
       "</g>\n",
       "<!-- python3&#45;colorama&#45;&gt;conan -->\n",
       "<g id=\"edge46\" class=\"edge\">\n",
       "<title>python3-colorama-&gt;conan</title>\n",
       "<path fill=\"none\" stroke=\"red\" d=\"M3472.69,-302.05C3663.81,-295.95 4076.41,-280.12 4216.54,-252 4221.29,-251.05 4226.2,-249.75 4231.09,-248.28\"/>\n",
       "<polygon fill=\"red\" stroke=\"red\" points=\"4231.76,-251.74 4240.22,-245.36 4229.63,-245.07 4231.76,-251.74\"/>\n",
       "</g>\n",
       "<!-- python3&#45;colorama&#45;&gt;conan -->\n",
       "<g id=\"edge47\" class=\"edge\">\n",
       "<title>python3-colorama-&gt;conan</title>\n",
       "<path fill=\"none\" stroke=\"green\" d=\"M3473.13,-302.35C3667.82,-296.48 4092.05,-280.59 4234.54,-252 4235.57,-251.79 4236.6,-251.57 4237.63,-251.34\"/>\n",
       "<polygon fill=\"green\" stroke=\"green\" points=\"4238.52,-254.72 4247.26,-248.74 4236.69,-247.97 4238.52,-254.72\"/>\n",
       "</g>\n",
       "<!-- python&#45;gabbi -->\n",
       "<g id=\"node32\" class=\"node\">\n",
       "<title>python-gabbi</title>\n",
       "<ellipse fill=\"none\" stroke=\"black\" cx=\"753.54\" cy=\"-234\" rx=\"76.99\" ry=\"18\"/>\n",
       "<text text-anchor=\"middle\" x=\"753.54\" y=\"-229.32\" font-family=\"Times,serif\" font-size=\"14.00\">python-gabbi</text>\n",
       "</g>\n",
       "<!-- python3&#45;colorama&#45;&gt;python&#45;gabbi -->\n",
       "<g id=\"edge49\" class=\"edge\">\n",
       "<title>python3-colorama-&gt;python-gabbi</title>\n",
       "<path fill=\"none\" stroke=\"green\" d=\"M3272.2,-305.24C2861.93,-305.84 1323.21,-304.46 839.54,-252 832.77,-251.27 825.74,-250.27 818.75,-249.12\"/>\n",
       "<polygon fill=\"green\" stroke=\"green\" points=\"819.4,-245.68 808.95,-247.41 818.19,-252.58 819.4,-245.68\"/>\n",
       "</g>\n",
       "<!-- python&#45;sphinx&#45;autobuild -->\n",
       "<g id=\"node33\" class=\"node\">\n",
       "<title>python-sphinx-autobuild</title>\n",
       "<ellipse fill=\"none\" stroke=\"black\" cx=\"412.54\" cy=\"-234\" rx=\"132.23\" ry=\"18\"/>\n",
       "<text text-anchor=\"middle\" x=\"412.54\" y=\"-229.32\" font-family=\"Times,serif\" font-size=\"14.00\">python-sphinx-autobuild</text>\n",
       "</g>\n",
       "<!-- python3&#45;colorama&#45;&gt;python&#45;sphinx&#45;autobuild -->\n",
       "<g id=\"edge50\" class=\"edge\">\n",
       "<title>python3-colorama-&gt;python-sphinx-autobuild</title>\n",
       "<path fill=\"none\" stroke=\"green\" d=\"M3272.38,-304.41C2834.77,-301.68 1102.32,-288.69 558.54,-252 544.98,-251.09 530.74,-249.81 516.7,-248.38\"/>\n",
       "<polygon fill=\"green\" stroke=\"green\" points=\"517.31,-244.92 507,-247.35 516.57,-251.88 517.31,-244.92\"/>\n",
       "</g>\n",
       "<!-- python3&#45;socialscan -->\n",
       "<g id=\"node34\" class=\"node\">\n",
       "<title>python3-socialscan</title>\n",
       "<ellipse fill=\"none\" stroke=\"black\" cx=\"5003.54\" cy=\"-234\" rx=\"106.45\" ry=\"18\"/>\n",
       "<text text-anchor=\"middle\" x=\"5003.54\" y=\"-229.32\" font-family=\"Times,serif\" font-size=\"14.00\">python3-socialscan</text>\n",
       "</g>\n",
       "<!-- python3&#45;colorama&#45;&gt;python3&#45;socialscan -->\n",
       "<g id=\"edge51\" class=\"edge\">\n",
       "<title>python3-colorama-&gt;python3-socialscan</title>\n",
       "<path fill=\"none\" stroke=\"red\" d=\"M3474.85,-305.36C3718.76,-305.38 4357.8,-300.36 4888.54,-252 4898.11,-251.13 4908.09,-249.99 4918.01,-248.72\"/>\n",
       "<polygon fill=\"red\" stroke=\"red\" points=\"4918.19,-252.23 4927.64,-247.44 4917.27,-245.29 4918.19,-252.23\"/>\n",
       "</g>\n",
       "<!-- python&#45;migen -->\n",
       "<g id=\"node35\" class=\"node\">\n",
       "<title>python-migen</title>\n",
       "<ellipse fill=\"none\" stroke=\"black\" cx=\"2327.54\" cy=\"-90\" rx=\"80.14\" ry=\"18\"/>\n",
       "<text text-anchor=\"middle\" x=\"2327.54\" y=\"-85.33\" font-family=\"Times,serif\" font-size=\"14.00\">python-migen</text>\n",
       "</g>\n",
       "<!-- python3&#45;colorama&#45;&gt;python&#45;migen -->\n",
       "<g id=\"edge52\" class=\"edge\">\n",
       "<title>python3-colorama-&gt;python-migen</title>\n",
       "<path fill=\"none\" stroke=\"green\" d=\"M3271.97,-305.42C3036.71,-305.55 2469.05,-300.74 2398.54,-252 2354.33,-221.43 2337.35,-156.82 2331.06,-119.41\"/>\n",
       "<polygon fill=\"green\" stroke=\"green\" points=\"2334.56,-119.15 2329.6,-109.79 2327.64,-120.21 2334.56,-119.15\"/>\n",
       "</g>\n",
       "<!-- python&#45;spyking&#45;circus -->\n",
       "<g id=\"node36\" class=\"node\">\n",
       "<title>python-spyking-circus</title>\n",
       "<ellipse fill=\"none\" stroke=\"black\" cx=\"3167.54\" cy=\"-234\" rx=\"121.18\" ry=\"18\"/>\n",
       "<text text-anchor=\"middle\" x=\"3167.54\" y=\"-229.32\" font-family=\"Times,serif\" font-size=\"14.00\">python-spyking-circus</text>\n",
       "</g>\n",
       "<!-- python3&#45;colorama&#45;&gt;python&#45;spyking&#45;circus -->\n",
       "<g id=\"edge53\" class=\"edge\">\n",
       "<title>python3-colorama-&gt;python-spyking-circus</title>\n",
       "<path fill=\"none\" stroke=\"green\" d=\"M3328.08,-289.55C3297.85,-279.28 3257.88,-265.7 3225.38,-254.65\"/>\n",
       "<polygon fill=\"green\" stroke=\"green\" points=\"3226.7,-251.41 3216.11,-251.5 3224.45,-258.03 3226.7,-251.41\"/>\n",
       "</g>\n",
       "<!-- python&#45;cvdupdate -->\n",
       "<g id=\"node37\" class=\"node\">\n",
       "<title>python-cvdupdate</title>\n",
       "<ellipse fill=\"none\" stroke=\"black\" cx=\"2526.54\" cy=\"-90\" rx=\"101.19\" ry=\"18\"/>\n",
       "<text text-anchor=\"middle\" x=\"2526.54\" y=\"-85.33\" font-family=\"Times,serif\" font-size=\"14.00\">python-cvdupdate</text>\n",
       "</g>\n",
       "<!-- python3&#45;colorama&#45;&gt;python&#45;cvdupdate -->\n",
       "<g id=\"edge54\" class=\"edge\">\n",
       "<title>python3-colorama-&gt;python-cvdupdate</title>\n",
       "<path fill=\"none\" stroke=\"green\" d=\"M3375.46,-287.52C3378.09,-253.75 3378.33,-179.69 3335.54,-144 3275.82,-94.18 2713.9,-115.95 2636.54,-108 2627.66,-107.09 2618.4,-105.95 2609.19,-104.7\"/>\n",
       "<polygon fill=\"green\" stroke=\"green\" points=\"2609.89,-101.26 2599.5,-103.34 2608.92,-108.2 2609.89,-101.26\"/>\n",
       "</g>\n",
       "<!-- python3&#45;pytest&#45;watch -->\n",
       "<g id=\"node38\" class=\"node\">\n",
       "<title>python3-pytest-watch</title>\n",
       "<ellipse fill=\"none\" stroke=\"black\" cx=\"5248.54\" cy=\"-234\" rx=\"120.13\" ry=\"18\"/>\n",
       "<text text-anchor=\"middle\" x=\"5248.54\" y=\"-229.32\" font-family=\"Times,serif\" font-size=\"14.00\">python3-pytest-watch</text>\n",
       "</g>\n",
       "<!-- python3&#45;colorama&#45;&gt;python3&#45;pytest&#45;watch -->\n",
       "<g id=\"edge55\" class=\"edge\">\n",
       "<title>python3-colorama-&gt;python3-pytest-watch</title>\n",
       "<path fill=\"none\" stroke=\"red\" d=\"M3475.04,-305.45C3743.68,-305.87 4495.43,-302.08 5118.54,-252 5129.8,-251.09 5141.59,-249.9 5153.26,-248.57\"/>\n",
       "<polygon fill=\"red\" stroke=\"red\" points=\"5153.38,-252.08 5162.9,-247.42 5152.56,-245.12 5153.38,-252.08\"/>\n",
       "</g>\n",
       "<!-- python&#45;interrogate -->\n",
       "<g id=\"node39\" class=\"node\">\n",
       "<title>python-interrogate</title>\n",
       "<ellipse fill=\"none\" stroke=\"black\" cx=\"2922.54\" cy=\"-234\" rx=\"105.92\" ry=\"18\"/>\n",
       "<text text-anchor=\"middle\" x=\"2922.54\" y=\"-229.32\" font-family=\"Times,serif\" font-size=\"14.00\">python-interrogate</text>\n",
       "</g>\n",
       "<!-- python3&#45;colorama&#45;&gt;python&#45;interrogate -->\n",
       "<g id=\"edge56\" class=\"edge\">\n",
       "<title>python3-colorama-&gt;python-interrogate</title>\n",
       "<path fill=\"none\" stroke=\"green\" d=\"M3299.07,-293.44C3219.66,-281.12 3094,-261.61 3009.95,-248.57\"/>\n",
       "<polygon fill=\"green\" stroke=\"green\" points=\"3010.55,-245.12 3000.13,-247.04 3009.47,-252.03 3010.55,-245.12\"/>\n",
       "</g>\n",
       "<!-- azure&#45;cli -->\n",
       "<g id=\"node40\" class=\"node\">\n",
       "<title>azure-cli</title>\n",
       "<ellipse fill=\"none\" stroke=\"black\" cx=\"4405.54\" cy=\"-234\" rx=\"53.84\" ry=\"18\"/>\n",
       "<text text-anchor=\"middle\" x=\"4405.54\" y=\"-229.32\" font-family=\"Times,serif\" font-size=\"14.00\">azure-cli</text>\n",
       "</g>\n",
       "<!-- python3&#45;colorama&#45;&gt;azure&#45;cli -->\n",
       "<g id=\"edge57\" class=\"edge\">\n",
       "<title>python3-colorama-&gt;azure-cli</title>\n",
       "<path fill=\"none\" stroke=\"red\" d=\"M3472.82,-302.05C3683.58,-295.53 4169.58,-278.31 4333.54,-252 4339.55,-251.04 4345.82,-249.73 4352.05,-248.26\"/>\n",
       "<polygon fill=\"red\" stroke=\"red\" points=\"4352.84,-251.67 4361.69,-245.86 4351.14,-244.88 4352.84,-251.67\"/>\n",
       "</g>\n",
       "<!-- python3&#45;colorama&#45;&gt;azure&#45;cli -->\n",
       "<g id=\"edge58\" class=\"edge\">\n",
       "<title>python3-colorama-&gt;azure-cli</title>\n",
       "<path fill=\"none\" stroke=\"green\" d=\"M3473.19,-302.33C3687.33,-296.03 4185.19,-278.69 4351.54,-252 4354.18,-251.58 4356.88,-251.09 4359.58,-250.54\"/>\n",
       "<polygon fill=\"green\" stroke=\"green\" points=\"4360.17,-254 4369.17,-248.4 4358.64,-247.17 4360.17,-254\"/>\n",
       "</g>\n",
       "<!-- python&#45;tox -->\n",
       "<g id=\"node41\" class=\"node\">\n",
       "<title>python-tox</title>\n",
       "<ellipse fill=\"none\" stroke=\"black\" cx=\"2241.54\" cy=\"-234\" rx=\"64.89\" ry=\"18\"/>\n",
       "<text text-anchor=\"middle\" x=\"2241.54\" y=\"-229.32\" font-family=\"Times,serif\" font-size=\"14.00\">python-tox</text>\n",
       "</g>\n",
       "<!-- python3&#45;colorama&#45;&gt;python&#45;tox -->\n",
       "<g id=\"edge59\" class=\"edge\">\n",
       "<title>python3-colorama-&gt;python-tox</title>\n",
       "<path fill=\"none\" stroke=\"green\" d=\"M3272.14,-305.33C3083.8,-304.73 2667.61,-297.77 2320.54,-252 2314.04,-251.14 2307.27,-250.03 2300.56,-248.79\"/>\n",
       "<polygon fill=\"green\" stroke=\"green\" points=\"2301.34,-245.37 2290.85,-246.88 2299.99,-252.24 2301.34,-245.37\"/>\n",
       "</g>\n",
       "<!-- python3&#45;gilt -->\n",
       "<g id=\"node42\" class=\"node\">\n",
       "<title>python3-gilt</title>\n",
       "<ellipse fill=\"none\" stroke=\"black\" cx=\"5458.54\" cy=\"-234\" rx=\"72.25\" ry=\"18\"/>\n",
       "<text text-anchor=\"middle\" x=\"5458.54\" y=\"-229.32\" font-family=\"Times,serif\" font-size=\"14.00\">python3-gilt</text>\n",
       "</g>\n",
       "<!-- python3&#45;colorama&#45;&gt;python3&#45;gilt -->\n",
       "<g id=\"edge61\" class=\"edge\">\n",
       "<title>python3-colorama-&gt;python3-gilt</title>\n",
       "<path fill=\"none\" stroke=\"red\" d=\"M3474.92,-304.74C3828.1,-303.44 5003.24,-295.86 5377.54,-252 5383.85,-251.26 5390.4,-250.27 5396.91,-249.14\"/>\n",
       "<polygon fill=\"red\" stroke=\"red\" points=\"5397.11,-252.66 5406.3,-247.39 5395.83,-245.78 5397.11,-252.66\"/>\n",
       "</g>\n",
       "<!-- python&#45;pyvirtualize -->\n",
       "<g id=\"node43\" class=\"node\">\n",
       "<title>python-pyvirtualize</title>\n",
       "<ellipse fill=\"none\" stroke=\"black\" cx=\"957.54\" cy=\"-234\" rx=\"108.55\" ry=\"18\"/>\n",
       "<text text-anchor=\"middle\" x=\"957.54\" y=\"-229.32\" font-family=\"Times,serif\" font-size=\"14.00\">python-pyvirtualize</text>\n",
       "</g>\n",
       "<!-- python3&#45;colorama&#45;&gt;python&#45;pyvirtualize -->\n",
       "<g id=\"edge62\" class=\"edge\">\n",
       "<title>python3-colorama-&gt;python-pyvirtualize</title>\n",
       "<path fill=\"none\" stroke=\"green\" d=\"M3272.58,-304.2C2888.16,-300.93 1515.79,-286.99 1080.54,-252 1069.31,-251.1 1057.53,-249.85 1045.9,-248.45\"/>\n",
       "<polygon fill=\"green\" stroke=\"green\" points=\"1046.68,-245.02 1036.32,-247.24 1045.81,-251.96 1046.68,-245.02\"/>\n",
       "</g>\n",
       "<!-- cephfs&#45;shell -->\n",
       "<g id=\"node44\" class=\"node\">\n",
       "<title>cephfs-shell</title>\n",
       "<ellipse fill=\"none\" stroke=\"black\" cx=\"5619.54\" cy=\"-234\" rx=\"70.67\" ry=\"18\"/>\n",
       "<text text-anchor=\"middle\" x=\"5619.54\" y=\"-229.32\" font-family=\"Times,serif\" font-size=\"14.00\">cephfs-shell</text>\n",
       "</g>\n",
       "<!-- python3&#45;colorama&#45;&gt;cephfs&#45;shell -->\n",
       "<g id=\"edge63\" class=\"edge\">\n",
       "<title>python3-colorama-&gt;cephfs-shell</title>\n",
       "<path fill=\"none\" stroke=\"red\" d=\"M3474.99,-305.01C3846.49,-304.64 5132.1,-299.86 5539.54,-252 5545.62,-251.29 5551.93,-250.33 5558.2,-249.23\"/>\n",
       "<polygon fill=\"red\" stroke=\"red\" points=\"5558.75,-252.69 5567.93,-247.41 5557.46,-245.81 5558.75,-252.69\"/>\n",
       "</g>\n",
       "<!-- xcat -->\n",
       "<g id=\"node45\" class=\"node\">\n",
       "<title>xcat</title>\n",
       "<ellipse fill=\"none\" stroke=\"black\" cx=\"5740.54\" cy=\"-234\" rx=\"32.27\" ry=\"18\"/>\n",
       "<text text-anchor=\"middle\" x=\"5740.54\" y=\"-229.32\" font-family=\"Times,serif\" font-size=\"14.00\">xcat</text>\n",
       "</g>\n",
       "<!-- python3&#45;colorama&#45;&gt;xcat -->\n",
       "<g id=\"edge64\" class=\"edge\">\n",
       "<title>python3-colorama-&gt;xcat</title>\n",
       "<path fill=\"none\" stroke=\"red\" d=\"M3474.83,-304.89C3893.88,-304.14 5480.32,-298.25 5699.54,-252 5701.69,-251.55 5703.87,-250.98 5706.04,-250.34\"/>\n",
       "<polygon fill=\"red\" stroke=\"red\" points=\"5707.02,-253.71 5715.31,-247.1 5704.71,-247.1 5707.02,-253.71\"/>\n",
       "</g>\n",
       "<!-- python3&#45;gabbi -->\n",
       "<g id=\"node46\" class=\"node\">\n",
       "<title>python3-gabbi</title>\n",
       "<ellipse fill=\"none\" stroke=\"black\" cx=\"721.54\" cy=\"-162\" rx=\"83.3\" ry=\"18\"/>\n",
       "<text text-anchor=\"middle\" x=\"721.54\" y=\"-157.32\" font-family=\"Times,serif\" font-size=\"14.00\">python3-gabbi</text>\n",
       "</g>\n",
       "<!-- python3&#45;colorama&#45;&gt;python3&#45;gabbi -->\n",
       "<g id=\"edge65\" class=\"edge\">\n",
       "<title>python3-colorama-&gt;python3-gabbi</title>\n",
       "<path fill=\"none\" stroke=\"red\" d=\"M3272.28,-304.94C2786.23,-304.41 714,-299.38 667.54,-252 648.86,-232.95 669.69,-206.26 690.67,-187.09\"/>\n",
       "<polygon fill=\"red\" stroke=\"red\" points=\"692.86,-189.83 698.11,-180.63 688.27,-184.55 692.86,-189.83\"/>\n",
       "</g>\n",
       "<!-- python&#45;howdoi -->\n",
       "<g id=\"node47\" class=\"node\">\n",
       "<title>python-howdoi</title>\n",
       "<ellipse fill=\"none\" stroke=\"black\" cx=\"1245.54\" cy=\"-234\" rx=\"84.88\" ry=\"18\"/>\n",
       "<text text-anchor=\"middle\" x=\"1245.54\" y=\"-229.32\" font-family=\"Times,serif\" font-size=\"14.00\">python-howdoi</text>\n",
       "</g>\n",
       "<!-- python3&#45;colorama&#45;&gt;python&#45;howdoi -->\n",
       "<g id=\"edge66\" class=\"edge\">\n",
       "<title>python3-colorama-&gt;python-howdoi</title>\n",
       "<path fill=\"none\" stroke=\"green\" d=\"M3272.93,-303.61C2922.39,-298.58 1755.91,-280.07 1382.54,-252 1364.14,-250.62 1344.4,-248.53 1325.81,-246.28\"/>\n",
       "<polygon fill=\"green\" stroke=\"green\" points=\"1326.26,-242.81 1315.91,-245.05 1325.4,-249.76 1326.26,-242.81\"/>\n",
       "</g>\n",
       "<!-- tldr -->\n",
       "<g id=\"node48\" class=\"node\">\n",
       "<title>tldr</title>\n",
       "<ellipse fill=\"none\" stroke=\"black\" cx=\"4524.54\" cy=\"-234\" rx=\"29.64\" ry=\"18\"/>\n",
       "<text text-anchor=\"middle\" x=\"4524.54\" y=\"-229.32\" font-family=\"Times,serif\" font-size=\"14.00\">tldr</text>\n",
       "</g>\n",
       "<!-- python3&#45;colorama&#45;&gt;tldr -->\n",
       "<g id=\"edge67\" class=\"edge\">\n",
       "<title>python3-colorama-&gt;tldr</title>\n",
       "<path fill=\"none\" stroke=\"red\" d=\"M3474.76,-304.96C3710.15,-304.05 4288.43,-297.1 4477.54,-252 4481.31,-251.1 4485.17,-249.83 4489,-248.39\"/>\n",
       "<polygon fill=\"red\" stroke=\"red\" points=\"4490.29,-251.64 4498.2,-244.6 4487.62,-245.17 4490.29,-251.64\"/>\n",
       "</g>\n",
       "<!-- python3&#45;colorama&#45;&gt;tldr -->\n",
       "<g id=\"edge68\" class=\"edge\">\n",
       "<title>python3-colorama-&gt;tldr</title>\n",
       "<path fill=\"none\" stroke=\"green\" d=\"M3474.65,-304.99C3708.79,-304.24 4283.29,-297.92 4495.46,-251.07\"/>\n",
       "<polygon fill=\"green\" stroke=\"green\" points=\"4496.07,-254.53 4505.02,-248.86 4494.49,-247.71 4496.07,-254.53\"/>\n",
       "</g>\n",
       "<!-- tox -->\n",
       "<g id=\"node49\" class=\"node\">\n",
       "<title>tox</title>\n",
       "<ellipse fill=\"none\" stroke=\"black\" cx=\"2260.54\" cy=\"-162\" rx=\"27.01\" ry=\"18\"/>\n",
       "<text text-anchor=\"middle\" x=\"2260.54\" y=\"-157.32\" font-family=\"Times,serif\" font-size=\"14.00\">tox</text>\n",
       "</g>\n",
       "<!-- python3&#45;colorama&#45;&gt;tox -->\n",
       "<g id=\"edge70\" class=\"edge\">\n",
       "<title>python3-colorama-&gt;tox</title>\n",
       "<path fill=\"none\" stroke=\"red\" d=\"M3272.38,-304.31C2989,-301.9 2205.49,-291.65 2167.54,-252 2156.48,-240.44 2159.5,-229.83 2167.54,-216 2179.89,-194.75 2204.29,-181.31 2225.01,-173.29\"/>\n",
       "<polygon fill=\"red\" stroke=\"red\" points=\"2226.05,-176.63 2234.3,-169.98 2223.7,-170.04 2226.05,-176.63\"/>\n",
       "</g>\n",
       "<!-- python3&#45;pyvirtualize -->\n",
       "<g id=\"node50\" class=\"node\">\n",
       "<title>python3-pyvirtualize</title>\n",
       "<ellipse fill=\"none\" stroke=\"black\" cx=\"954.54\" cy=\"-162\" rx=\"114.87\" ry=\"18\"/>\n",
       "<text text-anchor=\"middle\" x=\"954.54\" y=\"-157.32\" font-family=\"Times,serif\" font-size=\"14.00\">python3-pyvirtualize</text>\n",
       "</g>\n",
       "<!-- python3&#45;colorama&#45;&gt;python3&#45;pyvirtualize -->\n",
       "<g id=\"edge71\" class=\"edge\">\n",
       "<title>python3-colorama-&gt;python3-pyvirtualize</title>\n",
       "<path fill=\"none\" stroke=\"red\" d=\"M3272.56,-304.18C2848.99,-300.55 1232.81,-284.6 1129.54,-252 1102.04,-243.32 1100.85,-229.84 1075.54,-216 1053.58,-203.99 1028.35,-192.59 1006.63,-183.46\"/>\n",
       "<polygon fill=\"red\" stroke=\"red\" points=\"1008.26,-180.34 997.68,-179.75 1005.58,-186.81 1008.26,-180.34\"/>\n",
       "</g>\n",
       "<!-- howdoi -->\n",
       "<g id=\"node51\" class=\"node\">\n",
       "<title>howdoi</title>\n",
       "<ellipse fill=\"none\" stroke=\"black\" cx=\"1134.54\" cy=\"-162\" rx=\"47\" ry=\"18\"/>\n",
       "<text text-anchor=\"middle\" x=\"1134.54\" y=\"-157.32\" font-family=\"Times,serif\" font-size=\"14.00\">howdoi</text>\n",
       "</g>\n",
       "<!-- python3&#45;colorama&#45;&gt;howdoi -->\n",
       "<g id=\"edge72\" class=\"edge\">\n",
       "<title>python3-colorama-&gt;howdoi</title>\n",
       "<path fill=\"none\" stroke=\"red\" d=\"M3272.54,-304.3C2843.55,-301.14 1192.52,-286.72 1151.54,-252 1134.47,-237.53 1131.12,-211.65 1131.52,-191.52\"/>\n",
       "<polygon fill=\"red\" stroke=\"red\" points=\"1135,-191.85 1132.05,-181.68 1128.01,-191.48 1135,-191.85\"/>\n",
       "</g>\n",
       "<!-- python&#45;black -->\n",
       "<g id=\"node52\" class=\"node\">\n",
       "<title>python-black</title>\n",
       "<ellipse fill=\"none\" stroke=\"black\" cx=\"2685.54\" cy=\"-234\" rx=\"75.41\" ry=\"18\"/>\n",
       "<text text-anchor=\"middle\" x=\"2685.54\" y=\"-229.32\" font-family=\"Times,serif\" font-size=\"14.00\">python-black</text>\n",
       "</g>\n",
       "<!-- python3&#45;colorama&#45;&gt;python&#45;black -->\n",
       "<g id=\"edge73\" class=\"edge\">\n",
       "<title>python3-colorama-&gt;python-black</title>\n",
       "<path fill=\"none\" stroke=\"green\" d=\"M3278.28,-299.54C3159.83,-292.06 2951.61,-276.68 2774.54,-252 2767.3,-250.99 2759.75,-249.79 2752.25,-248.49\"/>\n",
       "<polygon fill=\"green\" stroke=\"green\" points=\"2752.9,-245.05 2742.44,-246.74 2751.67,-251.94 2752.9,-245.05\"/>\n",
       "</g>\n",
       "<!-- awscli2&#45;&gt;awscli2 -->\n",
       "<g id=\"edge74\" class=\"edge\">\n",
       "<title>awscli2-&gt;awscli2</title>\n",
       "<path fill=\"none\" stroke=\"blue\" d=\"M3927.8,-247.1C3944.88,-248.91 3960.12,-244.55 3960.12,-234 3960.12,-225.84 3951,-221.38 3938.97,-220.62\"/>\n",
       "<polygon fill=\"blue\" stroke=\"blue\" points=\"3939.22,-217.11 3929.31,-220.86 3939.4,-224.11 3939.22,-217.11\"/>\n",
       "</g>\n",
       "<!-- git&#45;up&#45;&gt;git&#45;up -->\n",
       "<g id=\"edge75\" class=\"edge\">\n",
       "<title>git-up-&gt;git-up</title>\n",
       "<path fill=\"none\" stroke=\"blue\" d=\"M4047.83,-246.99C4063.25,-249.09 4077.23,-244.76 4077.23,-234 4077.23,-226.02 4069.53,-221.57 4059.26,-220.67\"/>\n",
       "<polygon fill=\"blue\" stroke=\"blue\" points=\"4059.24,-217.17 4049.34,-220.97 4059.45,-224.17 4059.24,-217.17\"/>\n",
       "</g>\n",
       "<!-- thefuck&#45;&gt;thefuck -->\n",
       "<g id=\"edge79\" class=\"edge\">\n",
       "<title>thefuck-&gt;thefuck</title>\n",
       "<path fill=\"none\" stroke=\"blue\" d=\"M3503.8,-103.1C3520.88,-104.91 3536.12,-100.55 3536.12,-90 3536.12,-81.84 3527,-77.38 3514.97,-76.62\"/>\n",
       "<polygon fill=\"blue\" stroke=\"blue\" points=\"3515.22,-73.11 3505.31,-76.86 3515.4,-80.11 3515.22,-73.11\"/>\n",
       "</g>\n",
       "<!-- RBTools&#45;&gt;RBTools -->\n",
       "<g id=\"edge80\" class=\"edge\">\n",
       "<title>RBTools-&gt;RBTools</title>\n",
       "<path fill=\"none\" stroke=\"blue\" d=\"M4183.14,-247.17C4200.74,-248.8 4216.28,-244.41 4216.28,-234 4216.28,-225.95 4206.98,-221.5 4194.63,-220.65\"/>\n",
       "<polygon fill=\"blue\" stroke=\"blue\" points=\"4194.59,-217.15 4184.65,-220.81 4194.7,-224.15 4194.59,-217.15\"/>\n",
       "</g>\n",
       "<!-- conan&#45;&gt;conan -->\n",
       "<g id=\"edge81\" class=\"edge\">\n",
       "<title>conan-&gt;conan</title>\n",
       "<path fill=\"none\" stroke=\"blue\" d=\"M4303.83,-246.99C4319.25,-249.09 4333.23,-244.76 4333.23,-234 4333.23,-226.02 4325.53,-221.57 4315.26,-220.67\"/>\n",
       "<polygon fill=\"blue\" stroke=\"blue\" points=\"4315.24,-217.17 4305.34,-220.97 4315.45,-224.17 4315.24,-217.17\"/>\n",
       "</g>\n",
       "<!-- python&#45;gabbi&#45;&gt;python3&#45;gabbi -->\n",
       "<g id=\"edge82\" class=\"edge\">\n",
       "<title>python-gabbi-&gt;python3-gabbi</title>\n",
       "<path fill=\"none\" stroke=\"blue\" d=\"M745.63,-215.7C742.14,-208.07 737.96,-198.92 734.07,-190.4\"/>\n",
       "<polygon fill=\"blue\" stroke=\"blue\" points=\"737.33,-189.12 729.99,-181.48 730.97,-192.03 737.33,-189.12\"/>\n",
       "</g>\n",
       "<!-- python&#45;sphinx&#45;autobuild&#45;&gt;python3&#45;sphinx&#45;autobuild -->\n",
       "<g id=\"edge83\" class=\"edge\">\n",
       "<title>python-sphinx-autobuild-&gt;python3-sphinx-autobuild</title>\n",
       "<path fill=\"none\" stroke=\"blue\" d=\"M352.07,-217.55C310.23,-206.86 254.37,-192.59 210.27,-181.32\"/>\n",
       "<polygon fill=\"blue\" stroke=\"blue\" points=\"211.35,-177.99 200.8,-178.9 209.62,-184.77 211.35,-177.99\"/>\n",
       "</g>\n",
       "<!-- python&#45;migen&#45;&gt;python3&#45;migen -->\n",
       "<g id=\"edge84\" class=\"edge\">\n",
       "<title>python-migen-&gt;python3-migen</title>\n",
       "<path fill=\"none\" stroke=\"blue\" d=\"M2384.34,-76.97C2395,-75.05 2406.08,-73.28 2416.54,-72 2736.3,-32.96 3118.51,-22.68 3294.73,-19.97\"/>\n",
       "<polygon fill=\"blue\" stroke=\"blue\" points=\"3294.57,-23.47 3304.52,-19.82 3294.47,-16.47 3294.57,-23.47\"/>\n",
       "</g>\n",
       "<!-- python&#45;spyking&#45;circus&#45;&gt;python3&#45;spyking&#45;circus -->\n",
       "<g id=\"edge85\" class=\"edge\">\n",
       "<title>python-spyking-circus-&gt;python3-spyking-circus</title>\n",
       "<path fill=\"none\" stroke=\"blue\" d=\"M3175.45,-215.7C3178.94,-208.07 3183.12,-198.92 3187.02,-190.4\"/>\n",
       "<polygon fill=\"blue\" stroke=\"blue\" points=\"3190.12,-192.03 3191.09,-181.48 3183.75,-189.12 3190.12,-192.03\"/>\n",
       "</g>\n",
       "<!-- python&#45;cvdupdate&#45;&gt;python3&#45;cvdupdate -->\n",
       "<g id=\"edge86\" class=\"edge\">\n",
       "<title>python-cvdupdate-&gt;python3-cvdupdate</title>\n",
       "<path fill=\"none\" stroke=\"blue\" d=\"M2597.7,-76.82C2610.59,-74.95 2623.95,-73.24 2636.54,-72 3013.29,-35.03 3110.09,-64.92 3487.54,-36 3506.06,-34.58 3525.79,-32.68 3544.72,-30.66\"/>\n",
       "<polygon fill=\"blue\" stroke=\"blue\" points=\"3545,-34.15 3554.56,-29.6 3544.24,-27.2 3545,-34.15\"/>\n",
       "</g>\n",
       "<!-- python&#45;interrogate&#45;&gt;python3&#45;interrogate -->\n",
       "<g id=\"edge87\" class=\"edge\">\n",
       "<title>python-interrogate-&gt;python3-interrogate</title>\n",
       "<path fill=\"none\" stroke=\"blue\" d=\"M2922.54,-215.7C2922.54,-208.41 2922.54,-199.73 2922.54,-191.54\"/>\n",
       "<polygon fill=\"blue\" stroke=\"blue\" points=\"2926.04,-191.62 2922.54,-181.62 2919.04,-191.62 2926.04,-191.62\"/>\n",
       "</g>\n",
       "<!-- azure&#45;cli&#45;&gt;azure&#45;cli -->\n",
       "<g id=\"edge88\" class=\"edge\">\n",
       "<title>azure-cli-&gt;azure-cli</title>\n",
       "<path fill=\"none\" stroke=\"blue\" d=\"M4443.24,-247.17C4461.37,-248.8 4477.38,-244.41 4477.38,-234 4477.38,-225.87 4467.61,-221.41 4454.69,-220.63\"/>\n",
       "<polygon fill=\"blue\" stroke=\"blue\" points=\"4454.69,-217.13 4444.75,-220.8 4454.81,-224.12 4454.69,-217.13\"/>\n",
       "</g>\n",
       "<!-- python&#45;tox&#45;&gt;tox -->\n",
       "<g id=\"edge124\" class=\"edge\">\n",
       "<title>python-tox-&gt;tox</title>\n",
       "<path fill=\"none\" stroke=\"blue\" d=\"M2246.24,-215.7C2248.26,-208.24 2250.68,-199.32 2252.95,-190.97\"/>\n",
       "<polygon fill=\"blue\" stroke=\"blue\" points=\"2256.26,-192.13 2255.5,-181.57 2249.51,-190.3 2256.26,-192.13\"/>\n",
       "</g>\n",
       "<!-- python&#45;pyvirtualize&#45;&gt;python3&#45;pyvirtualize -->\n",
       "<g id=\"edge127\" class=\"edge\">\n",
       "<title>python-pyvirtualize-&gt;python3-pyvirtualize</title>\n",
       "<path fill=\"none\" stroke=\"blue\" d=\"M956.8,-215.7C956.49,-208.41 956.12,-199.73 955.77,-191.54\"/>\n",
       "<polygon fill=\"blue\" stroke=\"blue\" points=\"959.27,-191.46 955.34,-181.62 952.27,-191.76 959.27,-191.46\"/>\n",
       "</g>\n",
       "<!-- xcat&#45;&gt;xcat -->\n",
       "<g id=\"edge129\" class=\"edge\">\n",
       "<title>xcat-&gt;xcat</title>\n",
       "<path fill=\"none\" stroke=\"blue\" d=\"M5764.07,-246.71C5777.88,-249.42 5790.81,-245.18 5790.81,-234 5790.81,-226.05 5784.28,-221.61 5775.54,-220.68\"/>\n",
       "<polygon fill=\"blue\" stroke=\"blue\" points=\"5775.38,-217.19 5765.58,-221.21 5775.75,-224.18 5775.38,-217.19\"/>\n",
       "</g>\n",
       "<!-- python&#45;howdoi&#45;&gt;howdoi -->\n",
       "<g id=\"edge130\" class=\"edge\">\n",
       "<title>python-howdoi-&gt;howdoi</title>\n",
       "<path fill=\"none\" stroke=\"blue\" d=\"M1219.24,-216.41C1203.7,-206.61 1183.88,-194.12 1167.33,-183.68\"/>\n",
       "<polygon fill=\"blue\" stroke=\"blue\" points=\"1169.62,-180.98 1159.3,-178.61 1165.89,-186.91 1169.62,-180.98\"/>\n",
       "</g>\n",
       "<!-- tldr&#45;&gt;tldr -->\n",
       "<g id=\"edge131\" class=\"edge\">\n",
       "<title>tldr-&gt;tldr</title>\n",
       "<path fill=\"none\" stroke=\"blue\" d=\"M4546.1,-246.55C4559.46,-249.57 4572.18,-245.39 4572.18,-234 4572.18,-225.99 4565.89,-221.55 4557.51,-220.66\"/>\n",
       "<polygon fill=\"blue\" stroke=\"blue\" points=\"4557.34,-217.17 4547.61,-221.35 4557.83,-224.15 4557.34,-217.17\"/>\n",
       "</g>\n",
       "<!-- tox&#45;&gt;python&#45;platformio -->\n",
       "<g id=\"edge136\" class=\"edge\">\n",
       "<title>tox-&gt;python-platformio</title>\n",
       "<path fill=\"none\" stroke=\"green\" d=\"M2233.94,-157.96C2200.67,-154.25 2141.96,-147.96 2091.54,-144 1793.44,-120.56 1441.02,-103.42 1266.61,-95.65\"/>\n",
       "<polygon fill=\"green\" stroke=\"green\" points=\"1266.78,-92.15 1256.63,-95.2 1266.47,-99.14 1266.78,-92.15\"/>\n",
       "</g>\n",
       "<!-- tox&#45;&gt;jrnl -->\n",
       "<g id=\"edge137\" class=\"edge\">\n",
       "<title>tox-&gt;jrnl</title>\n",
       "<path fill=\"none\" stroke=\"green\" d=\"M2286.29,-156.22C2306.02,-152.64 2333.96,-147.72 2358.54,-144 2481.73,-125.35 2516.63,-141.8 2636.54,-108 2638.41,-107.47 2640.3,-106.87 2642.19,-106.22\"/>\n",
       "<polygon fill=\"green\" stroke=\"green\" points=\"2643.42,-109.49 2651.44,-102.56 2640.85,-102.98 2643.42,-109.49\"/>\n",
       "</g>\n",
       "<!-- tox&#45;&gt;python&#45;terminaltables -->\n",
       "<g id=\"edge135\" class=\"edge\">\n",
       "<title>tox-&gt;python-terminaltables</title>\n",
       "<path fill=\"none\" stroke=\"green\" d=\"M2234.52,-156.35C2178.6,-146.37 2044.82,-122.48 1955.44,-106.52\"/>\n",
       "<polygon fill=\"green\" stroke=\"green\" points=\"1956.18,-103.09 1945.72,-104.78 1954.95,-109.99 1956.18,-103.09\"/>\n",
       "</g>\n",
       "<!-- tox&#45;&gt;python&#45;aiosmtpd -->\n",
       "<g id=\"edge138\" class=\"edge\">\n",
       "<title>tox-&gt;python-aiosmtpd</title>\n",
       "<path fill=\"none\" stroke=\"green\" d=\"M2239.28,-150.52C2218.88,-140.46 2187.47,-124.98 2161.8,-112.33\"/>\n",
       "<polygon fill=\"green\" stroke=\"green\" points=\"2163.44,-109.23 2152.92,-107.95 2160.34,-115.51 2163.44,-109.23\"/>\n",
       "</g>\n",
       "<!-- tox&#45;&gt;thefuck -->\n",
       "<g id=\"edge139\" class=\"edge\">\n",
       "<title>tox-&gt;thefuck</title>\n",
       "<path fill=\"none\" stroke=\"green\" d=\"M2287.78,-159.42C2440.6,-150.57 3192.5,-107.04 3410.32,-94.43\"/>\n",
       "<polygon fill=\"green\" stroke=\"green\" points=\"3410.5,-97.92 3420.28,-93.85 3410.09,-90.94 3410.5,-97.92\"/>\n",
       "</g>\n",
       "<!-- tox&#45;&gt;python&#45;migen -->\n",
       "<g id=\"edge140\" class=\"edge\">\n",
       "<title>tox-&gt;python-migen</title>\n",
       "<path fill=\"none\" stroke=\"green\" d=\"M2274.42,-146.5C2282.81,-137.74 2293.73,-126.33 2303.48,-116.14\"/>\n",
       "<polygon fill=\"green\" stroke=\"green\" points=\"2305.89,-118.69 2310.27,-109.04 2300.83,-113.85 2305.89,-118.69\"/>\n",
       "</g>\n",
       "<!-- tox&#45;&gt;python&#45;cvdupdate -->\n",
       "<g id=\"edge141\" class=\"edge\">\n",
       "<title>tox-&gt;python-cvdupdate</title>\n",
       "<path fill=\"none\" stroke=\"green\" d=\"M2285.57,-154.41C2325.21,-143.98 2403.78,-123.31 2460.44,-108.4\"/>\n",
       "<polygon fill=\"green\" stroke=\"green\" points=\"2461.21,-111.81 2469.99,-105.88 2459.43,-105.04 2461.21,-111.81\"/>\n",
       "</g>\n",
       "<!-- python&#45;black&#45;&gt;black+colorama -->\n",
       "<g id=\"edge142\" class=\"edge\">\n",
       "<title>python-black-&gt;black+colorama</title>\n",
       "<path fill=\"none\" stroke=\"blue\" d=\"M2685.54,-215.7C2685.54,-208.41 2685.54,-199.73 2685.54,-191.54\"/>\n",
       "<polygon fill=\"blue\" stroke=\"blue\" points=\"2689.04,-191.62 2685.54,-181.62 2682.04,-191.62 2689.04,-191.62\"/>\n",
       "</g>\n",
       "<!-- python3 -->\n",
       "<g id=\"node53\" class=\"node\">\n",
       "<title>python3</title>\n",
       "<ellipse fill=\"none\" stroke=\"black\" cx=\"5619.54\" cy=\"-378\" rx=\"52.26\" ry=\"18\"/>\n",
       "<text text-anchor=\"middle\" x=\"5619.54\" y=\"-373.32\" font-family=\"Times,serif\" font-size=\"14.00\">python3</text>\n",
       "</g>\n",
       "<!-- python3&#45;&gt;borgmatic -->\n",
       "<g id=\"edge90\" class=\"edge\">\n",
       "<title>python3-&gt;borgmatic</title>\n",
       "<path fill=\"none\" stroke=\"red\" d=\"M5567.2,-377.14C5327.92,-377.5 4336.82,-375.78 4031.54,-324 3944.58,-309.25 3847.31,-274.79 3791.86,-253.34\"/>\n",
       "<polygon fill=\"red\" stroke=\"red\" points=\"3793.34,-250.16 3782.75,-249.78 3790.79,-256.68 3793.34,-250.16\"/>\n",
       "</g>\n",
       "<!-- python3&#45;&gt;python3&#45;shodan -->\n",
       "<g id=\"edge110\" class=\"edge\">\n",
       "<title>python3-&gt;python3-shodan</title>\n",
       "<path fill=\"none\" stroke=\"red\" d=\"M5567.12,-376.46C5087.01,-371.44 1469.56,-331.01 1393.54,-252 1378.4,-236.26 1380.88,-210.79 1386.15,-191.12\"/>\n",
       "<polygon fill=\"red\" stroke=\"red\" points=\"1389.43,-192.36 1389.02,-181.77 1382.74,-190.31 1389.43,-192.36\"/>\n",
       "</g>\n",
       "<!-- python3&#45;&gt;python3&#45;pepc -->\n",
       "<g id=\"edge94\" class=\"edge\">\n",
       "<title>python3-&gt;python3-pepc</title>\n",
       "<path fill=\"none\" stroke=\"red\" d=\"M5671.79,-376.34C5792.22,-374.14 6085.76,-364.64 6174.54,-324 6205.03,-310.04 6231.72,-281.88 6248.6,-260.95\"/>\n",
       "<polygon fill=\"red\" stroke=\"red\" points=\"6251.32,-263.16 6254.71,-253.12 6245.8,-258.85 6251.32,-263.16\"/>\n",
       "</g>\n",
       "<!-- python3&#45;&gt;python3&#45;wult -->\n",
       "<g id=\"edge100\" class=\"edge\">\n",
       "<title>python3-&gt;python3-wult</title>\n",
       "<path fill=\"none\" stroke=\"red\" d=\"M5672.23,-377.61C5843.29,-379.03 6375.08,-378.96 6426.54,-324 6481.23,-265.61 6477.52,-205.66 6426.54,-144 6425.71,-142.99 6301.42,-119.5 6219.63,-104.13\"/>\n",
       "<polygon fill=\"red\" stroke=\"red\" points=\"6220.35,-100.71 6209.88,-102.3 6219.06,-107.59 6220.35,-100.71\"/>\n",
       "</g>\n",
       "<!-- python3&#45;&gt;stats&#45;collect -->\n",
       "<g id=\"edge106\" class=\"edge\">\n",
       "<title>python3-&gt;stats-collect</title>\n",
       "<path fill=\"none\" stroke=\"red\" d=\"M5671.51,-375.54C5796.48,-371.5 6105.75,-358.12 6136.54,-324 6169.66,-287.31 6146.32,-225.6 6128.21,-190.19\"/>\n",
       "<polygon fill=\"red\" stroke=\"red\" points=\"6131.34,-188.61 6123.54,-181.43 6125.16,-191.9 6131.34,-188.61\"/>\n",
       "</g>\n",
       "<!-- python3&#45;&gt;wult -->\n",
       "<g id=\"edge114\" class=\"edge\">\n",
       "<title>python3-&gt;wult</title>\n",
       "<path fill=\"none\" stroke=\"red\" d=\"M5672.14,-377.36C5852.48,-378.1 6438.18,-376.44 6502.54,-324 6534.3,-298.12 6526.54,-275.97 6526.54,-235 6526.54,-235 6526.54,-235 6526.54,-161 6526.54,-90.28 6291.25,-42.67 6192.43,-25.8\"/>\n",
       "<polygon fill=\"red\" stroke=\"red\" points=\"6193.29,-22.39 6182.85,-24.19 6192.14,-29.3 6193.29,-22.39\"/>\n",
       "</g>\n",
       "<!-- python3&#45;&gt;pepc -->\n",
       "<g id=\"edge120\" class=\"edge\">\n",
       "<title>python3-&gt;pepc</title>\n",
       "<path fill=\"none\" stroke=\"red\" d=\"M5671.37,-374.87C5796.34,-369.32 6111.4,-352.84 6212.54,-324 6280.97,-304.49 6318.22,-312.58 6355.54,-252 6367.39,-232.78 6358.88,-207.71 6348.87,-189.08\"/>\n",
       "<polygon fill=\"red\" stroke=\"red\" points=\"6351.93,-187.38 6343.86,-180.51 6345.88,-190.91 6351.93,-187.38\"/>\n",
       "</g>\n",
       "<!-- python3&#45;&gt;python3&#45;crayons -->\n",
       "<g id=\"edge97\" class=\"edge\">\n",
       "<title>python3-&gt;python3-crayons</title>\n",
       "<path fill=\"none\" stroke=\"red\" d=\"M5654.36,-364.13C5721.49,-337.58 5857.31,-274.3 5799.54,-216 5761.4,-177.5 1951.65,-183.03 1897.54,-180 1872.86,-178.62 1846.17,-176.25 1821.61,-173.71\"/>\n",
       "<polygon fill=\"red\" stroke=\"red\" points=\"1822.3,-170.27 1811.99,-172.7 1821.56,-177.23 1822.3,-170.27\"/>\n",
       "</g>\n",
       "<!-- python3&#45;&gt;python3&#45;tmuxp -->\n",
       "<g id=\"edge101\" class=\"edge\">\n",
       "<title>python3-&gt;python3-tmuxp</title>\n",
       "<path fill=\"none\" stroke=\"red\" d=\"M5669,-371.68C5725.47,-364.47 5812.62,-349.48 5832.54,-324 5862.1,-286.18 5866.31,-250.11 5832.54,-216 5797.28,-180.39 2274.61,-182.1 2224.54,-180 2178.46,-178.07 2127.28,-174.43 2084.92,-171.02\"/>\n",
       "<polygon fill=\"red\" stroke=\"red\" points=\"2085.27,-167.54 2075.02,-170.21 2084.7,-174.51 2085.27,-167.54\"/>\n",
       "</g>\n",
       "<!-- python3&#45;&gt;python3&#45;platformio -->\n",
       "<g id=\"edge95\" class=\"edge\">\n",
       "<title>python3-&gt;python3-platformio</title>\n",
       "<path fill=\"none\" stroke=\"red\" d=\"M5671.09,-374.14C5776.54,-367.75 6008.99,-350.76 6032.54,-324 6064.25,-287.96 6065.49,-250.91 6032.54,-216 6008.79,-190.84 3580.11,-73.38 3545.54,-72 2674.71,-37.14 1624.27,-23.8 1276.03,-20.14\"/>\n",
       "<polygon fill=\"red\" stroke=\"red\" points=\"1276.24,-16.64 1266.2,-20.03 1276.17,-23.64 1276.24,-16.64\"/>\n",
       "</g>\n",
       "<!-- python3&#45;&gt;jrnl -->\n",
       "<g id=\"edge102\" class=\"edge\">\n",
       "<title>python3-&gt;jrnl</title>\n",
       "<path fill=\"none\" stroke=\"red\" d=\"M5672.26,-377.96C5768.21,-378.46 5965.51,-373.29 6008.54,-324 6040.11,-287.84 6042.23,-250.19 6008.54,-216 5960.61,-167.36 3618.47,-186.95 3550.54,-180 3465.91,-171.34 3446.86,-155.28 3362.54,-144 3117.58,-111.22 2820.64,-96.85 2714.57,-92.51\"/>\n",
       "<polygon fill=\"red\" stroke=\"red\" points=\"2714.82,-89.02 2704.68,-92.11 2714.53,-96.01 2714.82,-89.02\"/>\n",
       "</g>\n",
       "<!-- python3&#45;&gt;python3&#45;colorama -->\n",
       "<g id=\"edge103\" class=\"edge\">\n",
       "<title>python3-&gt;python3-colorama</title>\n",
       "<path fill=\"none\" stroke=\"red\" d=\"M5567.31,-375.66C5351.03,-370.07 4504.46,-347.78 3808.54,-324 3697.47,-320.2 3570.46,-315.16 3482.48,-311.55\"/>\n",
       "<polygon fill=\"red\" stroke=\"red\" points=\"3482.79,-308.06 3472.66,-311.15 3482.5,-315.06 3482.79,-308.06\"/>\n",
       "</g>\n",
       "<!-- python3&#45;&gt;black+colorama -->\n",
       "<g id=\"edge89\" class=\"edge\">\n",
       "<title>python3-&gt;black+colorama</title>\n",
       "<path fill=\"none\" stroke=\"red\" d=\"M5671.5,-375.17C5746.39,-371.31 5878.95,-359.51 5908.54,-324 5939.27,-287.12 5942.29,-250.14 5908.54,-216 5878.2,-185.31 2844.56,-183.39 2801.54,-180 2789.58,-179.06 2776.98,-177.65 2764.66,-176.04\"/>\n",
       "<polygon fill=\"red\" stroke=\"red\" points=\"2765.34,-172.6 2754.96,-174.71 2764.39,-179.53 2765.34,-172.6\"/>\n",
       "</g>\n",
       "<!-- python3&#45;&gt;python3&#45;interrogate -->\n",
       "<g id=\"edge91\" class=\"edge\">\n",
       "<title>python3-&gt;python3-interrogate</title>\n",
       "<path fill=\"none\" stroke=\"red\" d=\"M5672.08,-376.41C5755.39,-374.23 5911.93,-364.68 5946.54,-324 5977.65,-287.44 5980.27,-250.15 5946.54,-216 5918.4,-187.51 3103.5,-182.65 3063.54,-180 3048.4,-179 3032.38,-177.49 3016.79,-175.79\"/>\n",
       "<polygon fill=\"red\" stroke=\"red\" points=\"3017.37,-172.33 3007.04,-174.68 3016.58,-179.28 3017.37,-172.33\"/>\n",
       "</g>\n",
       "<!-- python3&#45;&gt;python3&#45;migen -->\n",
       "<g id=\"edge92\" class=\"edge\">\n",
       "<title>python3-&gt;python3-migen</title>\n",
       "<path fill=\"none\" stroke=\"red\" d=\"M5671.6,-375.09C5789.81,-370.2 6070.43,-355.4 6098.54,-324 6130.56,-288.24 6131.28,-251.1 6098.54,-216 6000.74,-111.12 3666.24,-50.23 3523.54,-36 3507.41,-34.39 3490.2,-32.37 3473.74,-30.3\"/>\n",
       "<polygon fill=\"red\" stroke=\"red\" points=\"3474.34,-26.85 3463.98,-29.05 3473.45,-33.79 3474.34,-26.85\"/>\n",
       "</g>\n",
       "<!-- python3&#45;&gt;python3&#45;shamir&#45;mnemonic -->\n",
       "<g id=\"edge93\" class=\"edge\">\n",
       "<title>python3-&gt;python3-shamir-mnemonic</title>\n",
       "<path fill=\"none\" stroke=\"red\" d=\"M5571.01,-370.97C5497.76,-361.73 5354.65,-343.11 5233.54,-324 5089.16,-301.22 4922.07,-270.54 4822.52,-251.79\"/>\n",
       "<polygon fill=\"red\" stroke=\"red\" points=\"4823.28,-248.37 4812.8,-249.96 4821.98,-255.25 4823.28,-248.37\"/>\n",
       "</g>\n",
       "<!-- python3&#45;&gt;python3&#45;spyking&#45;circus -->\n",
       "<g id=\"edge96\" class=\"edge\">\n",
       "<title>python3-&gt;python3-spyking-circus</title>\n",
       "<path fill=\"none\" stroke=\"red\" d=\"M5672.24,-377.42C5763.44,-376.9 5944.79,-369.94 5984.54,-324 6015.95,-287.7 6018.24,-250.18 5984.54,-216 5959.5,-190.6 3452.17,-181.64 3416.54,-180 3383.79,-178.49 3348.31,-176.05 3315.71,-173.48\"/>\n",
       "<polygon fill=\"red\" stroke=\"red\" points=\"3316.07,-170 3305.82,-172.69 3315.51,-176.98 3316.07,-170\"/>\n",
       "</g>\n",
       "<!-- python3&#45;&gt;python3&#45;cvdupdate -->\n",
       "<g id=\"edge98\" class=\"edge\">\n",
       "<title>python3-&gt;python3-cvdupdate</title>\n",
       "<path fill=\"none\" stroke=\"red\" d=\"M5672.1,-377.07C5845.42,-376.85 6391.44,-372.3 6452.54,-324 6515.3,-274.39 6507.72,-200.96 6451.54,-144 6416.16,-108.12 6286.19,-80.61 6236.54,-72 5991.2,-29.44 4235.47,-20.86 3759.37,-19.31\"/>\n",
       "<polygon fill=\"red\" stroke=\"red\" points=\"3759.55,-15.82 3749.54,-19.28 3759.53,-22.82 3759.55,-15.82\"/>\n",
       "</g>\n",
       "<!-- python3&#45;&gt;python3&#45;sphinx&#45;autobuild -->\n",
       "<g id=\"edge99\" class=\"edge\">\n",
       "<title>python3-&gt;python3-sphinx-autobuild</title>\n",
       "<path fill=\"none\" stroke=\"red\" d=\"M5567.27,-376.57C5013.7,-372.04 249.81,-332.77 234.54,-324 184.55,-295.28 157.77,-229.2 146.02,-191.22\"/>\n",
       "<polygon fill=\"red\" stroke=\"red\" points=\"149.45,-190.48 143.28,-181.87 142.73,-192.45 149.45,-190.48\"/>\n",
       "</g>\n",
       "<!-- python3&#45;&gt;awscli2 -->\n",
       "<g id=\"edge104\" class=\"edge\">\n",
       "<title>python3-&gt;awscli2</title>\n",
       "<path fill=\"none\" stroke=\"red\" d=\"M5566.96,-377.08C5339.53,-377.14 4439.48,-374.14 4161.54,-324 4078.66,-309.05 3986.34,-274.09 3934.56,-252.7\"/>\n",
       "<polygon fill=\"red\" stroke=\"red\" points=\"3936.12,-249.56 3925.55,-248.94 3933.43,-256.02 3936.12,-249.56\"/>\n",
       "</g>\n",
       "<!-- python3&#45;&gt;git&#45;up -->\n",
       "<g id=\"edge105\" class=\"edge\">\n",
       "<title>python3-&gt;git-up</title>\n",
       "<path fill=\"none\" stroke=\"red\" d=\"M5567.23,-376.78C5353.64,-375.61 4547.1,-368.28 4296.54,-324 4208.95,-308.52 4110.79,-272.43 4057.73,-251.27\"/>\n",
       "<polygon fill=\"red\" stroke=\"red\" points=\"4059.1,-248.05 4048.51,-247.56 4056.48,-254.54 4059.1,-248.05\"/>\n",
       "</g>\n",
       "<!-- python3&#45;&gt;thefuck -->\n",
       "<g id=\"edge107\" class=\"edge\">\n",
       "<title>python3-&gt;thefuck</title>\n",
       "<path fill=\"none\" stroke=\"red\" d=\"M5672.22,-377.54C5878.62,-378.1 6610.47,-364.9 6393.54,-144 6341.53,-91.03 3942.83,-90.61 3529.79,-90.93\"/>\n",
       "<polygon fill=\"red\" stroke=\"red\" points=\"3529.94,-87.43 3519.94,-90.94 3529.95,-94.43 3529.94,-87.43\"/>\n",
       "</g>\n",
       "<!-- python3&#45;&gt;RBTools -->\n",
       "<g id=\"edge108\" class=\"edge\">\n",
       "<title>python3-&gt;RBTools</title>\n",
       "<path fill=\"none\" stroke=\"red\" d=\"M5567.27,-376.39C5368.69,-373.79 4661.11,-362.01 4439.54,-324 4348.91,-308.45 4246.99,-273.28 4190.41,-252.11\"/>\n",
       "<polygon fill=\"red\" stroke=\"red\" points=\"4191.73,-248.86 4181.14,-248.6 4189.25,-255.41 4191.73,-248.86\"/>\n",
       "</g>\n",
       "<!-- python3&#45;&gt;conan -->\n",
       "<g id=\"edge109\" class=\"edge\">\n",
       "<title>python3-&gt;conan</title>\n",
       "<path fill=\"none\" stroke=\"red\" d=\"M5567.2,-375.8C5385.92,-371.43 4785.64,-354.89 4595.54,-324 4493.17,-307.37 4376.7,-270.36 4316.12,-249.69\"/>\n",
       "<polygon fill=\"red\" stroke=\"red\" points=\"4317.5,-246.46 4306.91,-246.52 4315.22,-253.08 4317.5,-246.46\"/>\n",
       "</g>\n",
       "<!-- python3&#45;&gt;python3&#45;socialscan -->\n",
       "<g id=\"edge111\" class=\"edge\">\n",
       "<title>python3-&gt;python3-socialscan</title>\n",
       "<path fill=\"none\" stroke=\"red\" d=\"M5576.82,-367.41C5529.9,-356.85 5452.32,-339.34 5385.54,-324 5277.22,-299.11 5151.74,-269.78 5075.01,-251.79\"/>\n",
       "<polygon fill=\"red\" stroke=\"red\" points=\"5076.06,-248.44 5065.53,-249.56 5074.46,-255.26 5076.06,-248.44\"/>\n",
       "</g>\n",
       "<!-- python3&#45;&gt;python3&#45;pytest&#45;watch -->\n",
       "<g id=\"edge112\" class=\"edge\">\n",
       "<title>python3-&gt;python3-pytest-watch</title>\n",
       "<path fill=\"none\" stroke=\"red\" d=\"M5585.63,-364.02C5520.8,-339.21 5378.83,-284.87 5301.42,-255.24\"/>\n",
       "<polygon fill=\"red\" stroke=\"red\" points=\"5302.95,-252.08 5292.36,-251.77 5300.45,-258.61 5302.95,-252.08\"/>\n",
       "</g>\n",
       "<!-- python3&#45;&gt;azure&#45;cli -->\n",
       "<g id=\"edge113\" class=\"edge\">\n",
       "<title>python3-&gt;azure-cli</title>\n",
       "<path fill=\"none\" stroke=\"red\" d=\"M5567.16,-376.91C5433.78,-375.98 5070.82,-369.14 4772.54,-324 4657.32,-306.56 4525.18,-270.44 4455.16,-249.98\"/>\n",
       "<polygon fill=\"red\" stroke=\"red\" points=\"4456.5,-246.72 4445.92,-247.26 4454.53,-253.44 4456.5,-246.72\"/>\n",
       "</g>\n",
       "<!-- python3&#45;&gt;python3&#45;gilt -->\n",
       "<g id=\"edge115\" class=\"edge\">\n",
       "<title>python3-&gt;python3-gilt</title>\n",
       "<path fill=\"none\" stroke=\"red\" d=\"M5601.07,-360.71C5572.79,-335.77 5518.59,-287.96 5485.79,-259.03\"/>\n",
       "<polygon fill=\"red\" stroke=\"red\" points=\"5488.49,-256.75 5478.68,-252.76 5483.86,-262 5488.49,-256.75\"/>\n",
       "</g>\n",
       "<!-- python3&#45;&gt;cephfs&#45;shell -->\n",
       "<g id=\"edge116\" class=\"edge\">\n",
       "<title>python3-&gt;cephfs-shell</title>\n",
       "<path fill=\"none\" stroke=\"red\" d=\"M5619.54,-359.59C5619.54,-335.61 5619.54,-292.14 5619.54,-263.42\"/>\n",
       "<polygon fill=\"red\" stroke=\"red\" points=\"5623.04,-263.62 5619.54,-253.62 5616.04,-263.62 5623.04,-263.62\"/>\n",
       "</g>\n",
       "<!-- python3&#45;&gt;xcat -->\n",
       "<g id=\"edge117\" class=\"edge\">\n",
       "<title>python3-&gt;xcat</title>\n",
       "<path fill=\"none\" stroke=\"red\" d=\"M5633.66,-360.43C5654.92,-335.48 5695.29,-288.11 5719.87,-259.26\"/>\n",
       "<polygon fill=\"red\" stroke=\"red\" points=\"5722.45,-261.63 5726.27,-251.75 5717.12,-257.09 5722.45,-261.63\"/>\n",
       "</g>\n",
       "<!-- python3&#45;&gt;python3&#45;gabbi -->\n",
       "<g id=\"edge118\" class=\"edge\">\n",
       "<title>python3-&gt;python3-gabbi</title>\n",
       "<path fill=\"none\" stroke=\"red\" d=\"M5567.3,-376.57C5016.56,-371.97 296.85,-332.39 281.54,-324 235.63,-298.85 199.59,-254.97 234.54,-216 260.32,-187.26 494.55,-172.63 628.55,-166.55\"/>\n",
       "<polygon fill=\"red\" stroke=\"red\" points=\"628.65,-170.05 638.49,-166.1 628.34,-163.05 628.65,-170.05\"/>\n",
       "</g>\n",
       "<!-- python3&#45;&gt;tldr -->\n",
       "<g id=\"edge119\" class=\"edge\">\n",
       "<title>python3-&gt;tldr</title>\n",
       "<path fill=\"none\" stroke=\"red\" d=\"M5567.78,-374.73C5414.91,-367.2 4952.87,-338.36 4580.54,-252 4574.14,-250.51 4567.39,-248.69 4560.89,-246.8\"/>\n",
       "<polygon fill=\"red\" stroke=\"red\" points=\"4562.31,-243.58 4551.73,-244.04 4560.29,-250.28 4562.31,-243.58\"/>\n",
       "</g>\n",
       "<!-- python3&#45;&gt;tox -->\n",
       "<g id=\"edge121\" class=\"edge\">\n",
       "<title>python3-&gt;tox</title>\n",
       "<path fill=\"none\" stroke=\"red\" d=\"M5670.53,-373.63C5736.48,-368.08 5845.86,-354.44 5870.54,-324 5900.77,-286.72 5904.3,-250.13 5870.54,-216 5838.45,-183.55 2630.16,-181.45 2584.54,-180 2481.09,-176.72 2359.23,-169.39 2298.68,-165.51\"/>\n",
       "<polygon fill=\"red\" stroke=\"red\" points=\"2299.12,-162.04 2288.92,-164.88 2298.67,-169.02 2299.12,-162.04\"/>\n",
       "</g>\n",
       "<!-- python3&#45;&gt;python3&#45;pyvirtualize -->\n",
       "<g id=\"edge122\" class=\"edge\">\n",
       "<title>python3-&gt;python3-pyvirtualize</title>\n",
       "<path fill=\"none\" stroke=\"red\" d=\"M5566.95,-376.58C5019.99,-372.21 390.16,-334.88 357.54,-324 306.27,-306.9 283.95,-300.22 259.54,-252 187.96,-110.59 86.98,-247.35 813.54,-180 827.63,-178.69 842.48,-177.12 857.05,-175.46\"/>\n",
       "<polygon fill=\"red\" stroke=\"red\" points=\"857.09,-178.98 866.62,-174.36 856.28,-172.03 857.09,-178.98\"/>\n",
       "</g>\n",
       "<!-- python3&#45;&gt;howdoi -->\n",
       "<g id=\"edge123\" class=\"edge\">\n",
       "<title>python3-&gt;howdoi</title>\n",
       "<path fill=\"none\" stroke=\"red\" d=\"M5567.15,-376.56C5160.38,-373.09 2501.31,-349.71 1697.54,-324 1538.98,-318.93 380.86,-366.97 271.54,-252 260.52,-240.4 260.48,-227.56 271.54,-216 302.56,-183.57 1034.31,-187.58 1078.54,-180 1082.15,-179.38 1085.85,-178.6 1089.54,-177.72\"/>\n",
       "<polygon fill=\"red\" stroke=\"red\" points=\"1090.28,-181.14 1099.05,-175.2 1088.49,-174.38 1090.28,-181.14\"/>\n",
       "</g>\n",
       "<!-- python&#45;colorama -->\n",
       "<g id=\"node54\" class=\"node\">\n",
       "<title>python-colorama</title>\n",
       "<ellipse fill=\"none\" stroke=\"black\" cx=\"3373.54\" cy=\"-378\" rx=\"94.88\" ry=\"18\"/>\n",
       "<text text-anchor=\"middle\" x=\"3373.54\" y=\"-373.32\" font-family=\"Times,serif\" font-size=\"14.00\">python-colorama</text>\n",
       "</g>\n",
       "<!-- python&#45;colorama&#45;&gt;python3&#45;colorama -->\n",
       "<g id=\"edge128\" class=\"edge\">\n",
       "<title>python-colorama-&gt;python3-colorama</title>\n",
       "<path fill=\"none\" stroke=\"blue\" d=\"M3373.54,-359.7C3373.54,-352.41 3373.54,-343.73 3373.54,-335.54\"/>\n",
       "<polygon fill=\"blue\" stroke=\"blue\" points=\"3377.04,-335.62 3373.54,-325.62 3370.04,-335.62 3377.04,-335.62\"/>\n",
       "</g>\n",
       "</g>\n",
       "</svg>"
      ],
      "text/plain": [
       "<IPython.core.display.SVG object>"
      ]
     },
     "metadata": {},
     "output_type": "display_data"
    }
   ],
   "source": [
    "draw_graphviz(sub)"
   ]
  },
  {
   "cell_type": "code",
   "execution_count": 18,
   "id": "482db0cd-3f10-4442-808f-38398dba6a65",
   "metadata": {},
   "outputs": [],
   "source": [
    "sub = nx.ego_graph(dnf.G, \"python3-colorama\", 1, undirected=False)"
   ]
  },
  {
   "cell_type": "code",
   "execution_count": 19,
   "id": "72e3c1cc-fc0c-48d9-8dc4-6aa8dc07a491",
   "metadata": {},
   "outputs": [
    {
     "data": {
      "image/svg+xml": [
       "<svg xmlns=\"http://www.w3.org/2000/svg\" xmlns:xlink=\"http://www.w3.org/1999/xlink\" width=\"5695pt\" height=\"332pt\" viewBox=\"0.00 0.00 5695.26 332.00\">\n",
       "<g id=\"graph0\" class=\"graph\" transform=\"scale(1 1) rotate(0) translate(4 328)\">\n",
       "<polygon fill=\"white\" stroke=\"none\" points=\"-4,4 -4,-328 5691.26,-328 5691.26,4 -4,4\"/>\n",
       "<!-- borgmatic -->\n",
       "<g id=\"node1\" class=\"node\">\n",
       "<title>borgmatic</title>\n",
       "<ellipse fill=\"none\" stroke=\"black\" cx=\"62.26\" cy=\"-234\" rx=\"62.26\" ry=\"18\"/>\n",
       "<text text-anchor=\"middle\" x=\"62.26\" y=\"-229.32\" font-family=\"Times,serif\" font-size=\"14.00\">borgmatic</text>\n",
       "</g>\n",
       "<!-- borgmatic&#45;&gt;borgmatic -->\n",
       "<g id=\"edge1\" class=\"edge\">\n",
       "<title>borgmatic-&gt;borgmatic</title>\n",
       "<path fill=\"none\" stroke=\"blue\" d=\"M105.6,-247.26C125.35,-248.62 142.51,-244.2 142.51,-234 142.51,-225.8 131.4,-221.33 116.77,-220.61\"/>\n",
       "<polygon fill=\"blue\" stroke=\"blue\" points=\"117.07,-217.1 107.11,-220.72 117.16,-224.1 117.07,-217.1\"/>\n",
       "</g>\n",
       "<!-- python&#45;shodan -->\n",
       "<g id=\"node2\" class=\"node\">\n",
       "<title>python-shodan</title>\n",
       "<ellipse fill=\"none\" stroke=\"black\" cx=\"245.26\" cy=\"-234\" rx=\"84.88\" ry=\"18\"/>\n",
       "<text text-anchor=\"middle\" x=\"245.26\" y=\"-229.32\" font-family=\"Times,serif\" font-size=\"14.00\">python-shodan</text>\n",
       "</g>\n",
       "<!-- python3&#45;shodan -->\n",
       "<g id=\"node3\" class=\"node\">\n",
       "<title>python3-shodan</title>\n",
       "<ellipse fill=\"none\" stroke=\"black\" cx=\"245.26\" cy=\"-162\" rx=\"91.19\" ry=\"18\"/>\n",
       "<text text-anchor=\"middle\" x=\"245.26\" y=\"-157.32\" font-family=\"Times,serif\" font-size=\"14.00\">python3-shodan</text>\n",
       "</g>\n",
       "<!-- python&#45;shodan&#45;&gt;python3&#45;shodan -->\n",
       "<g id=\"edge2\" class=\"edge\">\n",
       "<title>python-shodan-&gt;python3-shodan</title>\n",
       "<path fill=\"none\" stroke=\"blue\" d=\"M245.26,-215.7C245.26,-208.41 245.26,-199.73 245.26,-191.54\"/>\n",
       "<polygon fill=\"blue\" stroke=\"blue\" points=\"248.76,-191.62 245.26,-181.62 241.76,-191.62 248.76,-191.62\"/>\n",
       "</g>\n",
       "<!-- python3&#45;pepc -->\n",
       "<g id=\"node4\" class=\"node\">\n",
       "<title>python3-pepc</title>\n",
       "<ellipse fill=\"none\" stroke=\"black\" cx=\"580.26\" cy=\"-234\" rx=\"79.09\" ry=\"18\"/>\n",
       "<text text-anchor=\"middle\" x=\"580.26\" y=\"-229.32\" font-family=\"Times,serif\" font-size=\"14.00\">python3-pepc</text>\n",
       "</g>\n",
       "<!-- python3&#45;wult -->\n",
       "<g id=\"node5\" class=\"node\">\n",
       "<title>python3-wult</title>\n",
       "<ellipse fill=\"none\" stroke=\"black\" cx=\"476.26\" cy=\"-90\" rx=\"77.51\" ry=\"18\"/>\n",
       "<text text-anchor=\"middle\" x=\"476.26\" y=\"-85.33\" font-family=\"Times,serif\" font-size=\"14.00\">python3-wult</text>\n",
       "</g>\n",
       "<!-- python3&#45;pepc&#45;&gt;python3&#45;wult -->\n",
       "<g id=\"edge3\" class=\"edge\">\n",
       "<title>python3-pepc-&gt;python3-wult</title>\n",
       "<path fill=\"none\" stroke=\"red\" d=\"M580.95,-215.69C580.87,-196.51 578.13,-165.46 563.26,-144 553.68,-130.18 539.22,-119.32 524.82,-111.12\"/>\n",
       "<polygon fill=\"red\" stroke=\"red\" points=\"526.73,-108.17 516.26,-106.58 523.45,-114.36 526.73,-108.17\"/>\n",
       "</g>\n",
       "<!-- stats&#45;collect -->\n",
       "<g id=\"node6\" class=\"node\">\n",
       "<title>stats-collect</title>\n",
       "<ellipse fill=\"none\" stroke=\"black\" cx=\"464.26\" cy=\"-162\" rx=\"71.73\" ry=\"18\"/>\n",
       "<text text-anchor=\"middle\" x=\"464.26\" y=\"-157.32\" font-family=\"Times,serif\" font-size=\"14.00\">stats-collect</text>\n",
       "</g>\n",
       "<!-- python3&#45;pepc&#45;&gt;stats&#45;collect -->\n",
       "<g id=\"edge4\" class=\"edge\">\n",
       "<title>python3-pepc-&gt;stats-collect</title>\n",
       "<path fill=\"none\" stroke=\"red\" d=\"M548.17,-217.12C531.71,-207.83 511.83,-195.95 495.5,-185.69\"/>\n",
       "<polygon fill=\"red\" stroke=\"red\" points=\"497.44,-182.78 487.13,-180.36 493.68,-188.69 497.44,-182.78\"/>\n",
       "</g>\n",
       "<!-- python3&#45;pepc&#45;&gt;stats&#45;collect -->\n",
       "<g id=\"edge5\" class=\"edge\">\n",
       "<title>python3-pepc-&gt;stats-collect</title>\n",
       "<path fill=\"none\" stroke=\"green\" d=\"M558.33,-216.23C543.31,-206.54 523.09,-194.26 505.19,-183.94\"/>\n",
       "<polygon fill=\"green\" stroke=\"green\" points=\"507.28,-181.1 496.85,-179.18 503.81,-187.18 507.28,-181.1\"/>\n",
       "</g>\n",
       "<!-- wult -->\n",
       "<g id=\"node7\" class=\"node\">\n",
       "<title>wult</title>\n",
       "<ellipse fill=\"none\" stroke=\"black\" cx=\"601.26\" cy=\"-18\" rx=\"33.32\" ry=\"18\"/>\n",
       "<text text-anchor=\"middle\" x=\"601.26\" y=\"-13.32\" font-family=\"Times,serif\" font-size=\"14.00\">wult</text>\n",
       "</g>\n",
       "<!-- python3&#45;pepc&#45;&gt;wult -->\n",
       "<g id=\"edge6\" class=\"edge\">\n",
       "<title>python3-pepc-&gt;wult</title>\n",
       "<path fill=\"none\" stroke=\"green\" d=\"M581.94,-215.85C585.54,-179.14 594.03,-92.66 598.46,-47.53\"/>\n",
       "<polygon fill=\"green\" stroke=\"green\" points=\"601.92,-48.03 599.42,-37.74 594.96,-47.35 601.92,-48.03\"/>\n",
       "</g>\n",
       "<!-- pepc -->\n",
       "<g id=\"node8\" class=\"node\">\n",
       "<title>pepc</title>\n",
       "<ellipse fill=\"none\" stroke=\"black\" cx=\"683.26\" cy=\"-162\" rx=\"34.9\" ry=\"18\"/>\n",
       "<text text-anchor=\"middle\" x=\"683.26\" y=\"-157.32\" font-family=\"Times,serif\" font-size=\"14.00\">pepc</text>\n",
       "</g>\n",
       "<!-- python3&#45;pepc&#45;&gt;pepc -->\n",
       "<g id=\"edge7\" class=\"edge\">\n",
       "<title>python3-pepc-&gt;pepc</title>\n",
       "<path fill=\"none\" stroke=\"red\" d=\"M599.31,-216.05C613.54,-205.64 633.13,-192.28 649.88,-181.58\"/>\n",
       "<polygon fill=\"red\" stroke=\"red\" points=\"651.47,-184.71 658.07,-176.43 647.74,-178.79 651.47,-184.71\"/>\n",
       "</g>\n",
       "<!-- python3&#45;wult&#45;&gt;wult -->\n",
       "<g id=\"edge10\" class=\"edge\">\n",
       "<title>python3-wult-&gt;wult</title>\n",
       "<path fill=\"none\" stroke=\"red\" d=\"M500.04,-72.41C518.71,-61.27 544.81,-46.66 565.9,-35.54\"/>\n",
       "<polygon fill=\"red\" stroke=\"red\" points=\"567.5,-38.65 574.75,-30.93 564.26,-32.44 567.5,-38.65\"/>\n",
       "</g>\n",
       "<!-- stats&#45;collect&#45;&gt;python3&#45;wult -->\n",
       "<g id=\"edge76\" class=\"edge\">\n",
       "<title>stats-collect-&gt;python3-wult</title>\n",
       "<path fill=\"none\" stroke=\"red\" d=\"M467.22,-143.7C468.49,-136.32 470,-127.52 471.41,-119.25\"/>\n",
       "<polygon fill=\"red\" stroke=\"red\" points=\"474.83,-120.04 473.07,-109.6 467.93,-118.86 474.83,-120.04\"/>\n",
       "</g>\n",
       "<!-- stats&#45;collect&#45;&gt;stats&#45;collect -->\n",
       "<g id=\"edge77\" class=\"edge\">\n",
       "<title>stats-collect-&gt;stats-collect</title>\n",
       "<path fill=\"none\" stroke=\"blue\" d=\"M514.08,-175.34C535.58,-176.43 553.98,-171.98 553.98,-162 553.98,-153.81 541.6,-149.35 525.28,-148.61\"/>\n",
       "<polygon fill=\"blue\" stroke=\"blue\" points=\"525.58,-145.11 515.6,-148.65 525.61,-152.11 525.58,-145.11\"/>\n",
       "</g>\n",
       "<!-- stats&#45;collect&#45;&gt;wult -->\n",
       "<g id=\"edge78\" class=\"edge\">\n",
       "<title>stats-collect-&gt;wult</title>\n",
       "<path fill=\"none\" stroke=\"green\" d=\"M504.52,-146.84C524.34,-138.19 547.33,-125.4 563.26,-108 578.95,-90.86 588.78,-66.27 594.5,-47.27\"/>\n",
       "<polygon fill=\"green\" stroke=\"green\" points=\"597.84,-48.32 597.14,-37.75 591.09,-46.45 597.84,-48.32\"/>\n",
       "</g>\n",
       "<!-- wult&#45;&gt;python3&#45;wult -->\n",
       "<g id=\"edge90\" class=\"edge\">\n",
       "<title>wult-&gt;python3-wult</title>\n",
       "<path fill=\"none\" stroke=\"blue\" d=\"M581.67,-33.07C565.07,-43.11 540.86,-56.8 519.77,-68.12\"/>\n",
       "<polygon fill=\"blue\" stroke=\"blue\" points=\"518.24,-64.97 511.05,-72.75 521.53,-71.15 518.24,-64.97\"/>\n",
       "</g>\n",
       "<!-- wult&#45;&gt;wult -->\n",
       "<g id=\"edge91\" class=\"edge\">\n",
       "<title>wult-&gt;wult</title>\n",
       "<path fill=\"none\" stroke=\"blue\" d=\"M625.54,-30.76C639.54,-33.36 652.58,-29.11 652.58,-18 652.58,-10.02 645.84,-5.57 636.86,-4.67\"/>\n",
       "<polygon fill=\"blue\" stroke=\"blue\" points=\"636.87,-1.17 627.06,-5.17 637.22,-8.16 636.87,-1.17\"/>\n",
       "</g>\n",
       "<!-- pepc&#45;&gt;python3&#45;pepc -->\n",
       "<g id=\"edge96\" class=\"edge\">\n",
       "<title>pepc-&gt;python3-pepc</title>\n",
       "<path fill=\"none\" stroke=\"blue\" d=\"M666.48,-178.26C653.57,-187.83 635.42,-200.3 619.05,-210.93\"/>\n",
       "<polygon fill=\"blue\" stroke=\"blue\" points=\"617.48,-207.78 610.94,-216.12 621.25,-213.68 617.48,-207.78\"/>\n",
       "</g>\n",
       "<!-- pepc&#45;&gt;wult -->\n",
       "<g id=\"edge97\" class=\"edge\">\n",
       "<title>pepc-&gt;wult</title>\n",
       "<path fill=\"none\" stroke=\"red\" d=\"M674.31,-144.12C664.68,-126.1 648.79,-96.8 634.26,-72 628.98,-62.99 623,-53.26 617.6,-44.63\"/>\n",
       "<polygon fill=\"red\" stroke=\"red\" points=\"620.69,-42.97 612.4,-36.38 614.77,-46.71 620.69,-42.97\"/>\n",
       "</g>\n",
       "<!-- pepc&#45;&gt;pepc -->\n",
       "<g id=\"edge98\" class=\"edge\">\n",
       "<title>pepc-&gt;pepc</title>\n",
       "<path fill=\"none\" stroke=\"blue\" d=\"M708.56,-174.81C722.89,-177.31 736.15,-173.04 736.15,-162 736.15,-153.98 729.15,-149.53 719.83,-148.66\"/>\n",
       "<polygon fill=\"blue\" stroke=\"blue\" points=\"719.9,-145.15 710.08,-149.12 720.23,-152.14 719.9,-145.15\"/>\n",
       "</g>\n",
       "<!-- python&#45;crayons -->\n",
       "<g id=\"node9\" class=\"node\">\n",
       "<title>python-crayons</title>\n",
       "<ellipse fill=\"none\" stroke=\"black\" cx=\"841.26\" cy=\"-234\" rx=\"88.04\" ry=\"18\"/>\n",
       "<text text-anchor=\"middle\" x=\"841.26\" y=\"-229.32\" font-family=\"Times,serif\" font-size=\"14.00\">python-crayons</text>\n",
       "</g>\n",
       "<!-- python3&#45;crayons -->\n",
       "<g id=\"node10\" class=\"node\">\n",
       "<title>python3-crayons</title>\n",
       "<ellipse fill=\"none\" stroke=\"black\" cx=\"888.26\" cy=\"-162\" rx=\"94.35\" ry=\"18\"/>\n",
       "<text text-anchor=\"middle\" x=\"888.26\" y=\"-157.32\" font-family=\"Times,serif\" font-size=\"14.00\">python3-crayons</text>\n",
       "</g>\n",
       "<!-- python&#45;crayons&#45;&gt;python3&#45;crayons -->\n",
       "<g id=\"edge8\" class=\"edge\">\n",
       "<title>python-crayons-&gt;python3-crayons</title>\n",
       "<path fill=\"none\" stroke=\"blue\" d=\"M852.87,-215.7C858.17,-207.81 864.55,-198.3 870.43,-189.55\"/>\n",
       "<polygon fill=\"blue\" stroke=\"blue\" points=\"873.26,-191.61 875.93,-181.36 867.45,-187.71 873.26,-191.61\"/>\n",
       "</g>\n",
       "<!-- python&#45;tmuxp -->\n",
       "<g id=\"node11\" class=\"node\">\n",
       "<title>python-tmuxp</title>\n",
       "<ellipse fill=\"none\" stroke=\"black\" cx=\"1066.26\" cy=\"-234\" rx=\"81.2\" ry=\"18\"/>\n",
       "<text text-anchor=\"middle\" x=\"1066.26\" y=\"-229.32\" font-family=\"Times,serif\" font-size=\"14.00\">python-tmuxp</text>\n",
       "</g>\n",
       "<!-- python3&#45;tmuxp -->\n",
       "<g id=\"node12\" class=\"node\">\n",
       "<title>python3-tmuxp</title>\n",
       "<ellipse fill=\"none\" stroke=\"black\" cx=\"1093.26\" cy=\"-162\" rx=\"87.51\" ry=\"18\"/>\n",
       "<text text-anchor=\"middle\" x=\"1093.26\" y=\"-157.32\" font-family=\"Times,serif\" font-size=\"14.00\">python3-tmuxp</text>\n",
       "</g>\n",
       "<!-- python&#45;tmuxp&#45;&gt;python3&#45;tmuxp -->\n",
       "<g id=\"edge9\" class=\"edge\">\n",
       "<title>python-tmuxp-&gt;python3-tmuxp</title>\n",
       "<path fill=\"none\" stroke=\"blue\" d=\"M1072.93,-215.7C1075.84,-208.15 1079.32,-199.12 1082.58,-190.68\"/>\n",
       "<polygon fill=\"blue\" stroke=\"blue\" points=\"1085.78,-192.11 1086.11,-181.52 1079.25,-189.59 1085.78,-192.11\"/>\n",
       "</g>\n",
       "<!-- python&#45;platformio -->\n",
       "<g id=\"node13\" class=\"node\">\n",
       "<title>python-platformio</title>\n",
       "<ellipse fill=\"none\" stroke=\"black\" cx=\"1234.26\" cy=\"-90\" rx=\"101.19\" ry=\"18\"/>\n",
       "<text text-anchor=\"middle\" x=\"1234.26\" y=\"-85.33\" font-family=\"Times,serif\" font-size=\"14.00\">python-platformio</text>\n",
       "</g>\n",
       "<!-- python3&#45;platformio -->\n",
       "<g id=\"node14\" class=\"node\">\n",
       "<title>python3-platformio</title>\n",
       "<ellipse fill=\"none\" stroke=\"black\" cx=\"1170.26\" cy=\"-18\" rx=\"107.5\" ry=\"18\"/>\n",
       "<text text-anchor=\"middle\" x=\"1170.26\" y=\"-13.32\" font-family=\"Times,serif\" font-size=\"14.00\">python3-platformio</text>\n",
       "</g>\n",
       "<!-- python&#45;platformio&#45;&gt;python3&#45;platformio -->\n",
       "<g id=\"edge11\" class=\"edge\">\n",
       "<title>python-platformio-&gt;python3-platformio</title>\n",
       "<path fill=\"none\" stroke=\"blue\" d=\"M1218.76,-72.05C1211.25,-63.84 1202.07,-53.79 1193.72,-44.66\"/>\n",
       "<polygon fill=\"blue\" stroke=\"blue\" points=\"1196.4,-42.41 1187.07,-37.39 1191.24,-47.13 1196.4,-42.41\"/>\n",
       "</g>\n",
       "<!-- jrnl -->\n",
       "<g id=\"node15\" class=\"node\">\n",
       "<title>jrnl</title>\n",
       "<ellipse fill=\"none\" stroke=\"black\" cx=\"1598.26\" cy=\"-90\" rx=\"28.59\" ry=\"18\"/>\n",
       "<text text-anchor=\"middle\" x=\"1598.26\" y=\"-85.33\" font-family=\"Times,serif\" font-size=\"14.00\">jrnl</text>\n",
       "</g>\n",
       "<!-- jrnl&#45;&gt;jrnl -->\n",
       "<g id=\"edge12\" class=\"edge\">\n",
       "<title>jrnl-&gt;jrnl</title>\n",
       "<path fill=\"none\" stroke=\"blue\" d=\"M1619.34,-102.55C1632.4,-105.57 1644.84,-101.39 1644.84,-90 1644.84,-82.08 1638.83,-77.64 1630.77,-76.69\"/>\n",
       "<polygon fill=\"blue\" stroke=\"blue\" points=\"1630.59,-73.2 1620.85,-77.35 1631.06,-80.18 1630.59,-73.2\"/>\n",
       "</g>\n",
       "<!-- python3&#45;colorama -->\n",
       "<g id=\"node16\" class=\"node\">\n",
       "<title>python3-colorama</title>\n",
       "<ellipse fill=\"none\" stroke=\"black\" cx=\"2628.26\" cy=\"-306\" rx=\"101.19\" ry=\"18\"/>\n",
       "<text text-anchor=\"middle\" x=\"2628.26\" y=\"-301.32\" font-family=\"Times,serif\" font-size=\"14.00\">python3-colorama</text>\n",
       "</g>\n",
       "<!-- python3&#45;colorama&#45;&gt;borgmatic -->\n",
       "<g id=\"edge14\" class=\"edge\">\n",
       "<title>python3-colorama-&gt;borgmatic</title>\n",
       "<path fill=\"none\" stroke=\"red\" d=\"M2526.69,-305.09C2120.9,-305.14 615.47,-301.9 142.26,-252 134.49,-251.18 126.4,-250.04 118.45,-248.74\"/>\n",
       "<polygon fill=\"red\" stroke=\"red\" points=\"119.32,-245.33 108.87,-247.06 118.11,-252.23 119.32,-245.33\"/>\n",
       "</g>\n",
       "<!-- python3&#45;colorama&#45;&gt;borgmatic -->\n",
       "<g id=\"edge15\" class=\"edge\">\n",
       "<title>python3-colorama-&gt;borgmatic</title>\n",
       "<path fill=\"none\" stroke=\"green\" d=\"M2526.97,-305.09C2123.62,-305.1 631.06,-301.65 160.26,-252 148.64,-250.77 136.27,-248.83 124.35,-246.69\"/>\n",
       "<polygon fill=\"green\" stroke=\"green\" points=\"125.05,-243.26 114.58,-244.86 123.77,-250.14 125.05,-243.26\"/>\n",
       "</g>\n",
       "<!-- python3&#45;colorama&#45;&gt;python&#45;shodan -->\n",
       "<g id=\"edge17\" class=\"edge\">\n",
       "<title>python3-colorama-&gt;python-shodan</title>\n",
       "<path fill=\"none\" stroke=\"green\" d=\"M2526.99,-304.63C2143.04,-302.91 776.92,-293.94 344.26,-252 335.53,-251.15 326.41,-249.98 317.4,-248.65\"/>\n",
       "<polygon fill=\"green\" stroke=\"green\" points=\"317.98,-245.2 307.56,-247.12 316.9,-252.12 317.98,-245.2\"/>\n",
       "</g>\n",
       "<!-- python3&#45;colorama&#45;&gt;python3&#45;shodan -->\n",
       "<g id=\"edge48\" class=\"edge\">\n",
       "<title>python3-colorama-&gt;python3-shodan</title>\n",
       "<path fill=\"none\" stroke=\"red\" d=\"M2527.08,-304.47C2102.73,-302.03 483.68,-290.21 382.26,-252 358.93,-243.21 359.75,-230.18 339.26,-216 322.92,-204.7 304,-193.67 287.43,-184.63\"/>\n",
       "<polygon fill=\"red\" stroke=\"red\" points=\"289.26,-181.64 278.8,-179.98 285.95,-187.8 289.26,-181.64\"/>\n",
       "</g>\n",
       "<!-- python3&#45;colorama&#45;&gt;python3&#45;pepc -->\n",
       "<g id=\"edge20\" class=\"edge\">\n",
       "<title>python3-colorama-&gt;python3-pepc</title>\n",
       "<path fill=\"none\" stroke=\"red\" d=\"M2527,-304.31C2179.68,-301.63 1038.08,-290.06 673.26,-252 665.18,-251.16 656.74,-250 648.4,-248.69\"/>\n",
       "<polygon fill=\"red\" stroke=\"red\" points=\"649.04,-245.25 638.6,-247.07 647.89,-252.16 649.04,-245.25\"/>\n",
       "</g>\n",
       "<!-- python3&#45;colorama&#45;&gt;python3&#45;wult -->\n",
       "<g id=\"edge30\" class=\"edge\">\n",
       "<title>python3-colorama-&gt;python3-wult</title>\n",
       "<path fill=\"none\" stroke=\"red\" d=\"M2527.03,-304.42C2112.67,-301.81 563.25,-289.57 466.26,-252 409.81,-230.14 352.84,-196.34 383.26,-144 391.91,-129.11 406.49,-118.05 421.57,-110\"/>\n",
       "<polygon fill=\"red\" stroke=\"red\" points=\"422.7,-113.35 430.14,-105.81 419.62,-107.06 422.7,-113.35\"/>\n",
       "</g>\n",
       "<!-- python3&#45;colorama&#45;&gt;stats&#45;collect -->\n",
       "<g id=\"edge40\" class=\"edge\">\n",
       "<title>python3-colorama-&gt;stats-collect</title>\n",
       "<path fill=\"none\" stroke=\"red\" d=\"M2527.12,-304.11C2107.59,-300.16 524.47,-283.03 483.26,-252 464.85,-238.14 458.25,-212.19 457.57,-191.88\"/>\n",
       "<polygon fill=\"red\" stroke=\"red\" points=\"461.07,-192 457.8,-181.92 454.07,-191.84 461.07,-192\"/>\n",
       "</g>\n",
       "<!-- python3&#45;colorama&#45;&gt;stats&#45;collect -->\n",
       "<g id=\"edge41\" class=\"edge\">\n",
       "<title>python3-colorama-&gt;stats-collect</title>\n",
       "<path fill=\"none\" stroke=\"green\" d=\"M2527.38,-304.05C2110.5,-299.99 542.27,-282.88 501.26,-252 482.76,-238.07 476.19,-211.95 472.43,-191.59\"/>\n",
       "<polygon fill=\"green\" stroke=\"green\" points=\"475.9,-191.15 470.73,-181.9 469.01,-192.35 475.9,-191.15\"/>\n",
       "</g>\n",
       "<!-- python3&#45;colorama&#45;&gt;wult -->\n",
       "<g id=\"edge60\" class=\"edge\">\n",
       "<title>python3-colorama-&gt;wult</title>\n",
       "<path fill=\"none\" stroke=\"green\" d=\"M2527.18,-304.05C2140.57,-300.17 775.58,-284.21 744.26,-252 710.79,-217.58 765.18,-187.67 745.26,-144 722.69,-94.52 669.78,-57.07 634.77,-36.58\"/>\n",
       "<polygon fill=\"green\" stroke=\"green\" points=\"636.71,-33.66 626.29,-31.77 633.26,-39.75 636.71,-33.66\"/>\n",
       "</g>\n",
       "<!-- python3&#45;colorama&#45;&gt;pepc -->\n",
       "<g id=\"edge69\" class=\"edge\">\n",
       "<title>python3-colorama-&gt;pepc</title>\n",
       "<path fill=\"none\" stroke=\"green\" d=\"M2526.91,-305.43C2141.37,-306.66 784.15,-307.05 711.26,-252 692.87,-238.11 686.27,-212.17 684.04,-191.86\"/>\n",
       "<polygon fill=\"green\" stroke=\"green\" points=\"687.53,-191.61 683.27,-181.91 680.55,-192.15 687.53,-191.61\"/>\n",
       "</g>\n",
       "<!-- python3&#45;colorama&#45;&gt;python&#45;crayons -->\n",
       "<g id=\"edge23\" class=\"edge\">\n",
       "<title>python3-colorama-&gt;python-crayons</title>\n",
       "<path fill=\"none\" stroke=\"green\" d=\"M2527.59,-303.6C2213.39,-298.96 1253.36,-282.58 943.26,-252 934.3,-251.12 924.94,-249.93 915.68,-248.59\"/>\n",
       "<polygon fill=\"green\" stroke=\"green\" points=\"916.38,-245.15 905.97,-247.11 915.33,-252.07 916.38,-245.15\"/>\n",
       "</g>\n",
       "<!-- python3&#45;colorama&#45;&gt;python3&#45;crayons -->\n",
       "<g id=\"edge25\" class=\"edge\">\n",
       "<title>python3-colorama-&gt;python3-crayons</title>\n",
       "<path fill=\"none\" stroke=\"red\" d=\"M2527.49,-303.82C2179.75,-299.49 1047.43,-283.07 976.26,-252 972.16,-250.21 937.03,-214.01 912.42,-188.34\"/>\n",
       "<polygon fill=\"red\" stroke=\"red\" points=\"915.02,-186 905.58,-181.19 909.96,-190.84 915.02,-186\"/>\n",
       "</g>\n",
       "<!-- python3&#45;colorama&#45;&gt;python&#45;tmuxp -->\n",
       "<g id=\"edge29\" class=\"edge\">\n",
       "<title>python3-colorama-&gt;python-tmuxp</title>\n",
       "<path fill=\"none\" stroke=\"green\" d=\"M2527.93,-303.22C2242.1,-297.85 1427.02,-280.44 1161.26,-252 1153.03,-251.12 1144.45,-249.95 1135.95,-248.63\"/>\n",
       "<polygon fill=\"green\" stroke=\"green\" points=\"1136.78,-245.22 1126.35,-247.06 1135.66,-252.13 1136.78,-245.22\"/>\n",
       "</g>\n",
       "<!-- python3&#45;colorama&#45;&gt;python3&#45;tmuxp -->\n",
       "<g id=\"edge31\" class=\"edge\">\n",
       "<title>python3-colorama-&gt;python3-tmuxp</title>\n",
       "<path fill=\"none\" stroke=\"red\" d=\"M2526.74,-305.03C2220.93,-304.6 1322,-299.29 1199.26,-252 1198.96,-251.89 1153.2,-213.42 1121.91,-187.1\"/>\n",
       "<polygon fill=\"red\" stroke=\"red\" points=\"1124.18,-184.44 1114.28,-180.69 1119.68,-189.8 1124.18,-184.44\"/>\n",
       "</g>\n",
       "<!-- python3&#45;colorama&#45;&gt;python&#45;platformio -->\n",
       "<g id=\"edge32\" class=\"edge\">\n",
       "<title>python3-colorama-&gt;python-platformio</title>\n",
       "<path fill=\"none\" stroke=\"green\" d=\"M2527.19,-304.32C2221.36,-301.84 1323.73,-291.22 1275.26,-252 1236.07,-220.3 1231.28,-156.86 1232.18,-119.78\"/>\n",
       "<polygon fill=\"green\" stroke=\"green\" points=\"1235.68,-119.95 1232.6,-109.81 1228.69,-119.66 1235.68,-119.95\"/>\n",
       "</g>\n",
       "<!-- python3&#45;colorama&#45;&gt;python3&#45;platformio -->\n",
       "<g id=\"edge21\" class=\"edge\">\n",
       "<title>python3-colorama-&gt;python3-platformio</title>\n",
       "<path fill=\"none\" stroke=\"red\" d=\"M2527.24,-303.91C2217.54,-300.22 1299.06,-286.41 1245.26,-252 1199.88,-222.98 1227.8,-182.62 1190.26,-144 1166.97,-120.04 1141.31,-136.73 1124.26,-108 1111.82,-87.05 1126.77,-62.38 1142.85,-44.33\"/>\n",
       "<polygon fill=\"red\" stroke=\"red\" points=\"1145.33,-46.81 1149.68,-37.15 1140.26,-41.98 1145.33,-46.81\"/>\n",
       "</g>\n",
       "<!-- python3&#45;colorama&#45;&gt;jrnl -->\n",
       "<g id=\"edge33\" class=\"edge\">\n",
       "<title>python3-colorama-&gt;jrnl</title>\n",
       "<path fill=\"none\" stroke=\"red\" d=\"M2527.06,-304.36C2241.43,-302.05 1447.52,-291.98 1409.26,-252 1388.01,-229.8 1418.48,-155.84 1430.26,-144 1469.82,-104.22 1498.65,-127.5 1551.26,-108 1554.89,-106.65 1558.67,-105.12 1562.46,-103.55\"/>\n",
       "<polygon fill=\"red\" stroke=\"red\" points=\"1563.78,-106.79 1571.64,-99.69 1561.06,-100.34 1563.78,-106.79\"/>\n",
       "</g>\n",
       "<!-- python3&#45;colorama&#45;&gt;jrnl -->\n",
       "<g id=\"edge34\" class=\"edge\">\n",
       "<title>python3-colorama-&gt;jrnl</title>\n",
       "<path fill=\"none\" stroke=\"green\" d=\"M2527.05,-304.29C2244.42,-301.85 1465.16,-291.6 1427.26,-252 1406.01,-229.8 1436.48,-155.84 1448.26,-144 1485.5,-106.55 1513.23,-124.99 1568.84,-107.56\"/>\n",
       "<polygon fill=\"green\" stroke=\"green\" points=\"1569.81,-110.93 1578.12,-104.36 1567.53,-104.31 1569.81,-110.93\"/>\n",
       "</g>\n",
       "<!-- black+colorama -->\n",
       "<g id=\"node17\" class=\"node\">\n",
       "<title>black+colorama</title>\n",
       "<ellipse fill=\"none\" stroke=\"black\" cx=\"3893.26\" cy=\"-162\" rx=\"91.72\" ry=\"18\"/>\n",
       "<text text-anchor=\"middle\" x=\"3893.26\" y=\"-157.32\" font-family=\"Times,serif\" font-size=\"14.00\">black+colorama</text>\n",
       "</g>\n",
       "<!-- python3&#45;colorama&#45;&gt;black+colorama -->\n",
       "<g id=\"edge13\" class=\"edge\">\n",
       "<title>python3-colorama-&gt;black+colorama</title>\n",
       "<path fill=\"none\" stroke=\"red\" d=\"M2729.42,-304.62C3026.2,-303 3876.33,-294.65 3917.26,-252 3933.2,-235.38 3923.64,-209.32 3912.2,-189.69\"/>\n",
       "<polygon fill=\"red\" stroke=\"red\" points=\"3915.26,-187.98 3906.98,-181.37 3909.33,-191.7 3915.26,-187.98\"/>\n",
       "</g>\n",
       "<!-- python3&#45;interrogate -->\n",
       "<g id=\"node18\" class=\"node\">\n",
       "<title>python3-interrogate</title>\n",
       "<ellipse fill=\"none\" stroke=\"black\" cx=\"2633.26\" cy=\"-162\" rx=\"112.24\" ry=\"18\"/>\n",
       "<text text-anchor=\"middle\" x=\"2633.26\" y=\"-157.32\" font-family=\"Times,serif\" font-size=\"14.00\">python3-interrogate</text>\n",
       "</g>\n",
       "<!-- python3&#45;colorama&#45;&gt;python3&#45;interrogate -->\n",
       "<g id=\"edge16\" class=\"edge\">\n",
       "<title>python3-colorama-&gt;python3-interrogate</title>\n",
       "<path fill=\"none\" stroke=\"red\" d=\"M2548.61,-294.53C2485.31,-282.77 2412.42,-259.38 2445.26,-216 2457.85,-199.37 2501.74,-186.49 2543.95,-177.59\"/>\n",
       "<polygon fill=\"red\" stroke=\"red\" points=\"2544.62,-181.02 2553.72,-175.6 2543.22,-174.16 2544.62,-181.02\"/>\n",
       "</g>\n",
       "<!-- python3&#45;migen -->\n",
       "<g id=\"node19\" class=\"node\">\n",
       "<title>python3-migen</title>\n",
       "<ellipse fill=\"none\" stroke=\"black\" cx=\"1459.26\" cy=\"-18\" rx=\"86.46\" ry=\"18\"/>\n",
       "<text text-anchor=\"middle\" x=\"1459.26\" y=\"-13.32\" font-family=\"Times,serif\" font-size=\"14.00\">python3-migen</text>\n",
       "</g>\n",
       "<!-- python3&#45;colorama&#45;&gt;python3&#45;migen -->\n",
       "<g id=\"edge18\" class=\"edge\">\n",
       "<title>python3-colorama-&gt;python3-migen</title>\n",
       "<path fill=\"none\" stroke=\"red\" d=\"M2527.1,-304.19C2240.19,-301.43 1439.24,-290.3 1398.26,-252 1339.58,-197.16 1344.89,-143.09 1382.26,-72 1389.05,-59.08 1400.58,-48.69 1412.67,-40.66\"/>\n",
       "<polygon fill=\"red\" stroke=\"red\" points=\"1414.41,-43.7 1421.12,-35.5 1410.76,-37.72 1414.41,-43.7\"/>\n",
       "</g>\n",
       "<!-- python3&#45;shamir&#45;mnemonic -->\n",
       "<g id=\"node20\" class=\"node\">\n",
       "<title>python3-shamir-mnemonic</title>\n",
       "<ellipse fill=\"none\" stroke=\"black\" cx=\"1594.26\" cy=\"-234\" rx=\"144.86\" ry=\"18\"/>\n",
       "<text text-anchor=\"middle\" x=\"1594.26\" y=\"-229.32\" font-family=\"Times,serif\" font-size=\"14.00\">python3-shamir-mnemonic</text>\n",
       "</g>\n",
       "<!-- python3&#45;colorama&#45;&gt;python3&#45;shamir&#45;mnemonic -->\n",
       "<g id=\"edge19\" class=\"edge\">\n",
       "<title>python3-colorama-&gt;python3-shamir-mnemonic</title>\n",
       "<path fill=\"none\" stroke=\"red\" d=\"M2531.04,-300.57C2369.43,-292.89 2035.34,-275.61 1753.26,-252 1739.15,-250.82 1724.35,-249.43 1709.7,-247.97\"/>\n",
       "<polygon fill=\"red\" stroke=\"red\" points=\"1710.34,-244.52 1700.04,-247 1709.64,-251.48 1710.34,-244.52\"/>\n",
       "</g>\n",
       "<!-- python&#45;terminaltables -->\n",
       "<g id=\"node21\" class=\"node\">\n",
       "<title>python-terminaltables</title>\n",
       "<ellipse fill=\"none\" stroke=\"black\" cx=\"1785.26\" cy=\"-90\" rx=\"122.23\" ry=\"18\"/>\n",
       "<text text-anchor=\"middle\" x=\"1785.26\" y=\"-85.33\" font-family=\"Times,serif\" font-size=\"14.00\">python-terminaltables</text>\n",
       "</g>\n",
       "<!-- python3&#45;colorama&#45;&gt;python&#45;terminaltables -->\n",
       "<g id=\"edge22\" class=\"edge\">\n",
       "<title>python3-colorama-&gt;python-terminaltables</title>\n",
       "<path fill=\"none\" stroke=\"green\" d=\"M2527.1,-304.24C2246.69,-301.65 1477.56,-291 1440.26,-252 1359.91,-167.99 1552.79,-123.42 1681.41,-103.75\"/>\n",
       "<polygon fill=\"green\" stroke=\"green\" points=\"1681.61,-107.26 1690.98,-102.32 1680.58,-100.34 1681.61,-107.26\"/>\n",
       "</g>\n",
       "<!-- python3&#45;spyking&#45;circus -->\n",
       "<g id=\"node22\" class=\"node\">\n",
       "<title>python3-spyking-circus</title>\n",
       "<ellipse fill=\"none\" stroke=\"black\" cx=\"3388.26\" cy=\"-162\" rx=\"127.49\" ry=\"18\"/>\n",
       "<text text-anchor=\"middle\" x=\"3388.26\" y=\"-157.32\" font-family=\"Times,serif\" font-size=\"14.00\">python3-spyking-circus</text>\n",
       "</g>\n",
       "<!-- python3&#45;colorama&#45;&gt;python3&#45;spyking&#45;circus -->\n",
       "<g id=\"edge24\" class=\"edge\">\n",
       "<title>python3-colorama-&gt;python3-spyking-circus</title>\n",
       "<path fill=\"none\" stroke=\"red\" d=\"M2727.49,-302.13C2939.44,-295.51 3419.12,-277.75 3443.26,-252 3461.38,-232.66 3440.98,-206.46 3420.08,-187.5\"/>\n",
       "<polygon fill=\"red\" stroke=\"red\" points=\"3422.52,-184.98 3412.66,-181.1 3417.95,-190.28 3422.52,-184.98\"/>\n",
       "</g>\n",
       "<!-- python&#45;jedi -->\n",
       "<g id=\"node23\" class=\"node\">\n",
       "<title>python-jedi</title>\n",
       "<ellipse fill=\"none\" stroke=\"black\" cx=\"2010.26\" cy=\"-234\" rx=\"67.52\" ry=\"18\"/>\n",
       "<text text-anchor=\"middle\" x=\"2010.26\" y=\"-229.32\" font-family=\"Times,serif\" font-size=\"14.00\">python-jedi</text>\n",
       "</g>\n",
       "<!-- python3&#45;colorama&#45;&gt;python&#45;jedi -->\n",
       "<g id=\"edge26\" class=\"edge\">\n",
       "<title>python3-colorama-&gt;python-jedi</title>\n",
       "<path fill=\"none\" stroke=\"green\" d=\"M2534.92,-298.78C2427.69,-290.94 2246.63,-275.57 2092.26,-252 2085.56,-250.98 2078.58,-249.76 2071.65,-248.46\"/>\n",
       "<polygon fill=\"green\" stroke=\"green\" points=\"2072.82,-245.12 2062.33,-246.65 2071.48,-252 2072.82,-245.12\"/>\n",
       "</g>\n",
       "<!-- python3&#45;cvdupdate -->\n",
       "<g id=\"node24\" class=\"node\">\n",
       "<title>python3-cvdupdate</title>\n",
       "<ellipse fill=\"none\" stroke=\"black\" cx=\"4367.26\" cy=\"-18\" rx=\"107.5\" ry=\"18\"/>\n",
       "<text text-anchor=\"middle\" x=\"4367.26\" y=\"-13.32\" font-family=\"Times,serif\" font-size=\"14.00\">python3-cvdupdate</text>\n",
       "</g>\n",
       "<!-- python3&#45;colorama&#45;&gt;python3&#45;cvdupdate -->\n",
       "<g id=\"edge27\" class=\"edge\">\n",
       "<title>python3-colorama-&gt;python3-cvdupdate</title>\n",
       "<path fill=\"none\" stroke=\"red\" d=\"M2729.08,-303.89C3102.07,-299.54 4383.74,-282.41 4413.26,-252 4468.98,-194.6 4441.24,-146.94 4413.26,-72 4409.44,-61.77 4402.66,-52.21 4395.46,-44.11\"/>\n",
       "<polygon fill=\"red\" stroke=\"red\" points=\"4398.09,-41.8 4388.65,-37.01 4393.04,-46.65 4398.09,-41.8\"/>\n",
       "</g>\n",
       "<!-- python3&#45;sphinx&#45;autobuild -->\n",
       "<g id=\"node25\" class=\"node\">\n",
       "<title>python3-sphinx-autobuild</title>\n",
       "<ellipse fill=\"none\" stroke=\"black\" cx=\"2186.26\" cy=\"-162\" rx=\"138.54\" ry=\"18\"/>\n",
       "<text text-anchor=\"middle\" x=\"2186.26\" y=\"-157.32\" font-family=\"Times,serif\" font-size=\"14.00\">python3-sphinx-autobuild</text>\n",
       "</g>\n",
       "<!-- python3&#45;colorama&#45;&gt;python3&#45;sphinx&#45;autobuild -->\n",
       "<g id=\"edge28\" class=\"edge\">\n",
       "<title>python3-colorama-&gt;python3-sphinx-autobuild</title>\n",
       "<path fill=\"none\" stroke=\"red\" d=\"M2529.73,-301.57C2390.95,-295.72 2151.77,-281.45 2125.26,-252 2107,-231.72 2129.27,-205.7 2151.86,-187.05\"/>\n",
       "<polygon fill=\"red\" stroke=\"red\" points=\"2153.89,-189.9 2159.58,-180.97 2149.56,-184.4 2153.89,-189.9\"/>\n",
       "</g>\n",
       "<!-- python&#45;aiosmtpd -->\n",
       "<g id=\"node26\" class=\"node\">\n",
       "<title>python-aiosmtpd</title>\n",
       "<ellipse fill=\"none\" stroke=\"black\" cx=\"2867.26\" cy=\"-90\" rx=\"95.4\" ry=\"18\"/>\n",
       "<text text-anchor=\"middle\" x=\"2867.26\" y=\"-85.33\" font-family=\"Times,serif\" font-size=\"14.00\">python-aiosmtpd</text>\n",
       "</g>\n",
       "<!-- python3&#45;colorama&#45;&gt;python&#45;aiosmtpd -->\n",
       "<g id=\"edge35\" class=\"edge\">\n",
       "<title>python3-colorama-&gt;python-aiosmtpd</title>\n",
       "<path fill=\"none\" stroke=\"green\" d=\"M2728.88,-303.79C2991.14,-300.14 3677.69,-287.25 3711.26,-252 3816.05,-141.95 3219.44,-105.09 2971.5,-94.63\"/>\n",
       "<polygon fill=\"green\" stroke=\"green\" points=\"2971.97,-91.15 2961.83,-94.23 2971.68,-98.14 2971.97,-91.15\"/>\n",
       "</g>\n",
       "<!-- awscli2 -->\n",
       "<g id=\"node27\" class=\"node\">\n",
       "<title>awscli2</title>\n",
       "<ellipse fill=\"none\" stroke=\"black\" cx=\"2503.26\" cy=\"-234\" rx=\"48.58\" ry=\"18\"/>\n",
       "<text text-anchor=\"middle\" x=\"2503.26\" y=\"-229.32\" font-family=\"Times,serif\" font-size=\"14.00\">awscli2</text>\n",
       "</g>\n",
       "<!-- python3&#45;colorama&#45;&gt;awscli2 -->\n",
       "<g id=\"edge36\" class=\"edge\">\n",
       "<title>python3-colorama-&gt;awscli2</title>\n",
       "<path fill=\"none\" stroke=\"red\" d=\"M2593.46,-288.76C2575.05,-279.06 2552.7,-266.63 2534.8,-256.17\"/>\n",
       "<polygon fill=\"red\" stroke=\"red\" points=\"2536.79,-253.28 2526.4,-251.2 2533.22,-259.3 2536.79,-253.28\"/>\n",
       "</g>\n",
       "<!-- python3&#45;colorama&#45;&gt;awscli2 -->\n",
       "<g id=\"edge37\" class=\"edge\">\n",
       "<title>python3-colorama-&gt;awscli2</title>\n",
       "<path fill=\"none\" stroke=\"green\" d=\"M2603.88,-288.05C2586.51,-277.72 2562.95,-264.49 2542.94,-253.83\"/>\n",
       "<polygon fill=\"green\" stroke=\"green\" points=\"2544.66,-250.78 2534.18,-249.22 2541.4,-256.97 2544.66,-250.78\"/>\n",
       "</g>\n",
       "<!-- git&#45;up -->\n",
       "<g id=\"node28\" class=\"node\">\n",
       "<title>git-up</title>\n",
       "<ellipse fill=\"none\" stroke=\"black\" cx=\"2628.26\" cy=\"-234\" rx=\"40.69\" ry=\"18\"/>\n",
       "<text text-anchor=\"middle\" x=\"2628.26\" y=\"-229.32\" font-family=\"Times,serif\" font-size=\"14.00\">git-up</text>\n",
       "</g>\n",
       "<!-- python3&#45;colorama&#45;&gt;git&#45;up -->\n",
       "<g id=\"edge38\" class=\"edge\">\n",
       "<title>python3-colorama-&gt;git-up</title>\n",
       "<path fill=\"none\" stroke=\"red\" d=\"M2622.34,-287.7C2621.59,-280.41 2621.35,-271.73 2621.61,-263.54\"/>\n",
       "<polygon fill=\"red\" stroke=\"red\" points=\"2625.1,-263.82 2622.26,-253.61 2618.11,-263.36 2625.1,-263.82\"/>\n",
       "</g>\n",
       "<!-- python3&#45;colorama&#45;&gt;git&#45;up -->\n",
       "<g id=\"edge39\" class=\"edge\">\n",
       "<title>python3-colorama-&gt;git-up</title>\n",
       "<path fill=\"none\" stroke=\"green\" d=\"M2634.17,-287.7C2634.92,-280.41 2635.17,-271.73 2634.9,-263.54\"/>\n",
       "<polygon fill=\"green\" stroke=\"green\" points=\"2638.4,-263.36 2634.25,-253.61 2631.41,-263.82 2638.4,-263.36\"/>\n",
       "</g>\n",
       "<!-- thefuck -->\n",
       "<g id=\"node29\" class=\"node\">\n",
       "<title>thefuck</title>\n",
       "<ellipse fill=\"none\" stroke=\"black\" cx=\"4117.26\" cy=\"-90\" rx=\"48.58\" ry=\"18\"/>\n",
       "<text text-anchor=\"middle\" x=\"4117.26\" y=\"-85.33\" font-family=\"Times,serif\" font-size=\"14.00\">thefuck</text>\n",
       "</g>\n",
       "<!-- python3&#45;colorama&#45;&gt;thefuck -->\n",
       "<g id=\"edge42\" class=\"edge\">\n",
       "<title>python3-colorama-&gt;thefuck</title>\n",
       "<path fill=\"none\" stroke=\"red\" d=\"M2729.87,-305.45C3070.45,-306.42 4152.83,-305.17 4204.26,-252 4244.85,-210.03 4181.38,-147.8 4142.88,-114.33\"/>\n",
       "<polygon fill=\"red\" stroke=\"red\" points=\"4145.64,-112.09 4135.77,-108.24 4141.09,-117.4 4145.64,-112.09\"/>\n",
       "</g>\n",
       "<!-- python3&#45;colorama&#45;&gt;thefuck -->\n",
       "<g id=\"edge43\" class=\"edge\">\n",
       "<title>python3-colorama-&gt;thefuck</title>\n",
       "<path fill=\"none\" stroke=\"green\" d=\"M2729.67,-305.43C3072.66,-306.43 4170.46,-305.56 4222.26,-252 4263.76,-209.09 4196.48,-145 4151.7,-112.12\"/>\n",
       "<polygon fill=\"green\" stroke=\"green\" points=\"4153.95,-109.42 4143.77,-106.48 4149.89,-115.13 4153.95,-109.42\"/>\n",
       "</g>\n",
       "<!-- RBTools -->\n",
       "<g id=\"node30\" class=\"node\">\n",
       "<title>RBTools</title>\n",
       "<ellipse fill=\"none\" stroke=\"black\" cx=\"2987.26\" cy=\"-234\" rx=\"51.73\" ry=\"18\"/>\n",
       "<text text-anchor=\"middle\" x=\"2987.26\" y=\"-229.32\" font-family=\"Times,serif\" font-size=\"14.00\">RBTools</text>\n",
       "</g>\n",
       "<!-- python3&#45;colorama&#45;&gt;RBTools -->\n",
       "<g id=\"edge44\" class=\"edge\">\n",
       "<title>python3-colorama-&gt;RBTools</title>\n",
       "<path fill=\"none\" stroke=\"red\" d=\"M2700.31,-292.99C2759,-283.37 2843.73,-268.74 2917.26,-252 2922.74,-250.75 2928.47,-249.32 2934.21,-247.83\"/>\n",
       "<polygon fill=\"red\" stroke=\"red\" points=\"2934.93,-251.26 2943.7,-245.32 2933.14,-244.5 2934.93,-251.26\"/>\n",
       "</g>\n",
       "<!-- python3&#45;colorama&#45;&gt;RBTools -->\n",
       "<g id=\"edge45\" class=\"edge\">\n",
       "<title>python3-colorama-&gt;RBTools</title>\n",
       "<path fill=\"none\" stroke=\"green\" d=\"M2706.57,-294.31C2769,-284.74 2858.27,-269.53 2935.26,-252 2937.39,-251.51 2939.55,-251 2941.74,-250.47\"/>\n",
       "<polygon fill=\"green\" stroke=\"green\" points=\"2942.37,-253.92 2951.19,-248.05 2940.63,-247.14 2942.37,-253.92\"/>\n",
       "</g>\n",
       "<!-- conan -->\n",
       "<g id=\"node31\" class=\"node\">\n",
       "<title>conan</title>\n",
       "<ellipse fill=\"none\" stroke=\"black\" cx=\"3115.26\" cy=\"-234\" rx=\"40.69\" ry=\"18\"/>\n",
       "<text text-anchor=\"middle\" x=\"3115.26\" y=\"-229.32\" font-family=\"Times,serif\" font-size=\"14.00\">conan</text>\n",
       "</g>\n",
       "<!-- python3&#45;colorama&#45;&gt;conan -->\n",
       "<g id=\"edge46\" class=\"edge\">\n",
       "<title>python3-colorama-&gt;conan</title>\n",
       "<path fill=\"none\" stroke=\"red\" d=\"M2721.81,-298.95C2809.36,-292.13 2943.26,-278.35 3057.26,-252 3061.8,-250.95 3066.5,-249.63 3071.2,-248.19\"/>\n",
       "<polygon fill=\"red\" stroke=\"red\" points=\"3072.16,-251.56 3080.61,-245.16 3070.02,-244.9 3072.16,-251.56\"/>\n",
       "</g>\n",
       "<!-- python3&#45;colorama&#45;&gt;conan -->\n",
       "<g id=\"edge47\" class=\"edge\">\n",
       "<title>python3-colorama-&gt;conan</title>\n",
       "<path fill=\"none\" stroke=\"green\" d=\"M2723.7,-299.85C2815.05,-293.36 2956.04,-279.56 3075.26,-252 3076.25,-251.77 3077.26,-251.53 3078.27,-251.27\"/>\n",
       "<polygon fill=\"green\" stroke=\"green\" points=\"3079.01,-254.7 3087.66,-248.59 3077.08,-247.97 3079.01,-254.7\"/>\n",
       "</g>\n",
       "<!-- python&#45;gabbi -->\n",
       "<g id=\"node32\" class=\"node\">\n",
       "<title>python-gabbi</title>\n",
       "<ellipse fill=\"none\" stroke=\"black\" cx=\"4997.26\" cy=\"-234\" rx=\"76.99\" ry=\"18\"/>\n",
       "<text text-anchor=\"middle\" x=\"4997.26\" y=\"-229.32\" font-family=\"Times,serif\" font-size=\"14.00\">python-gabbi</text>\n",
       "</g>\n",
       "<!-- python3&#45;colorama&#45;&gt;python&#45;gabbi -->\n",
       "<g id=\"edge49\" class=\"edge\">\n",
       "<title>python3-colorama-&gt;python-gabbi</title>\n",
       "<path fill=\"none\" stroke=\"green\" d=\"M2729.51,-304.96C3113.42,-304.47 4479.35,-299.35 4911.26,-252 4918.03,-251.26 4925.06,-250.26 4932.05,-249.11\"/>\n",
       "<polygon fill=\"green\" stroke=\"green\" points=\"4932.6,-252.56 4941.85,-247.39 4931.4,-245.67 4932.6,-252.56\"/>\n",
       "</g>\n",
       "<!-- python&#45;sphinx&#45;autobuild -->\n",
       "<g id=\"node33\" class=\"node\">\n",
       "<title>python-sphinx-autobuild</title>\n",
       "<ellipse fill=\"none\" stroke=\"black\" cx=\"2266.26\" cy=\"-234\" rx=\"132.23\" ry=\"18\"/>\n",
       "<text text-anchor=\"middle\" x=\"2266.26\" y=\"-229.32\" font-family=\"Times,serif\" font-size=\"14.00\">python-sphinx-autobuild</text>\n",
       "</g>\n",
       "<!-- python3&#45;colorama&#45;&gt;python&#45;sphinx&#45;autobuild -->\n",
       "<g id=\"edge50\" class=\"edge\">\n",
       "<title>python3-colorama-&gt;python-sphinx-autobuild</title>\n",
       "<path fill=\"none\" stroke=\"green\" d=\"M2561.44,-292.08C2502.27,-280.64 2415.6,-263.88 2351.46,-251.48\"/>\n",
       "<polygon fill=\"green\" stroke=\"green\" points=\"2352.13,-248.04 2341.65,-249.58 2350.8,-254.91 2352.13,-248.04\"/>\n",
       "</g>\n",
       "<!-- python3&#45;socialscan -->\n",
       "<g id=\"node34\" class=\"node\">\n",
       "<title>python3-socialscan</title>\n",
       "<ellipse fill=\"none\" stroke=\"black\" cx=\"3596.26\" cy=\"-234\" rx=\"106.45\" ry=\"18\"/>\n",
       "<text text-anchor=\"middle\" x=\"3596.26\" y=\"-229.32\" font-family=\"Times,serif\" font-size=\"14.00\">python3-socialscan</text>\n",
       "</g>\n",
       "<!-- python3&#45;colorama&#45;&gt;python3&#45;socialscan -->\n",
       "<g id=\"edge51\" class=\"edge\">\n",
       "<title>python3-colorama-&gt;python3-socialscan</title>\n",
       "<path fill=\"none\" stroke=\"red\" d=\"M2726.39,-301.36C2884.55,-294.94 3205.5,-279.6 3476.26,-252 3486.59,-250.95 3497.4,-249.67 3508.11,-248.29\"/>\n",
       "<polygon fill=\"red\" stroke=\"red\" points=\"3508.27,-251.8 3517.72,-247.02 3507.35,-244.86 3508.27,-251.8\"/>\n",
       "</g>\n",
       "<!-- python&#45;migen -->\n",
       "<g id=\"node35\" class=\"node\">\n",
       "<title>python-migen</title>\n",
       "<ellipse fill=\"none\" stroke=\"black\" cx=\"1471.26\" cy=\"-90\" rx=\"80.14\" ry=\"18\"/>\n",
       "<text text-anchor=\"middle\" x=\"1471.26\" y=\"-85.33\" font-family=\"Times,serif\" font-size=\"14.00\">python-migen</text>\n",
       "</g>\n",
       "<!-- python3&#45;colorama&#45;&gt;python&#45;migen -->\n",
       "<g id=\"edge52\" class=\"edge\">\n",
       "<title>python3-colorama-&gt;python-migen</title>\n",
       "<path fill=\"none\" stroke=\"green\" d=\"M2527.12,-304.37C2241.3,-302.1 1445.74,-292.19 1407.26,-252 1393.42,-237.55 1407.35,-165.56 1418.26,-144 1423.63,-133.38 1431.94,-123.58 1440.39,-115.37\"/>\n",
       "<polygon fill=\"green\" stroke=\"green\" points=\"1442.63,-118.06 1447.67,-108.74 1437.92,-112.88 1442.63,-118.06\"/>\n",
       "</g>\n",
       "<!-- python&#45;spyking&#45;circus -->\n",
       "<g id=\"node36\" class=\"node\">\n",
       "<title>python-spyking-circus</title>\n",
       "<ellipse fill=\"none\" stroke=\"black\" cx=\"3313.26\" cy=\"-234\" rx=\"121.18\" ry=\"18\"/>\n",
       "<text text-anchor=\"middle\" x=\"3313.26\" y=\"-229.32\" font-family=\"Times,serif\" font-size=\"14.00\">python-spyking-circus</text>\n",
       "</g>\n",
       "<!-- python3&#45;colorama&#45;&gt;python&#45;spyking&#45;circus -->\n",
       "<g id=\"edge53\" class=\"edge\">\n",
       "<title>python3-colorama-&gt;python-spyking-circus</title>\n",
       "<path fill=\"none\" stroke=\"green\" d=\"M2717.75,-297.42C2827.53,-287.9 3019.27,-270.55 3183.26,-252 3193.39,-250.85 3203.95,-249.59 3214.49,-248.28\"/>\n",
       "<polygon fill=\"green\" stroke=\"green\" points=\"3214.91,-251.76 3224.4,-247.04 3214.04,-244.81 3214.91,-251.76\"/>\n",
       "</g>\n",
       "<!-- python&#45;cvdupdate -->\n",
       "<g id=\"node37\" class=\"node\">\n",
       "<title>python-cvdupdate</title>\n",
       "<ellipse fill=\"none\" stroke=\"black\" cx=\"4303.26\" cy=\"-90\" rx=\"101.19\" ry=\"18\"/>\n",
       "<text text-anchor=\"middle\" x=\"4303.26\" y=\"-85.33\" font-family=\"Times,serif\" font-size=\"14.00\">python-cvdupdate</text>\n",
       "</g>\n",
       "<!-- python3&#45;colorama&#45;&gt;python&#45;cvdupdate -->\n",
       "<g id=\"edge54\" class=\"edge\">\n",
       "<title>python3-colorama-&gt;python-cvdupdate</title>\n",
       "<path fill=\"none\" stroke=\"green\" d=\"M2729.48,-304.73C3187.02,-303.27 5041.44,-294.73 5083.26,-252 5133.45,-200.72 5046.11,-178.1 4903.26,-144 4736.69,-104.24 4537.7,-93.66 4415.93,-91.2\"/>\n",
       "<polygon fill=\"green\" stroke=\"green\" points=\"4416.33,-87.71 4406.27,-91.02 4416.2,-94.7 4416.33,-87.71\"/>\n",
       "</g>\n",
       "<!-- python3&#45;pytest&#45;watch -->\n",
       "<g id=\"node38\" class=\"node\">\n",
       "<title>python3-pytest-watch</title>\n",
       "<ellipse fill=\"none\" stroke=\"black\" cx=\"4084.26\" cy=\"-234\" rx=\"120.13\" ry=\"18\"/>\n",
       "<text text-anchor=\"middle\" x=\"4084.26\" y=\"-229.32\" font-family=\"Times,serif\" font-size=\"14.00\">python3-pytest-watch</text>\n",
       "</g>\n",
       "<!-- python3&#45;colorama&#45;&gt;python3&#45;pytest&#45;watch -->\n",
       "<g id=\"edge55\" class=\"edge\">\n",
       "<title>python3-colorama-&gt;python3-pytest-watch</title>\n",
       "<path fill=\"none\" stroke=\"red\" d=\"M2729.19,-303.92C2950.63,-300.89 3495.59,-289.88 3950.26,-252 3962.24,-251 3974.81,-249.72 3987.24,-248.31\"/>\n",
       "<polygon fill=\"red\" stroke=\"red\" points=\"3987.56,-251.8 3997.09,-247.16 3986.75,-244.84 3987.56,-251.8\"/>\n",
       "</g>\n",
       "<!-- python&#45;interrogate -->\n",
       "<g id=\"node39\" class=\"node\">\n",
       "<title>python-interrogate</title>\n",
       "<ellipse fill=\"none\" stroke=\"black\" cx=\"2811.26\" cy=\"-234\" rx=\"105.92\" ry=\"18\"/>\n",
       "<text text-anchor=\"middle\" x=\"2811.26\" y=\"-229.32\" font-family=\"Times,serif\" font-size=\"14.00\">python-interrogate</text>\n",
       "</g>\n",
       "<!-- python3&#45;colorama&#45;&gt;python&#45;interrogate -->\n",
       "<g id=\"edge56\" class=\"edge\">\n",
       "<title>python3-colorama-&gt;python-interrogate</title>\n",
       "<path fill=\"none\" stroke=\"green\" d=\"M2669.78,-289.12C2696.24,-278.99 2730.75,-265.79 2759.06,-254.97\"/>\n",
       "<polygon fill=\"green\" stroke=\"green\" points=\"2760.08,-258.32 2768.17,-251.48 2757.57,-251.79 2760.08,-258.32\"/>\n",
       "</g>\n",
       "<!-- azure&#45;cli -->\n",
       "<g id=\"node40\" class=\"node\">\n",
       "<title>azure-cli</title>\n",
       "<ellipse fill=\"none\" stroke=\"black\" cx=\"4332.26\" cy=\"-234\" rx=\"53.84\" ry=\"18\"/>\n",
       "<text text-anchor=\"middle\" x=\"4332.26\" y=\"-229.32\" font-family=\"Times,serif\" font-size=\"14.00\">azure-cli</text>\n",
       "</g>\n",
       "<!-- python3&#45;colorama&#45;&gt;azure&#45;cli -->\n",
       "<g id=\"edge57\" class=\"edge\">\n",
       "<title>python3-colorama-&gt;azure-cli</title>\n",
       "<path fill=\"none\" stroke=\"red\" d=\"M2729.56,-304.51C3037.29,-302.6 3957.98,-293.49 4255.26,-252 4262.63,-250.97 4270.35,-249.46 4277.97,-247.77\"/>\n",
       "<polygon fill=\"red\" stroke=\"red\" points=\"4278.59,-251.22 4287.52,-245.52 4276.99,-244.4 4278.59,-251.22\"/>\n",
       "</g>\n",
       "<!-- python3&#45;colorama&#45;&gt;azure&#45;cli -->\n",
       "<g id=\"edge58\" class=\"edge\">\n",
       "<title>python3-colorama-&gt;azure-cli</title>\n",
       "<path fill=\"none\" stroke=\"green\" d=\"M2729.39,-304.56C3039.45,-302.75 3973.43,-293.85 4273.26,-252 4277.11,-251.46 4281.06,-250.79 4285.01,-250.04\"/>\n",
       "<polygon fill=\"green\" stroke=\"green\" points=\"4285.5,-253.51 4294.56,-248.01 4284.05,-246.66 4285.5,-253.51\"/>\n",
       "</g>\n",
       "<!-- python&#45;tox -->\n",
       "<g id=\"node41\" class=\"node\">\n",
       "<title>python-tox</title>\n",
       "<ellipse fill=\"none\" stroke=\"black\" cx=\"1860.26\" cy=\"-234\" rx=\"64.89\" ry=\"18\"/>\n",
       "<text text-anchor=\"middle\" x=\"1860.26\" y=\"-229.32\" font-family=\"Times,serif\" font-size=\"14.00\">python-tox</text>\n",
       "</g>\n",
       "<!-- python3&#45;colorama&#45;&gt;python&#45;tox -->\n",
       "<g id=\"edge59\" class=\"edge\">\n",
       "<title>python3-colorama-&gt;python-tox</title>\n",
       "<path fill=\"none\" stroke=\"green\" d=\"M2529.02,-302.19C2393.67,-297.28 2143.91,-284.37 1933.26,-252 1928.27,-251.23 1923.13,-250.31 1917.98,-249.3\"/>\n",
       "<polygon fill=\"green\" stroke=\"green\" points=\"1918.77,-245.88 1908.26,-247.26 1917.33,-252.74 1918.77,-245.88\"/>\n",
       "</g>\n",
       "<!-- python3&#45;gilt -->\n",
       "<g id=\"node42\" class=\"node\">\n",
       "<title>python3-gilt</title>\n",
       "<ellipse fill=\"none\" stroke=\"black\" cx=\"4532.26\" cy=\"-234\" rx=\"72.25\" ry=\"18\"/>\n",
       "<text text-anchor=\"middle\" x=\"4532.26\" y=\"-229.32\" font-family=\"Times,serif\" font-size=\"14.00\">python3-gilt</text>\n",
       "</g>\n",
       "<!-- python3&#45;colorama&#45;&gt;python3&#45;gilt -->\n",
       "<g id=\"edge61\" class=\"edge\">\n",
       "<title>python3-colorama-&gt;python3-gilt</title>\n",
       "<path fill=\"none\" stroke=\"red\" d=\"M2729.27,-304.26C3060.19,-301.5 4109.63,-289.91 4446.26,-252 4453.67,-251.16 4461.41,-250.03 4469.06,-248.73\"/>\n",
       "<polygon fill=\"red\" stroke=\"red\" points=\"4469.46,-252.21 4478.68,-247 4468.22,-245.32 4469.46,-252.21\"/>\n",
       "</g>\n",
       "<!-- python&#45;pyvirtualize -->\n",
       "<g id=\"node43\" class=\"node\">\n",
       "<title>python-pyvirtualize</title>\n",
       "<ellipse fill=\"none\" stroke=\"black\" cx=\"5373.26\" cy=\"-234\" rx=\"108.55\" ry=\"18\"/>\n",
       "<text text-anchor=\"middle\" x=\"5373.26\" y=\"-229.32\" font-family=\"Times,serif\" font-size=\"14.00\">python-pyvirtualize</text>\n",
       "</g>\n",
       "<!-- python3&#45;colorama&#45;&gt;python&#45;pyvirtualize -->\n",
       "<g id=\"edge62\" class=\"edge\">\n",
       "<title>python3-colorama-&gt;python-pyvirtualize</title>\n",
       "<path fill=\"none\" stroke=\"green\" d=\"M2729.47,-304.54C3148.26,-302.4 4747.01,-291.73 5250.26,-252 5261.57,-251.11 5273.44,-249.86 5285.15,-248.45\"/>\n",
       "<polygon fill=\"green\" stroke=\"green\" points=\"5285.32,-251.95 5294.81,-247.23 5284.45,-245.01 5285.32,-251.95\"/>\n",
       "</g>\n",
       "<!-- cephfs&#45;shell -->\n",
       "<g id=\"node44\" class=\"node\">\n",
       "<title>cephfs-shell</title>\n",
       "<ellipse fill=\"none\" stroke=\"black\" cx=\"4731.26\" cy=\"-234\" rx=\"70.67\" ry=\"18\"/>\n",
       "<text text-anchor=\"middle\" x=\"4731.26\" y=\"-229.32\" font-family=\"Times,serif\" font-size=\"14.00\">cephfs-shell</text>\n",
       "</g>\n",
       "<!-- python3&#45;colorama&#45;&gt;cephfs&#45;shell -->\n",
       "<g id=\"edge63\" class=\"edge\">\n",
       "<title>python3-colorama-&gt;cephfs-shell</title>\n",
       "<path fill=\"none\" stroke=\"red\" d=\"M2729.4,-304.63C3083.88,-302.99 4268.81,-294.39 4646.26,-252 4653.51,-251.19 4661.06,-250.07 4668.54,-248.8\"/>\n",
       "<polygon fill=\"red\" stroke=\"red\" points=\"4669.08,-252.26 4678.3,-247.03 4667.83,-245.37 4669.08,-252.26\"/>\n",
       "</g>\n",
       "<!-- xcat -->\n",
       "<g id=\"node45\" class=\"node\">\n",
       "<title>xcat</title>\n",
       "<ellipse fill=\"none\" stroke=\"black\" cx=\"4852.26\" cy=\"-234\" rx=\"32.27\" ry=\"18\"/>\n",
       "<text text-anchor=\"middle\" x=\"4852.26\" y=\"-229.32\" font-family=\"Times,serif\" font-size=\"14.00\">xcat</text>\n",
       "</g>\n",
       "<!-- python3&#45;colorama&#45;&gt;xcat -->\n",
       "<g id=\"edge64\" class=\"edge\">\n",
       "<title>python3-colorama-&gt;xcat</title>\n",
       "<path fill=\"none\" stroke=\"red\" d=\"M2729.38,-304.73C3131.68,-303.34 4606.58,-295.34 4811.26,-252 4813.4,-251.55 4815.58,-250.98 4817.76,-250.34\"/>\n",
       "<polygon fill=\"red\" stroke=\"red\" points=\"4818.74,-253.7 4827.02,-247.1 4816.43,-247.1 4818.74,-253.7\"/>\n",
       "</g>\n",
       "<!-- python3&#45;gabbi -->\n",
       "<g id=\"node46\" class=\"node\">\n",
       "<title>python3-gabbi</title>\n",
       "<ellipse fill=\"none\" stroke=\"black\" cx=\"4811.26\" cy=\"-162\" rx=\"83.3\" ry=\"18\"/>\n",
       "<text text-anchor=\"middle\" x=\"4811.26\" y=\"-157.32\" font-family=\"Times,serif\" font-size=\"14.00\">python3-gabbi</text>\n",
       "</g>\n",
       "<!-- python3&#45;colorama&#45;&gt;python3&#45;gabbi -->\n",
       "<g id=\"edge65\" class=\"edge\">\n",
       "<title>python3-colorama-&gt;python3-gabbi</title>\n",
       "<path fill=\"none\" stroke=\"red\" d=\"M2729.45,-304.3C3121.85,-301.35 4525.64,-288.28 4613.26,-252 4634.75,-243.1 4631.29,-227.94 4651.26,-216 4679.31,-199.22 4713.36,-186.99 4742.81,-178.53\"/>\n",
       "<polygon fill=\"red\" stroke=\"red\" points=\"4743.7,-181.92 4752.4,-175.88 4741.83,-175.18 4743.7,-181.92\"/>\n",
       "</g>\n",
       "<!-- python&#45;howdoi -->\n",
       "<g id=\"node47\" class=\"node\">\n",
       "<title>python-howdoi</title>\n",
       "<ellipse fill=\"none\" stroke=\"black\" cx=\"5584.26\" cy=\"-234\" rx=\"84.88\" ry=\"18\"/>\n",
       "<text text-anchor=\"middle\" x=\"5584.26\" y=\"-229.32\" font-family=\"Times,serif\" font-size=\"14.00\">python-howdoi</text>\n",
       "</g>\n",
       "<!-- python3&#45;colorama&#45;&gt;python&#45;howdoi -->\n",
       "<g id=\"edge66\" class=\"edge\">\n",
       "<title>python3-colorama-&gt;python-howdoi</title>\n",
       "<path fill=\"none\" stroke=\"green\" d=\"M2729.72,-305.33C3172.65,-306.43 4939.08,-307.21 5491.26,-252 5498.72,-251.25 5506.48,-250.23 5514.19,-249.06\"/>\n",
       "<polygon fill=\"green\" stroke=\"green\" points=\"5514.62,-252.54 5523.93,-247.48 5513.5,-245.63 5514.62,-252.54\"/>\n",
       "</g>\n",
       "<!-- tldr -->\n",
       "<g id=\"node48\" class=\"node\">\n",
       "<title>tldr</title>\n",
       "<ellipse fill=\"none\" stroke=\"black\" cx=\"5160.26\" cy=\"-234\" rx=\"29.64\" ry=\"18\"/>\n",
       "<text text-anchor=\"middle\" x=\"5160.26\" y=\"-229.32\" font-family=\"Times,serif\" font-size=\"14.00\">tldr</text>\n",
       "</g>\n",
       "<!-- python3&#45;colorama&#45;&gt;tldr -->\n",
       "<g id=\"edge67\" class=\"edge\">\n",
       "<title>python3-colorama-&gt;tldr</title>\n",
       "<path fill=\"none\" stroke=\"red\" d=\"M2729.72,-304.91C3166.1,-304.22 4871.49,-298.57 5107.26,-252 5112.74,-250.92 5118.43,-249.2 5123.99,-247.27\"/>\n",
       "<polygon fill=\"red\" stroke=\"red\" points=\"5124.87,-250.68 5133.03,-243.92 5122.44,-244.12 5124.87,-250.68\"/>\n",
       "</g>\n",
       "<!-- python3&#45;colorama&#45;&gt;tldr -->\n",
       "<g id=\"edge68\" class=\"edge\">\n",
       "<title>python3-colorama-&gt;tldr</title>\n",
       "<path fill=\"none\" stroke=\"green\" d=\"M2729.57,-304.92C3167.78,-304.28 4888.36,-298.79 5125.26,-252 5126.66,-251.72 5128.07,-251.41 5129.49,-251.05\"/>\n",
       "<polygon fill=\"green\" stroke=\"green\" points=\"5130.2,-254.49 5138.75,-248.24 5128.17,-247.8 5130.2,-254.49\"/>\n",
       "</g>\n",
       "<!-- tox -->\n",
       "<g id=\"node49\" class=\"node\">\n",
       "<title>tox</title>\n",
       "<ellipse fill=\"none\" stroke=\"black\" cx=\"1785.26\" cy=\"-162\" rx=\"27.01\" ry=\"18\"/>\n",
       "<text text-anchor=\"middle\" x=\"1785.26\" y=\"-157.32\" font-family=\"Times,serif\" font-size=\"14.00\">tox</text>\n",
       "</g>\n",
       "<!-- python3&#45;colorama&#45;&gt;tox -->\n",
       "<g id=\"edge70\" class=\"edge\">\n",
       "<title>python3-colorama-&gt;tox</title>\n",
       "<path fill=\"none\" stroke=\"red\" d=\"M2528.63,-302.31C2311.2,-295.97 1811.47,-278.55 1786.26,-252 1771.21,-236.15 1772.48,-210.65 1776.64,-190.99\"/>\n",
       "<polygon fill=\"red\" stroke=\"red\" points=\"1780,-191.95 1779.03,-181.4 1773.21,-190.26 1780,-191.95\"/>\n",
       "</g>\n",
       "<!-- python3&#45;pyvirtualize -->\n",
       "<g id=\"node50\" class=\"node\">\n",
       "<title>python3-pyvirtualize</title>\n",
       "<ellipse fill=\"none\" stroke=\"black\" cx=\"5309.26\" cy=\"-162\" rx=\"114.87\" ry=\"18\"/>\n",
       "<text text-anchor=\"middle\" x=\"5309.26\" y=\"-157.32\" font-family=\"Times,serif\" font-size=\"14.00\">python3-pyvirtualize</text>\n",
       "</g>\n",
       "<!-- python3&#45;colorama&#45;&gt;python3&#45;pyvirtualize -->\n",
       "<g id=\"edge71\" class=\"edge\">\n",
       "<title>python3-colorama-&gt;python3-pyvirtualize</title>\n",
       "<path fill=\"none\" stroke=\"red\" d=\"M2729.75,-304.99C3194.35,-304.7 5100.7,-300.55 5217.26,-252 5219.39,-251.11 5257.45,-213.94 5283.94,-187.92\"/>\n",
       "<polygon fill=\"red\" stroke=\"red\" points=\"5286.32,-190.49 5291,-180.99 5281.41,-185.5 5286.32,-190.49\"/>\n",
       "</g>\n",
       "<!-- howdoi -->\n",
       "<g id=\"node51\" class=\"node\">\n",
       "<title>howdoi</title>\n",
       "<ellipse fill=\"none\" stroke=\"black\" cx=\"5640.26\" cy=\"-162\" rx=\"47\" ry=\"18\"/>\n",
       "<text text-anchor=\"middle\" x=\"5640.26\" y=\"-157.32\" font-family=\"Times,serif\" font-size=\"14.00\">howdoi</text>\n",
       "</g>\n",
       "<!-- python3&#45;colorama&#45;&gt;howdoi -->\n",
       "<g id=\"edge72\" class=\"edge\">\n",
       "<title>python3-colorama-&gt;howdoi</title>\n",
       "<path fill=\"none\" stroke=\"red\" d=\"M2729.55,-305.17C3252.6,-305.81 5625.42,-305.77 5678.26,-252 5695.72,-234.23 5680.2,-207.18 5664.05,-187.57\"/>\n",
       "<polygon fill=\"red\" stroke=\"red\" points=\"5666.91,-185.52 5657.7,-180.28 5661.63,-190.12 5666.91,-185.52\"/>\n",
       "</g>\n",
       "<!-- python&#45;black -->\n",
       "<g id=\"node52\" class=\"node\">\n",
       "<title>python-black</title>\n",
       "<ellipse fill=\"none\" stroke=\"black\" cx=\"3833.26\" cy=\"-234\" rx=\"75.41\" ry=\"18\"/>\n",
       "<text text-anchor=\"middle\" x=\"3833.26\" y=\"-229.32\" font-family=\"Times,serif\" font-size=\"14.00\">python-black</text>\n",
       "</g>\n",
       "<!-- python3&#45;colorama&#45;&gt;python&#45;black -->\n",
       "<g id=\"edge73\" class=\"edge\">\n",
       "<title>python3-colorama-&gt;python-black</title>\n",
       "<path fill=\"none\" stroke=\"green\" d=\"M2729.45,-304.97C2925.82,-303.85 3372.02,-296.16 3744.26,-252 3751.71,-251.12 3759.47,-249.97 3767.18,-248.69\"/>\n",
       "<polygon fill=\"green\" stroke=\"green\" points=\"3767.63,-252.17 3776.88,-247 3766.43,-245.27 3767.63,-252.17\"/>\n",
       "</g>\n",
       "<!-- awscli2&#45;&gt;awscli2 -->\n",
       "<g id=\"edge74\" class=\"edge\">\n",
       "<title>awscli2-&gt;awscli2</title>\n",
       "<path fill=\"none\" stroke=\"blue\" d=\"M2537.51,-247.1C2554.6,-248.91 2569.83,-244.55 2569.83,-234 2569.83,-225.84 2560.72,-221.38 2548.68,-220.62\"/>\n",
       "<polygon fill=\"blue\" stroke=\"blue\" points=\"2548.93,-217.11 2539.02,-220.86 2549.11,-224.11 2548.93,-217.11\"/>\n",
       "</g>\n",
       "<!-- git&#45;up&#45;&gt;git&#45;up -->\n",
       "<g id=\"edge75\" class=\"edge\">\n",
       "<title>git-up-&gt;git-up</title>\n",
       "<path fill=\"none\" stroke=\"blue\" d=\"M2657.55,-246.99C2672.97,-249.09 2686.94,-244.76 2686.94,-234 2686.94,-226.02 2679.24,-221.57 2668.97,-220.67\"/>\n",
       "<polygon fill=\"blue\" stroke=\"blue\" points=\"2668.95,-217.17 2659.06,-220.97 2669.16,-224.17 2668.95,-217.17\"/>\n",
       "</g>\n",
       "<!-- thefuck&#45;&gt;thefuck -->\n",
       "<g id=\"edge79\" class=\"edge\">\n",
       "<title>thefuck-&gt;thefuck</title>\n",
       "<path fill=\"none\" stroke=\"blue\" d=\"M4151.51,-103.1C4168.6,-104.91 4183.83,-100.55 4183.83,-90 4183.83,-81.84 4174.72,-77.38 4162.68,-76.62\"/>\n",
       "<polygon fill=\"blue\" stroke=\"blue\" points=\"4162.93,-73.11 4153.02,-76.86 4163.11,-80.11 4162.93,-73.11\"/>\n",
       "</g>\n",
       "<!-- RBTools&#45;&gt;RBTools -->\n",
       "<g id=\"edge80\" class=\"edge\">\n",
       "<title>RBTools-&gt;RBTools</title>\n",
       "<path fill=\"none\" stroke=\"blue\" d=\"M3023.85,-247.17C3041.45,-248.8 3056.99,-244.41 3056.99,-234 3056.99,-225.95 3047.7,-221.5 3035.34,-220.65\"/>\n",
       "<polygon fill=\"blue\" stroke=\"blue\" points=\"3035.31,-217.15 3025.36,-220.81 3035.42,-224.15 3035.31,-217.15\"/>\n",
       "</g>\n",
       "<!-- conan&#45;&gt;conan -->\n",
       "<g id=\"edge81\" class=\"edge\">\n",
       "<title>conan-&gt;conan</title>\n",
       "<path fill=\"none\" stroke=\"blue\" d=\"M3144.55,-246.99C3159.97,-249.09 3173.94,-244.76 3173.94,-234 3173.94,-226.02 3166.24,-221.57 3155.97,-220.67\"/>\n",
       "<polygon fill=\"blue\" stroke=\"blue\" points=\"3155.95,-217.17 3146.06,-220.97 3156.16,-224.17 3155.95,-217.17\"/>\n",
       "</g>\n",
       "<!-- python&#45;gabbi&#45;&gt;python3&#45;gabbi -->\n",
       "<g id=\"edge82\" class=\"edge\">\n",
       "<title>python-gabbi-&gt;python3-gabbi</title>\n",
       "<path fill=\"none\" stroke=\"blue\" d=\"M4957.81,-218.15C4929.98,-207.68 4892.45,-193.56 4862.34,-182.22\"/>\n",
       "<polygon fill=\"blue\" stroke=\"blue\" points=\"4863.62,-178.97 4853.02,-178.72 4861.15,-185.52 4863.62,-178.97\"/>\n",
       "</g>\n",
       "<!-- python&#45;sphinx&#45;autobuild&#45;&gt;python3&#45;sphinx&#45;autobuild -->\n",
       "<g id=\"edge83\" class=\"edge\">\n",
       "<title>python-sphinx-autobuild-&gt;python3-sphinx-autobuild</title>\n",
       "<path fill=\"none\" stroke=\"blue\" d=\"M2246.89,-216.05C2237.21,-207.58 2225.31,-197.17 2214.62,-187.82\"/>\n",
       "<polygon fill=\"blue\" stroke=\"blue\" points=\"2216.97,-185.22 2207.14,-181.27 2212.36,-190.49 2216.97,-185.22\"/>\n",
       "</g>\n",
       "<!-- python&#45;migen&#45;&gt;python3&#45;migen -->\n",
       "<g id=\"edge84\" class=\"edge\">\n",
       "<title>python-migen-&gt;python3-migen</title>\n",
       "<path fill=\"none\" stroke=\"blue\" d=\"M1468.29,-71.7C1467.03,-64.32 1465.52,-55.52 1464.1,-47.25\"/>\n",
       "<polygon fill=\"blue\" stroke=\"blue\" points=\"1467.58,-46.86 1462.44,-37.6 1460.68,-48.04 1467.58,-46.86\"/>\n",
       "</g>\n",
       "<!-- python&#45;spyking&#45;circus&#45;&gt;python3&#45;spyking&#45;circus -->\n",
       "<g id=\"edge85\" class=\"edge\">\n",
       "<title>python-spyking-circus-&gt;python3-spyking-circus</title>\n",
       "<path fill=\"none\" stroke=\"blue\" d=\"M3331.41,-216.05C3340.4,-207.67 3351.42,-197.38 3361.37,-188.1\"/>\n",
       "<polygon fill=\"blue\" stroke=\"blue\" points=\"3363.72,-190.69 3368.64,-181.31 3358.94,-185.57 3363.72,-190.69\"/>\n",
       "</g>\n",
       "<!-- python&#45;cvdupdate&#45;&gt;python3&#45;cvdupdate -->\n",
       "<g id=\"edge86\" class=\"edge\">\n",
       "<title>python-cvdupdate-&gt;python3-cvdupdate</title>\n",
       "<path fill=\"none\" stroke=\"blue\" d=\"M4318.75,-72.05C4326.26,-63.84 4335.45,-53.79 4343.8,-44.66\"/>\n",
       "<polygon fill=\"blue\" stroke=\"blue\" points=\"4346.28,-47.13 4350.44,-37.39 4341.11,-42.41 4346.28,-47.13\"/>\n",
       "</g>\n",
       "<!-- python&#45;interrogate&#45;&gt;python3&#45;interrogate -->\n",
       "<g id=\"edge87\" class=\"edge\">\n",
       "<title>python-interrogate-&gt;python3-interrogate</title>\n",
       "<path fill=\"none\" stroke=\"blue\" d=\"M2770.42,-216.94C2744.96,-206.93 2711.97,-193.95 2684.73,-183.24\"/>\n",
       "<polygon fill=\"blue\" stroke=\"blue\" points=\"2686.21,-180.06 2675.62,-179.66 2683.64,-186.58 2686.21,-180.06\"/>\n",
       "</g>\n",
       "<!-- azure&#45;cli&#45;&gt;azure&#45;cli -->\n",
       "<g id=\"edge88\" class=\"edge\">\n",
       "<title>azure-cli-&gt;azure-cli</title>\n",
       "<path fill=\"none\" stroke=\"blue\" d=\"M4369.95,-247.17C4388.09,-248.8 4404.09,-244.41 4404.09,-234 4404.09,-225.87 4394.33,-221.41 4381.4,-220.63\"/>\n",
       "<polygon fill=\"blue\" stroke=\"blue\" points=\"4381.4,-217.13 4371.47,-220.8 4381.53,-224.12 4381.4,-217.13\"/>\n",
       "</g>\n",
       "<!-- python&#45;tox&#45;&gt;tox -->\n",
       "<g id=\"edge89\" class=\"edge\">\n",
       "<title>python-tox-&gt;tox</title>\n",
       "<path fill=\"none\" stroke=\"blue\" d=\"M1842.48,-216.41C1832.37,-206.97 1819.57,-195.03 1808.65,-184.83\"/>\n",
       "<polygon fill=\"blue\" stroke=\"blue\" points=\"1811.18,-182.4 1801.48,-178.14 1806.4,-187.52 1811.18,-182.4\"/>\n",
       "</g>\n",
       "<!-- python&#45;pyvirtualize&#45;&gt;python3&#45;pyvirtualize -->\n",
       "<g id=\"edge92\" class=\"edge\">\n",
       "<title>python-pyvirtualize-&gt;python3-pyvirtualize</title>\n",
       "<path fill=\"none\" stroke=\"blue\" d=\"M5357.44,-215.7C5349.92,-207.47 5340.78,-197.48 5332.5,-188.42\"/>\n",
       "<polygon fill=\"blue\" stroke=\"blue\" points=\"5335.25,-186.24 5325.92,-181.22 5330.08,-190.96 5335.25,-186.24\"/>\n",
       "</g>\n",
       "<!-- xcat&#45;&gt;xcat -->\n",
       "<g id=\"edge93\" class=\"edge\">\n",
       "<title>xcat-&gt;xcat</title>\n",
       "<path fill=\"none\" stroke=\"blue\" d=\"M4875.79,-246.71C4889.6,-249.42 4902.52,-245.18 4902.52,-234 4902.52,-226.05 4895.99,-221.61 4887.25,-220.68\"/>\n",
       "<polygon fill=\"blue\" stroke=\"blue\" points=\"4887.1,-217.19 4877.3,-221.21 4887.47,-224.18 4887.1,-217.19\"/>\n",
       "</g>\n",
       "<!-- python&#45;howdoi&#45;&gt;howdoi -->\n",
       "<g id=\"edge94\" class=\"edge\">\n",
       "<title>python-howdoi-&gt;howdoi</title>\n",
       "<path fill=\"none\" stroke=\"blue\" d=\"M5597.81,-216.05C5604.51,-207.68 5612.73,-197.4 5620.15,-188.13\"/>\n",
       "<polygon fill=\"blue\" stroke=\"blue\" points=\"5622.75,-190.48 5626.27,-180.49 5617.29,-186.11 5622.75,-190.48\"/>\n",
       "</g>\n",
       "<!-- tldr&#45;&gt;tldr -->\n",
       "<g id=\"edge95\" class=\"edge\">\n",
       "<title>tldr-&gt;tldr</title>\n",
       "<path fill=\"none\" stroke=\"blue\" d=\"M5181.81,-246.55C5195.18,-249.57 5207.89,-245.39 5207.89,-234 5207.89,-225.99 5201.61,-221.55 5193.23,-220.66\"/>\n",
       "<polygon fill=\"blue\" stroke=\"blue\" points=\"5193.06,-217.17 5183.32,-221.35 5193.54,-224.15 5193.06,-217.17\"/>\n",
       "</g>\n",
       "<!-- tox&#45;&gt;python&#45;platformio -->\n",
       "<g id=\"edge100\" class=\"edge\">\n",
       "<title>tox-&gt;python-platformio</title>\n",
       "<path fill=\"none\" stroke=\"green\" d=\"M1758.68,-157.62C1681.52,-147.82 1454.83,-119.02 1326.17,-102.68\"/>\n",
       "<polygon fill=\"green\" stroke=\"green\" points=\"1326.66,-99.21 1316.3,-101.42 1325.78,-106.16 1326.66,-99.21\"/>\n",
       "</g>\n",
       "<!-- tox&#45;&gt;jrnl -->\n",
       "<g id=\"edge101\" class=\"edge\">\n",
       "<title>tox-&gt;jrnl</title>\n",
       "<path fill=\"none\" stroke=\"green\" d=\"M1761.95,-152.28C1729.51,-140.13 1670.52,-118.05 1632.91,-103.97\"/>\n",
       "<polygon fill=\"green\" stroke=\"green\" points=\"1634.46,-100.81 1623.87,-100.59 1632,-107.37 1634.46,-100.81\"/>\n",
       "</g>\n",
       "<!-- tox&#45;&gt;python&#45;terminaltables -->\n",
       "<g id=\"edge99\" class=\"edge\">\n",
       "<title>tox-&gt;python-terminaltables</title>\n",
       "<path fill=\"none\" stroke=\"green\" d=\"M1785.26,-143.7C1785.26,-136.41 1785.26,-127.73 1785.26,-119.54\"/>\n",
       "<polygon fill=\"green\" stroke=\"green\" points=\"1788.76,-119.62 1785.26,-109.62 1781.76,-119.62 1788.76,-119.62\"/>\n",
       "</g>\n",
       "<!-- tox&#45;&gt;python&#45;aiosmtpd -->\n",
       "<g id=\"edge102\" class=\"edge\">\n",
       "<title>tox-&gt;python-aiosmtpd</title>\n",
       "<path fill=\"none\" stroke=\"green\" d=\"M1812.21,-159.16C1858.46,-156.01 1955.89,-149.4 2038.26,-144 2300.97,-126.78 2610.57,-107.17 2766.58,-97.33\"/>\n",
       "<polygon fill=\"green\" stroke=\"green\" points=\"2766.73,-100.83 2776.49,-96.71 2766.29,-93.84 2766.73,-100.83\"/>\n",
       "</g>\n",
       "<!-- tox&#45;&gt;thefuck -->\n",
       "<g id=\"edge103\" class=\"edge\">\n",
       "<title>tox-&gt;thefuck</title>\n",
       "<path fill=\"none\" stroke=\"green\" d=\"M1812.19,-158.82C1858.41,-155.16 1955.8,-147.82 2038.26,-144 2836.64,-107.02 3808.76,-94.36 4057.22,-91.62\"/>\n",
       "<polygon fill=\"green\" stroke=\"green\" points=\"4057.03,-95.12 4066.99,-91.51 4056.95,-88.12 4057.03,-95.12\"/>\n",
       "</g>\n",
       "<!-- tox&#45;&gt;python&#45;migen -->\n",
       "<g id=\"edge104\" class=\"edge\">\n",
       "<title>tox-&gt;python-migen</title>\n",
       "<path fill=\"none\" stroke=\"green\" d=\"M1759.83,-155.33C1711.97,-144.66 1607.13,-121.29 1537.88,-105.85\"/>\n",
       "<polygon fill=\"green\" stroke=\"green\" points=\"1538.66,-102.44 1528.14,-103.68 1537.13,-109.27 1538.66,-102.44\"/>\n",
       "</g>\n",
       "<!-- tox&#45;&gt;python&#45;cvdupdate -->\n",
       "<g id=\"edge105\" class=\"edge\">\n",
       "<title>tox-&gt;python-cvdupdate</title>\n",
       "<path fill=\"none\" stroke=\"green\" d=\"M1812.19,-158.74C1858.4,-154.97 1955.79,-147.46 2038.26,-144 2516.79,-123.94 3716.03,-148.67 4193.26,-108 4202.53,-107.21 4212.2,-106.12 4221.8,-104.86\"/>\n",
       "<polygon fill=\"green\" stroke=\"green\" points=\"4222.08,-108.35 4231.51,-103.52 4221.13,-101.42 4222.08,-108.35\"/>\n",
       "</g>\n",
       "<!-- python&#45;black&#45;&gt;black+colorama -->\n",
       "<g id=\"edge106\" class=\"edge\">\n",
       "<title>python-black-&gt;black+colorama</title>\n",
       "<path fill=\"none\" stroke=\"blue\" d=\"M3847.78,-216.05C3854.93,-207.71 3863.69,-197.49 3871.61,-188.25\"/>\n",
       "<polygon fill=\"blue\" stroke=\"blue\" points=\"3874.03,-190.81 3877.88,-180.94 3868.72,-186.25 3874.03,-190.81\"/>\n",
       "</g>\n",
       "</g>\n",
       "</svg>"
      ],
      "text/plain": [
       "<IPython.core.display.SVG object>"
      ]
     },
     "metadata": {},
     "output_type": "display_data"
    }
   ],
   "source": [
    "draw_graphviz(sub)"
   ]
  },
  {
   "cell_type": "code",
   "execution_count": 21,
   "id": "8d3ced4b-6d12-4c6a-8365-84a3c0ad95d4",
   "metadata": {
    "scrolled": true
   },
   "outputs": [
    {
     "data": {
      "text/plain": [
       "'{\"data\": [], \"directed\": true, \"multigraph\": true, \"elements\": {\"nodes\": [{\"data\": {\"id\": \"black+colorama\", \"value\": \"black+colorama\", \"name\": \"black+colorama\"}}, {\"data\": {\"id\": \"borgmatic\", \"value\": \"borgmatic\", \"name\": \"borgmatic\"}}, {\"data\": {\"id\": \"python3-interrogate\", \"value\": \"python3-interrogate\", \"name\": \"python3-interrogate\"}}, {\"data\": {\"id\": \"python-shodan\", \"value\": \"python-shodan\", \"name\": \"python-shodan\"}}, {\"data\": {\"id\": \"python3-migen\", \"value\": \"python3-migen\", \"name\": \"python3-migen\"}}, {\"data\": {\"id\": \"python3-shamir-mnemonic\", \"value\": \"python3-shamir-mnemonic\", \"name\": \"python3-shamir-mnemonic\"}}, {\"data\": {\"id\": \"python3-pepc\", \"value\": \"python3-pepc\", \"name\": \"python3-pepc\"}}, {\"data\": {\"id\": \"python3-platformio\", \"value\": \"python3-platformio\", \"name\": \"python3-platformio\"}}, {\"data\": {\"id\": \"python-terminaltables\", \"value\": \"python-terminaltables\", \"name\": \"python-terminaltables\"}}, {\"data\": {\"id\": \"python-crayons\", \"value\": \"python-crayons\", \"name\": \"python-crayons\"}}, {\"data\": {\"id\": \"python3-spyking-circus\", \"value\": \"python3-spyking-circus\", \"name\": \"python3-spyking-circus\"}}, {\"data\": {\"id\": \"python3-crayons\", \"value\": \"python3-crayons\", \"name\": \"python3-crayons\"}}, {\"data\": {\"id\": \"python-jedi\", \"value\": \"python-jedi\", \"name\": \"python-jedi\"}}, {\"data\": {\"id\": \"python3-cvdupdate\", \"value\": \"python3-cvdupdate\", \"name\": \"python3-cvdupdate\"}}, {\"data\": {\"id\": \"python3-sphinx-autobuild\", \"value\": \"python3-sphinx-autobuild\", \"name\": \"python3-sphinx-autobuild\"}}, {\"data\": {\"id\": \"python-tmuxp\", \"value\": \"python-tmuxp\", \"name\": \"python-tmuxp\"}}, {\"data\": {\"id\": \"python3-wult\", \"value\": \"python3-wult\", \"name\": \"python3-wult\"}}, {\"data\": {\"id\": \"python3-tmuxp\", \"value\": \"python3-tmuxp\", \"name\": \"python3-tmuxp\"}}, {\"data\": {\"id\": \"python-platformio\", \"value\": \"python-platformio\", \"name\": \"python-platformio\"}}, {\"data\": {\"id\": \"jrnl\", \"value\": \"jrnl\", \"name\": \"jrnl\"}}, {\"data\": {\"id\": \"python3-colorama\", \"value\": \"python3-colorama\", \"name\": \"python3-colorama\"}}, {\"data\": {\"id\": \"python-aiosmtpd\", \"value\": \"python-aiosmtpd\", \"name\": \"python-aiosmtpd\"}}, {\"data\": {\"id\": \"awscli2\", \"value\": \"awscli2\", \"name\": \"awscli2\"}}, {\"data\": {\"id\": \"git-up\", \"value\": \"git-up\", \"name\": \"git-up\"}}, {\"data\": {\"id\": \"stats-collect\", \"value\": \"stats-collect\", \"name\": \"stats-collect\"}}, {\"data\": {\"id\": \"thefuck\", \"value\": \"thefuck\", \"name\": \"thefuck\"}}, {\"data\": {\"id\": \"RBTools\", \"value\": \"RBTools\", \"name\": \"RBTools\"}}, {\"data\": {\"id\": \"conan\", \"value\": \"conan\", \"name\": \"conan\"}}, {\"data\": {\"id\": \"python3-shodan\", \"value\": \"python3-shodan\", \"name\": \"python3-shodan\"}}, {\"data\": {\"id\": \"python-gabbi\", \"value\": \"python-gabbi\", \"name\": \"python-gabbi\"}}, {\"data\": {\"id\": \"python-sphinx-autobuild\", \"value\": \"python-sphinx-autobuild\", \"name\": \"python-sphinx-autobuild\"}}, {\"data\": {\"id\": \"python3-socialscan\", \"value\": \"python3-socialscan\", \"name\": \"python3-socialscan\"}}, {\"data\": {\"id\": \"python-migen\", \"value\": \"python-migen\", \"name\": \"python-migen\"}}, {\"data\": {\"id\": \"python-spyking-circus\", \"value\": \"python-spyking-circus\", \"name\": \"python-spyking-circus\"}}, {\"data\": {\"id\": \"python-cvdupdate\", \"value\": \"python-cvdupdate\", \"name\": \"python-cvdupdate\"}}, {\"data\": {\"id\": \"python3-pytest-watch\", \"value\": \"python3-pytest-watch\", \"name\": \"python3-pytest-watch\"}}, {\"data\": {\"id\": \"python-interrogate\", \"value\": \"python-interrogate\", \"name\": \"python-interrogate\"}}, {\"data\": {\"id\": \"azure-cli\", \"value\": \"azure-cli\", \"name\": \"azure-cli\"}}, {\"data\": {\"id\": \"python-tox\", \"value\": \"python-tox\", \"name\": \"python-tox\"}}, {\"data\": {\"id\": \"wult\", \"value\": \"wult\", \"name\": \"wult\"}}, {\"data\": {\"id\": \"python3-gilt\", \"value\": \"python3-gilt\", \"name\": \"python3-gilt\"}}, {\"data\": {\"id\": \"python-pyvirtualize\", \"value\": \"python-pyvirtualize\", \"name\": \"python-pyvirtualize\"}}, {\"data\": {\"id\": \"cephfs-shell\", \"value\": \"cephfs-shell\", \"name\": \"cephfs-shell\"}}, {\"data\": {\"id\": \"xcat\", \"value\": \"xcat\", \"name\": \"xcat\"}}, {\"data\": {\"id\": \"python3-gabbi\", \"value\": \"python3-gabbi\", \"name\": \"python3-gabbi\"}}, {\"data\": {\"id\": \"python-howdoi\", \"value\": \"python-howdoi\", \"name\": \"python-howdoi\"}}, {\"data\": {\"id\": \"tldr\", \"value\": \"tldr\", \"name\": \"tldr\"}}, {\"data\": {\"id\": \"pepc\", \"value\": \"pepc\", \"name\": \"pepc\"}}, {\"data\": {\"id\": \"tox\", \"value\": \"tox\", \"name\": \"tox\"}}, {\"data\": {\"id\": \"python3-pyvirtualize\", \"value\": \"python3-pyvirtualize\", \"name\": \"python3-pyvirtualize\"}}, {\"data\": {\"id\": \"howdoi\", \"value\": \"howdoi\", \"name\": \"howdoi\"}}, {\"data\": {\"id\": \"python-black\", \"value\": \"python-black\", \"name\": \"python-black\"}}], \"edges\": [{\"data\": {\"color\": \"blue\", \"source\": \"borgmatic\", \"target\": \"borgmatic\", \"key\": 0}}, {\"data\": {\"color\": \"blue\", \"source\": \"python-shodan\", \"target\": \"python3-shodan\", \"key\": 0}}, {\"data\": {\"color\": \"red\", \"source\": \"python3-pepc\", \"target\": \"pepc\", \"key\": 0}}, {\"data\": {\"color\": \"red\", \"source\": \"python3-pepc\", \"target\": \"python3-wult\", \"key\": 0}}, {\"data\": {\"color\": \"red\", \"source\": \"python3-pepc\", \"target\": \"stats-collect\", \"key\": 0}}, {\"data\": {\"color\": \"green\", \"source\": \"python3-pepc\", \"target\": \"stats-collect\", \"key\": 1}}, {\"data\": {\"color\": \"green\", \"source\": \"python3-pepc\", \"target\": \"wult\", \"key\": 0}}, {\"data\": {\"color\": \"blue\", \"source\": \"python-crayons\", \"target\": \"python3-crayons\", \"key\": 0}}, {\"data\": {\"color\": \"blue\", \"source\": \"python-tmuxp\", \"target\": \"python3-tmuxp\", \"key\": 0}}, {\"data\": {\"color\": \"red\", \"source\": \"python3-wult\", \"target\": \"wult\", \"key\": 0}}, {\"data\": {\"color\": \"blue\", \"source\": \"python-platformio\", \"target\": \"python3-platformio\", \"key\": 0}}, {\"data\": {\"color\": \"blue\", \"source\": \"jrnl\", \"target\": \"jrnl\", \"key\": 0}}, {\"data\": {\"color\": \"red\", \"source\": \"python3-colorama\", \"target\": \"RBTools\", \"key\": 0}}, {\"data\": {\"color\": \"green\", \"source\": \"python3-colorama\", \"target\": \"RBTools\", \"key\": 1}}, {\"data\": {\"color\": \"red\", \"source\": \"python3-colorama\", \"target\": \"awscli2\", \"key\": 0}}, {\"data\": {\"color\": \"green\", \"source\": \"python3-colorama\", \"target\": \"awscli2\", \"key\": 1}}, {\"data\": {\"color\": \"red\", \"source\": \"python3-colorama\", \"target\": \"azure-cli\", \"key\": 0}}, {\"data\": {\"color\": \"green\", \"source\": \"python3-colorama\", \"target\": \"azure-cli\", \"key\": 1}}, {\"data\": {\"color\": \"red\", \"source\": \"python3-colorama\", \"target\": \"black+colorama\", \"key\": 0}}, {\"data\": {\"color\": \"red\", \"source\": \"python3-colorama\", \"target\": \"borgmatic\", \"key\": 0}}, {\"data\": {\"color\": \"green\", \"source\": \"python3-colorama\", \"target\": \"borgmatic\", \"key\": 1}}, {\"data\": {\"color\": \"red\", \"source\": \"python3-colorama\", \"target\": \"cephfs-shell\", \"key\": 0}}, {\"data\": {\"color\": \"red\", \"source\": \"python3-colorama\", \"target\": \"conan\", \"key\": 0}}, {\"data\": {\"color\": \"green\", \"source\": \"python3-colorama\", \"target\": \"conan\", \"key\": 1}}, {\"data\": {\"color\": \"red\", \"source\": \"python3-colorama\", \"target\": \"git-up\", \"key\": 0}}, {\"data\": {\"color\": \"green\", \"source\": \"python3-colorama\", \"target\": \"git-up\", \"key\": 1}}, {\"data\": {\"color\": \"red\", \"source\": \"python3-colorama\", \"target\": \"howdoi\", \"key\": 0}}, {\"data\": {\"color\": \"red\", \"source\": \"python3-colorama\", \"target\": \"jrnl\", \"key\": 0}}, {\"data\": {\"color\": \"green\", \"source\": \"python3-colorama\", \"target\": \"jrnl\", \"key\": 1}}, {\"data\": {\"color\": \"red\", \"source\": \"python3-colorama\", \"target\": \"python3-crayons\", \"key\": 0}}, {\"data\": {\"color\": \"red\", \"source\": \"python3-colorama\", \"target\": \"python3-cvdupdate\", \"key\": 0}}, {\"data\": {\"color\": \"red\", \"source\": \"python3-colorama\", \"target\": \"python3-gabbi\", \"key\": 0}}, {\"data\": {\"color\": \"red\", \"source\": \"python3-colorama\", \"target\": \"python3-gilt\", \"key\": 0}}, {\"data\": {\"color\": \"red\", \"source\": \"python3-colorama\", \"target\": \"python3-interrogate\", \"key\": 0}}, {\"data\": {\"color\": \"red\", \"source\": \"python3-colorama\", \"target\": \"python3-migen\", \"key\": 0}}, {\"data\": {\"color\": \"red\", \"source\": \"python3-colorama\", \"target\": \"python3-pepc\", \"key\": 0}}, {\"data\": {\"color\": \"red\", \"source\": \"python3-colorama\", \"target\": \"python3-platformio\", \"key\": 0}}, {\"data\": {\"color\": \"red\", \"source\": \"python3-colorama\", \"target\": \"python3-pytest-watch\", \"key\": 0}}, {\"data\": {\"color\": \"red\", \"source\": \"python3-colorama\", \"target\": \"python3-pyvirtualize\", \"key\": 0}}, {\"data\": {\"color\": \"red\", \"source\": \"python3-colorama\", \"target\": \"python3-shamir-mnemonic\", \"key\": 0}}, {\"data\": {\"color\": \"red\", \"source\": \"python3-colorama\", \"target\": \"python3-shodan\", \"key\": 0}}, {\"data\": {\"color\": \"red\", \"source\": \"python3-colorama\", \"target\": \"python3-socialscan\", \"key\": 0}}, {\"data\": {\"color\": \"red\", \"source\": \"python3-colorama\", \"target\": \"python3-sphinx-autobuild\", \"key\": 0}}, {\"data\": {\"color\": \"red\", \"source\": \"python3-colorama\", \"target\": \"python3-spyking-circus\", \"key\": 0}}, {\"data\": {\"color\": \"red\", \"source\": \"python3-colorama\", \"target\": \"python3-tmuxp\", \"key\": 0}}, {\"data\": {\"color\": \"red\", \"source\": \"python3-colorama\", \"target\": \"python3-wult\", \"key\": 0}}, {\"data\": {\"color\": \"red\", \"source\": \"python3-colorama\", \"target\": \"stats-collect\", \"key\": 0}}, {\"data\": {\"color\": \"green\", \"source\": \"python3-colorama\", \"target\": \"stats-collect\", \"key\": 1}}, {\"data\": {\"color\": \"red\", \"source\": \"python3-colorama\", \"target\": \"thefuck\", \"key\": 0}}, {\"data\": {\"color\": \"green\", \"source\": \"python3-colorama\", \"target\": \"thefuck\", \"key\": 1}}, {\"data\": {\"color\": \"red\", \"source\": \"python3-colorama\", \"target\": \"tldr\", \"key\": 0}}, {\"data\": {\"color\": \"green\", \"source\": \"python3-colorama\", \"target\": \"tldr\", \"key\": 1}}, {\"data\": {\"color\": \"red\", \"source\": \"python3-colorama\", \"target\": \"tox\", \"key\": 0}}, {\"data\": {\"color\": \"red\", \"source\": \"python3-colorama\", \"target\": \"xcat\", \"key\": 0}}, {\"data\": {\"color\": \"green\", \"source\": \"python3-colorama\", \"target\": \"pepc\", \"key\": 0}}, {\"data\": {\"color\": \"green\", \"source\": \"python3-colorama\", \"target\": \"python-aiosmtpd\", \"key\": 0}}, {\"data\": {\"color\": \"green\", \"source\": \"python3-colorama\", \"target\": \"python-black\", \"key\": 0}}, {\"data\": {\"color\": \"green\", \"source\": \"python3-colorama\", \"target\": \"python-crayons\", \"key\": 0}}, {\"data\": {\"color\": \"green\", \"source\": \"python3-colorama\", \"target\": \"python-cvdupdate\", \"key\": 0}}, {\"data\": {\"color\": \"green\", \"source\": \"python3-colorama\", \"target\": \"python-gabbi\", \"key\": 0}}, {\"data\": {\"color\": \"green\", \"source\": \"python3-colorama\", \"target\": \"python-howdoi\", \"key\": 0}}, {\"data\": {\"color\": \"green\", \"source\": \"python3-colorama\", \"target\": \"python-interrogate\", \"key\": 0}}, {\"data\": {\"color\": \"green\", \"source\": \"python3-colorama\", \"target\": \"python-jedi\", \"key\": 0}}, {\"data\": {\"color\": \"green\", \"source\": \"python3-colorama\", \"target\": \"python-migen\", \"key\": 0}}, {\"data\": {\"color\": \"green\", \"source\": \"python3-colorama\", \"target\": \"python-platformio\", \"key\": 0}}, {\"data\": {\"color\": \"green\", \"source\": \"python3-colorama\", \"target\": \"python-pyvirtualize\", \"key\": 0}}, {\"data\": {\"color\": \"green\", \"source\": \"python3-colorama\", \"target\": \"python-shodan\", \"key\": 0}}, {\"data\": {\"color\": \"green\", \"source\": \"python3-colorama\", \"target\": \"python-sphinx-autobuild\", \"key\": 0}}, {\"data\": {\"color\": \"green\", \"source\": \"python3-colorama\", \"target\": \"python-spyking-circus\", \"key\": 0}}, {\"data\": {\"color\": \"green\", \"source\": \"python3-colorama\", \"target\": \"python-terminaltables\", \"key\": 0}}, {\"data\": {\"color\": \"green\", \"source\": \"python3-colorama\", \"target\": \"python-tmuxp\", \"key\": 0}}, {\"data\": {\"color\": \"green\", \"source\": \"python3-colorama\", \"target\": \"python-tox\", \"key\": 0}}, {\"data\": {\"color\": \"green\", \"source\": \"python3-colorama\", \"target\": \"wult\", \"key\": 0}}, {\"data\": {\"color\": \"blue\", \"source\": \"awscli2\", \"target\": \"awscli2\", \"key\": 0}}, {\"data\": {\"color\": \"blue\", \"source\": \"git-up\", \"target\": \"git-up\", \"key\": 0}}, {\"data\": {\"color\": \"red\", \"source\": \"stats-collect\", \"target\": \"python3-wult\", \"key\": 0}}, {\"data\": {\"color\": \"blue\", \"source\": \"stats-collect\", \"target\": \"stats-collect\", \"key\": 0}}, {\"data\": {\"color\": \"green\", \"source\": \"stats-collect\", \"target\": \"wult\", \"key\": 0}}, {\"data\": {\"color\": \"blue\", \"source\": \"thefuck\", \"target\": \"thefuck\", \"key\": 0}}, {\"data\": {\"color\": \"blue\", \"source\": \"RBTools\", \"target\": \"RBTools\", \"key\": 0}}, {\"data\": {\"color\": \"blue\", \"source\": \"conan\", \"target\": \"conan\", \"key\": 0}}, {\"data\": {\"color\": \"blue\", \"source\": \"python-gabbi\", \"target\": \"python3-gabbi\", \"key\": 0}}, {\"data\": {\"color\": \"blue\", \"source\": \"python-sphinx-autobuild\", \"target\": \"python3-sphinx-autobuild\", \"key\": 0}}, {\"data\": {\"color\": \"blue\", \"source\": \"python-migen\", \"target\": \"python3-migen\", \"key\": 0}}, {\"data\": {\"color\": \"blue\", \"source\": \"python-spyking-circus\", \"target\": \"python3-spyking-circus\", \"key\": 0}}, {\"data\": {\"color\": \"blue\", \"source\": \"python-cvdupdate\", \"target\": \"python3-cvdupdate\", \"key\": 0}}, {\"data\": {\"color\": \"blue\", \"source\": \"python-interrogate\", \"target\": \"python3-interrogate\", \"key\": 0}}, {\"data\": {\"color\": \"blue\", \"source\": \"azure-cli\", \"target\": \"azure-cli\", \"key\": 0}}, {\"data\": {\"color\": \"blue\", \"source\": \"python-tox\", \"target\": \"tox\", \"key\": 0}}, {\"data\": {\"color\": \"blue\", \"source\": \"wult\", \"target\": \"wult\", \"key\": 0}}, {\"data\": {\"color\": \"blue\", \"source\": \"wult\", \"target\": \"python3-wult\", \"key\": 0}}, {\"data\": {\"color\": \"blue\", \"source\": \"python-pyvirtualize\", \"target\": \"python3-pyvirtualize\", \"key\": 0}}, {\"data\": {\"color\": \"blue\", \"source\": \"xcat\", \"target\": \"xcat\", \"key\": 0}}, {\"data\": {\"color\": \"blue\", \"source\": \"python-howdoi\", \"target\": \"howdoi\", \"key\": 0}}, {\"data\": {\"color\": \"blue\", \"source\": \"tldr\", \"target\": \"tldr\", \"key\": 0}}, {\"data\": {\"color\": \"red\", \"source\": \"pepc\", \"target\": \"wult\", \"key\": 0}}, {\"data\": {\"color\": \"blue\", \"source\": \"pepc\", \"target\": \"pepc\", \"key\": 0}}, {\"data\": {\"color\": \"blue\", \"source\": \"pepc\", \"target\": \"python3-pepc\", \"key\": 0}}, {\"data\": {\"color\": \"green\", \"source\": \"tox\", \"target\": \"python-terminaltables\", \"key\": 0}}, {\"data\": {\"color\": \"green\", \"source\": \"tox\", \"target\": \"python-platformio\", \"key\": 0}}, {\"data\": {\"color\": \"green\", \"source\": \"tox\", \"target\": \"jrnl\", \"key\": 0}}, {\"data\": {\"color\": \"green\", \"source\": \"tox\", \"target\": \"python-aiosmtpd\", \"key\": 0}}, {\"data\": {\"color\": \"green\", \"source\": \"tox\", \"target\": \"thefuck\", \"key\": 0}}, {\"data\": {\"color\": \"green\", \"source\": \"tox\", \"target\": \"python-migen\", \"key\": 0}}, {\"data\": {\"color\": \"green\", \"source\": \"tox\", \"target\": \"python-cvdupdate\", \"key\": 0}}, {\"data\": {\"color\": \"blue\", \"source\": \"python-black\", \"target\": \"black+colorama\", \"key\": 0}}]}}'"
      ]
     },
     "execution_count": 21,
     "metadata": {},
     "output_type": "execute_result"
    }
   ],
   "source": [
    "import json\n",
    "json.dumps(nx.cytoscape_data(sub))"
   ]
  },
  {
   "cell_type": "code",
   "execution_count": null,
   "id": "ced19a0e-c283-4e75-b8e0-3fdb7416d815",
   "metadata": {},
   "outputs": [],
   "source": []
  }
 ],
 "metadata": {
  "kernelspec": {
   "display_name": "Python 3 (ipykernel)",
   "language": "python",
   "name": "python3"
  },
  "language_info": {
   "codemirror_mode": {
    "name": "ipython",
    "version": 3
   },
   "file_extension": ".py",
   "mimetype": "text/x-python",
   "name": "python",
   "nbconvert_exporter": "python",
   "pygments_lexer": "ipython3",
   "version": "3.12.3"
  }
 },
 "nbformat": 4,
 "nbformat_minor": 5
}
